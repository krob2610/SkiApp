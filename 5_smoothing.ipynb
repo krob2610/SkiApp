{
 "cells": [
  {
   "cell_type": "code",
   "execution_count": null,
   "metadata": {
    "metadata": {}
   },
   "outputs": [],
   "source": [
    "from app.Labeler import Labeler\n",
    "import pandas as pd\n",
    "from app.device_namespace import SNESORS_CSV\n",
    "from app.labels_namespace import ORIENTATION, OTHER\n",
    "from app.utils import load_data_for_device\n",
    "import copy"
   ]
  },
  {
   "cell_type": "code",
   "execution_count": null,
   "metadata": {
    "metadata": {}
   },
   "outputs": [],
   "source": [
    "current_date = \"2024-02-25\"\n",
    "labeler = Labeler(date=current_date)"
   ]
  },
  {
   "cell_type": "code",
   "execution_count": null,
   "metadata": {
    "metadata": {}
   },
   "outputs": [],
   "source": [
    "df_dict = load_data_for_device(device_names=list(labeler.folders_dict.keys()),current_date=current_date)"
   ]
  },
  {
   "cell_type": "code",
   "execution_count": null,
   "metadata": {
    "metadata": {}
   },
   "outputs": [],
   "source": [
    "df_dict['HONOR_8X']"
   ]
  },
  {
   "cell_type": "code",
   "execution_count": null,
   "metadata": {
    "metadata": {}
   },
   "outputs": [],
   "source": [
    "honor_data = copy.deepcopy(df_dict['HONOR_8X'])"
   ]
  },
  {
   "cell_type": "code",
   "execution_count": null,
   "metadata": {
    "metadata": {}
   },
   "outputs": [],
   "source": [
    "import math\n",
    "\n",
    "def scale_angle(angle):\n",
    "    scaled_angle = (angle + 2 * math.pi) % (2 * math.pi)\n",
    "    return scaled_angle\n",
    "\n",
    "def data_transformation(dataframe : pd.DataFrame, smoothing = True, scaling = True):\n",
    "    \"\"\"applay transformations such as scaling angels and smoothing (for now only to the orientation data)\"\"\"\n",
    "    large_dict_dict = {}\n",
    "    for key in list(dataframe.keys()):\n",
    "        if key == 'time':\n",
    "            continue\n",
    "        elif key == 'Orientation':\n",
    "            temp = pd.DataFrame(dataframe['Orientation'].tolist(), columns=ORIENTATION)\n",
    "            #scaling\n",
    "            if scaling:\n",
    "                temp = temp.applymap(scale_angle)\n",
    "\n",
    "            #normalizacja\n",
    "            #temp = temp.apply(lambda x: (x - x.min()) / (x.max() - x.min()))\n",
    "            if smoothing:\n",
    "                temp = temp.rolling(window=3, min_periods=1).mean()\n",
    "\n",
    "        else:\n",
    "            temp = pd.DataFrame(dataframe[key].tolist(), columns=OTHER)\n",
    "\n",
    "\n",
    "        temp['time'] = honor_data['time']\n",
    "\n",
    "        large_dict_dict[key] = temp\n",
    "    return large_dict_dict\n"
   ]
  },
  {
   "cell_type": "code",
   "execution_count": null,
   "metadata": {
    "metadata": {}
   },
   "outputs": [],
   "source": [
    "from app.DataTransformer import DataTransformer\n",
    "\n",
    "#smoothed and scaled data\n",
    "honor_smooth_scaled = data_transformation(honor_data)\n",
    "final_smooth_scaled = DataTransformer.prepare_final_df(device_dataframes = honor_smooth_scaled)\n",
    "\n",
    "#smoothed and regular data\n",
    "honor_scaled = data_transformation(honor_data, smoothing=False)\n",
    "final_scaled = DataTransformer.prepare_final_df(device_dataframes = honor_scaled)\n",
    "\n",
    "#regular data\n",
    "honor_regular = data_transformation(honor_data, smoothing=False, scaling=False)\n",
    "final_regular = DataTransformer.prepare_final_df(device_dataframes = honor_regular)\n"
   ]
  },
  {
   "cell_type": "code",
   "execution_count": null,
   "metadata": {
    "metadata": {}
   },
   "outputs": [],
   "source": [
    "from app.visualization_utils import draw_plot\n"
   ]
  },
  {
   "cell_type": "code",
   "execution_count": null,
   "metadata": {
    "metadata": {}
   },
   "outputs": [],
   "source": [
    "final_smooth_scaled"
   ]
  },
  {
   "cell_type": "code",
   "execution_count": null,
   "metadata": {
    "metadata": {}
   },
   "outputs": [],
   "source": [
    "draw_plot(final_smooth_scaled, 'Orientation')"
   ]
  },
  {
   "cell_type": "code",
   "execution_count": null,
   "metadata": {
    "metadata": {}
   },
   "outputs": [],
   "source": [
    "draw_plot(final_scaled, 'Orientation')"
   ]
  },
  {
   "cell_type": "code",
   "execution_count": null,
   "metadata": {
    "metadata": {}
   },
   "outputs": [],
   "source": [
    "draw_plot(final_regular, 'Orientation')"
   ]
  },
  {
   "cell_type": "code",
   "execution_count": null,
   "metadata": {},
   "outputs": [],
   "source": [
    "#visualization next part -\n",
    "----------------------------------------------------------------------------------------------------------------------------------------------------------------"
   ]
  },
  {
   "cell_type": "code",
   "execution_count": null,
   "metadata": {
    "metadata": {}
   },
   "outputs": [],
   "source": [
    "import os\n",
    "import datetime\n",
    "import matplotlib.pyplot as plt\n",
    "from matplotlib.animation import FuncAnimation\n",
    "import pandas as pd\n",
    "\n",
    "def select_data_range(start: str, end: str, df: pd.DataFrame):\n",
    "    \"\"\"Select a range of data from a DataFrame based on the start and end times.\"\"\"\n",
    "    start_time = pd.to_datetime(start).time()\n",
    "    end_time = pd.to_datetime(end).time()\n",
    "\n",
    "    #throw an exception when the start time is greater than the end time\n",
    "    if start_time > end_time:\n",
    "        raise ValueError(\"The start time cannot be greater than the end time.\")\n",
    "\n",
    "\n",
    "    # Select data between start_time and end_time\n",
    "    return df.between_time(start_time, end_time)\n",
    "\n",
    "\n",
    "def draw_plot_plt(df: pd.DataFrame, start: str, end: str,  col: str, output:str, window_size: int = 100):\n",
    "    \"\"\"Function to create a plot for each value in a given column over time.\"\"\"\n",
    "    df_copy = df.copy()\n",
    "    df_copy = select_data_range(df=df_copy, start=start, end=end)\n",
    "    if \"time\" not in df_copy.columns:\n",
    "        df_copy.reset_index(inplace=True)\n",
    "    df_split = df_copy[col].apply(pd.Series)\n",
    "\n",
    "    labels = ORIENTATION if col == \"Orientation\" else OTHER\n",
    "\n",
    "    fig, ax = plt.subplots(figsize=(10, 6))\n",
    "\n",
    "    # Set the y-axis limits\n",
    "    ax.set_ylim(df_split.min().min(), df_split.max().max())\n",
    "\n",
    "    def update(frame):\n",
    "        ax.clear()\n",
    "        for i, (cord, label) in enumerate(zip(df_split.columns, labels)):\n",
    "            if col == \"Orientation\" and i < 4:\n",
    "                continue\n",
    "            ax.plot(\n",
    "                df_copy[\"time\"].iloc[: frame + 1],\n",
    "                df_split[cord].iloc[: frame + 1],\n",
    "                label=f\"{label}\",\n",
    "            )\n",
    "        ax.set_title(f\"{col} over time\")\n",
    "        ax.set_xlabel(\"time\")\n",
    "        ax.set_ylabel(col)\n",
    "        ax.legend()\n",
    "\n",
    "        # Keep the y-axis limits fixed\n",
    "        ax.set_ylim(df_split.min().min(), df_split.max().max())\n",
    "\n",
    "        # Set the x-axis limits to create a moving window of window_size seconds\n",
    "        if frame > window_size:\n",
    "            ax.set_xlim(\n",
    "                df_copy[\"time\"].iloc[frame - window_size], df_copy[\"time\"].iloc[frame]\n",
    "            )\n",
    "\n",
    "    duration = (df_copy[\"time\"].iloc[-1] - df_copy[\"time\"].iloc[0]).total_seconds()\n",
    "\n",
    "    frames = len(df_copy)\n",
    "\n",
    "    # Calculate the duration of one frame of the animation\n",
    "    if frames > 1:\n",
    "        frame_duration = (\n",
    "            df_copy[\"time\"].iloc[1] - df_copy[\"time\"].iloc[0]\n",
    "        ).total_seconds()\n",
    "    else:\n",
    "        frame_duration = duration\n",
    "\n",
    "    # Prepare the animation\n",
    "    ani = FuncAnimation(\n",
    "        fig, update, frames=frames, repeat=False, interval=frame_duration * 1000\n",
    "    )\n",
    "\n",
    "    # Save the animation to a GIF file\n",
    "    file_name = f\"{col}_animation.gif\"\n",
    "    if os.path.exists(file_name):\n",
    "        index = 1\n",
    "        while os.path.exists(f\"{col}_animation_{index}.gif\"):\n",
    "            index += 1\n",
    "        file_name = f\"{col}_animation_{index}.gif\"\n",
    "\n",
    "    ani.save(file_name, writer=\"pillow\", fps=1 / frame_duration)\n",
    "\n",
    "    plt.close()\n",
    "    gif_to_mp4(input=output_path, output=output_path.replace('.gif', '.mp4'))\n",
    "    print(\n",
    "        f\"Animation saved as {file_name}. Please open the file to view the animation.\"\n",
    "    )\n"
   ]
  },
  {
   "cell_type": "code",
   "execution_count": null,
   "metadata": {
    "metadata": {}
   },
   "outputs": [],
   "source": []
  },
  {
   "cell_type": "code",
   "execution_count": null,
   "metadata": {
    "metadata": {}
   },
   "outputs": [],
   "source": [
    "draw_plot_plt(df = final_smooth_scaled, start= \"12:44:56\", end=\"12:45:20\", col = 'Orientation')\n",
    "#draw_plot_plt(df = final_smooth_scaled[65000:66000], col = 'Orientation')"
   ]
  },
  {
   "cell_type": "code",
   "execution_count": null,
   "metadata": {
    "metadata": {}
   },
   "outputs": [],
   "source": [
    "import imageio\n",
    "import numpy as np\n",
    "\n",
    "#Create reader object for the gif\n",
    "\n",
    "def merge_gifs(gif1_path, gif2_path, output_path):\n",
    "    # Create reader objects for the gifs\n",
    "    gif1 = imageio.get_reader(gif1_path)\n",
    "    gif2 = imageio.get_reader(gif2_path)\n",
    "\n",
    "    # If they don't have the same number of frames take the shorter\n",
    "    number_of_frames = min(gif1.get_length(), gif2.get_length())\n",
    "    print(f'number_of_frames: {number_of_frames}, gif1.get_length(): {gif1.get_length()}, gif2.get_length(): {gif2.get_length()}')\n",
    "    # Create writer object\n",
    "    new_gif = imageio.get_writer(output_path)\n",
    "\n",
    "    for frame_number in range(number_of_frames-1):\n",
    "        img1 = gif1.get_next_data()\n",
    "        img2 = gif2.get_next_data()\n",
    "        # Merge images horizontally\n",
    "        new_image = np.hstack((img1, img2))\n",
    "        new_gif.append_data(new_image)\n",
    "\n",
    "    gif1.close()\n",
    "    gif2.close()\n",
    "    new_gif.close()\n",
    "    gif_to_mp4(input=output_path, output=output_path.replace('.gif', '.mp4'))\n",
    "\n",
    "# Example usage:\n",
    "merge_gifs('Orientation_animation_20.gif', 'Orientation_animation_21.gif', 'outputt.gif')"
   ]
  },
  {
   "cell_type": "code",
   "execution_count": null,
   "metadata": {
    "metadata": {}
   },
   "outputs": [],
   "source": []
  },
  {
   "cell_type": "code",
   "execution_count": null,
   "metadata": {
    "metadata": {}
   },
   "outputs": [],
   "source": [
    "def gif_to_mp4(input: str, output: str) -> None:\n",
    "    \"\"\"Convert a GIF file to an MP4 file.\"\"\"\n",
    "    ff = ffmpy.FFmpeg(\n",
    "    inputs={input: None},\n",
    "    outputs={output: None}\n",
    ")\n",
    "    ff.run()"
   ]
  },
  {
   "cell_type": "code",
   "execution_count": null,
   "metadata": {
    "metadata": {}
   },
   "outputs": [],
   "source": [
    "import ffmpy\n",
    "ff = ffmpy.FFmpeg(\n",
    "    inputs={'output.gif': None},\n",
    "    outputs={'output.mp4': None}\n",
    ")\n",
    "ff.run()"
   ]
  },
  {
   "cell_type": "code",
   "execution_count": null,
   "metadata": {
    "metadata": {}
   },
   "outputs": [],
   "source": [
    "ff = ffmpy.FFmpeg(\n",
    "    inputs={'output.mp4': None},\n",
    "    outputs={'outputtemp.gif': None}\n",
    ")\n",
    "ff.run()"
   ]
  },
  {
   "cell_type": "code",
   "execution_count": null,
   "metadata": {
    "metadata": {}
   },
   "outputs": [],
   "source": [
    "def cut_video(start:str, end:str, input_path:str, output_path:str):\n",
    "    ff = ffmpy.FFmpeg(\n",
    "        inputs={input_path: None},\n",
    "        outputs={output_path: f'-ss {start} -to {end}'}\n",
    "    )\n",
    "    ff.run()"
   ]
  },
  {
   "cell_type": "code",
   "execution_count": null,
   "metadata": {
    "metadata": {}
   },
   "outputs": [],
   "source": [
    "cut_video('00:00:00', '00:00:10', 'output.mp4', 'output_cut.mp4')"
   ]
  },
  {
   "cell_type": "code",
   "execution_count": null,
   "metadata": {
    "metadata": {}
   },
   "outputs": [],
   "source": [
    "ff = ffmpy.FFmpeg(\n",
    "    inputs={'output_cut.mp4': None},\n",
    "    outputs={'output_cut.gif': None}\n",
    ")\n",
    "ff.run()"
   ]
  },
  {
   "cell_type": "code",
   "execution_count": null,
   "metadata": {
    "metadata": {}
   },
   "outputs": [],
   "source": [
    "from PIL import Image\n",
    "\n",
    "def merge_gifs(gif1_path, gif2_path, output_path):\n",
    "    \"\"\"Combine two GIFs side by side.\"\"\"\n",
    "    # Create reader objects for the gifs\n",
    "    gif1 = imageio.get_reader(gif1_path)\n",
    "    gif2 = imageio.get_reader(gif2_path)\n",
    "\n",
    "    # If they don't have the same number of frames take the shorter\n",
    "    number_of_frames = min(gif1.get_length(), gif2.get_length())\n",
    "    print(f'number_of_frames: {number_of_frames}, gif1.get_length(): {gif1.get_length()}, gif2.get_length(): {gif2.get_length()}')\n",
    "\n",
    "    # Create writer object\n",
    "    new_gif = imageio.get_writer(output_path)\n",
    "\n",
    "    for frame_number in range(number_of_frames-1):\n",
    "        img1 = gif1.get_next_data()\n",
    "        img2 = gif2.get_next_data()\n",
    "\n",
    "        # Resize the images\n",
    "        img1 = Image.fromarray(img1).resize((200, 200))\n",
    "        img2 = Image.fromarray(img2).resize((200, 200))\n",
    "\n",
    "        # Ensure both images have the same number of channels\n",
    "        if img1.mode != img2.mode:\n",
    "            if img1.mode == 'RGBA':\n",
    "                img1 = img1.convert('RGB')\n",
    "            else:\n",
    "                img2 = img2.convert('RGB')\n",
    "\n",
    "        # Merge images horizontally\n",
    "        new_image = np.hstack((np.array(img1), np.array(img2)))\n",
    "        new_gif.append_data(new_image)\n",
    "\n",
    "    gif1.close()\n",
    "    gif2.close()\n",
    "    new_gif.close()\n",
    "\n",
    "# Example usage:\n",
    "#merge_gifs('Orientation_animation_20.gif', 'output_cut.gif', 'output_merged.gif')"
   ]
  },
  {
   "cell_type": "code",
   "execution_count": null,
   "metadata": {
    "metadata": {}
   },
   "outputs": [],
   "source": [
    "merge_gifs('Orientation_animation_20.gif', 'output_cut.gif', 'output_merged.gif')"
   ]
  },
  {
   "cell_type": "code",
   "execution_count": null,
   "metadata": {
    "metadata": {}
   },
   "outputs": [],
   "source": [
    "ff = ffmpy.FFmpeg(\n",
    "    inputs={'output_merged.gif': None},\n",
    "    outputs={'output_merged.mp4': '-r 24 -c:v libx264'}\n",
    ")\n",
    "ff.run()"
   ]
  },
  {
   "cell_type": "code",
   "execution_count": null,
   "metadata": {
    "metadata": {}
   },
   "outputs": [],
   "source": [
    "# Define the input files\n",
    "input_file1 = 'output.mp4'\n",
    "input_file2 = 'output_cut.mp4'\n",
    "\n",
    "# Define the output file\n",
    "output_file = 'merged_videos.mp4'\n",
    "\n",
    "# Construct the FFmpeg command\n",
    "ff = ffmpy.FFmpeg(\n",
    "    inputs={input_file1: None, input_file2: None},\n",
    "    outputs={output_file: '-filter_complex \"[0:v][1:v]vstack=inputs=2[v]\" -map \"[v]\"'}\n",
    ")\n",
    "\n",
    "# Run FFmpeg command\n",
    "ff.run()\n"
   ]
  },
  {
   "cell_type": "code",
   "execution_count": null,
   "metadata": {},
   "outputs": [],
   "source": [
    "\n",
    "splitLength = 5\n",
    "for i in range(int(videoLength/splitLength)):\n",
    "    start =i*60\n",
    "    length=splitLength*60\n",
    "    os.system(\"ffmpeg -i source-file.foo -ss \" + str(start) + \" -t \" + str(length) + \" clip\"+str(i)+\".m4v\")"
   ]
  },
  {
   "cell_type": "code",
   "execution_count": null,
   "metadata": {},
   "outputs": [],
   "source": []
  },
  {
   "cell_type": "code",
   "execution_count": null,
   "metadata": {
    "metadata": {}
   },
   "outputs": [],
   "source": [
    "from moviepy.editor import VideoFileClip\n",
    "\n",
    "def gif_to_mp4(gif_path, mp4_path, fps=10):\n",
    "    # Wczytaj plik GIF\n",
    "    clip = VideoFileClip(gif_path)\n",
    "\n",
    "    # Ustaw fps, jeśli nie został wcześniej ustawiony\n",
    "    if clip.fps is None:\n",
    "        clip = clip.set_fps(fps)\n",
    "\n",
    "    # Zapisz jako plik MP4\n",
    "    clip.write_videofile(mp4_path, codec='libx264')\n",
    "\n",
    "    # Zwolnij zasoby\n",
    "    clip.close()\n",
    "\n",
    "# Przykładowe użycie funkcji\n",
    "gif_to_mp4('output.gif', 'output.mp4')"
   ]
  },
  {
   "cell_type": "code",
   "execution_count": null,
   "metadata": {
    "metadata": {}
   },
   "outputs": [],
   "source": [
    "out = \"combined.gif\""
   ]
  },
  {
   "cell_type": "code",
   "execution_count": null,
   "metadata": {
    "metadata": {}
   },
   "outputs": [],
   "source": [
    "out[:-3] + 'mp4'"
   ]
  },
  {
   "cell_type": "code",
   "execution_count": null,
   "metadata": {
    "metadata": {}
   },
   "outputs": [],
   "source": [
    "copy___ = final_smooth_scaled.copy()"
   ]
  },
  {
   "cell_type": "code",
   "execution_count": null,
   "metadata": {
    "metadata": {}
   },
   "outputs": [],
   "source": [
    "type(final_smooth_scaled.index[0])"
   ]
  },
  {
   "cell_type": "code",
   "execution_count": null,
   "metadata": {
    "metadata": {}
   },
   "outputs": [],
   "source": [
    "def select_data_range(start: str, end: str, df: pd.DataFrame):\n",
    "    \"\"\"Select a range of data from a DataFrame based on the start and end timestamps.\"\"\"\n",
    "    start_time = pd.Timestamp(start)\n",
    "    end_time = pd.Timestamp(end)\n",
    "\n",
    "    return df[(df[\"time\"] >= start_time) & (df[\"time\"] <= end_time)]"
   ]
  },
  {
   "cell_type": "code",
   "execution_count": null,
   "metadata": {
    "metadata": {}
   },
   "outputs": [],
   "source": [
    "def select_data_range(start: str, end: str, df: pd.DataFrame):\n",
    "    \"\"\"Select a range of data from a DataFrame based on the start and end times.\"\"\"\n",
    "    start_time = pd.to_datetime(start).time()\n",
    "    end_time = pd.to_datetime(end).time()\n",
    "\n",
    "    # Select data between start_time and end_time\n",
    "    return df.between_time(start_time, end_time)\n"
   ]
  },
  {
   "cell_type": "code",
   "execution_count": null,
   "metadata": {
    "metadata": {}
   },
   "outputs": [],
   "source": [
    "final_smooth_scaled"
   ]
  },
  {
   "cell_type": "code",
   "execution_count": null,
   "metadata": {
    "metadata": {}
   },
   "outputs": [],
   "source": [
    "select_data_range(\"12:00:00\", \"12:00:01\", final_smooth_scaled)"
   ]
  },
  {
   "cell_type": "code",
   "execution_count": null,
   "metadata": {
    "metadata": {}
   },
   "outputs": [],
   "source": [
    "final_smooth_scaled.loc['2024-02-25 10:57:19.100000' : '2024-02-25 10:57:19.700000']"
   ]
  },
  {
   "cell_type": "code",
   "execution_count": null,
   "metadata": {
    "metadata": {}
   },
   "outputs": [],
   "source": [
    "final_smooth_scaled[65000:65200]"
   ]
  },
  {
   "cell_type": "code",
   "execution_count": null,
   "metadata": {},
   "outputs": [],
   "source": []
  },
  {
   "cell_type": "code",
   "execution_count": null,
   "metadata": {},
   "outputs": [],
   "source": [
    "import pandas as pd\n",
    "import plotly.graph_objects as go\n",
    "\n",
    "def draw_plot_with_marker(df: pd.DataFrame, col: str, video_time: float):\n",
    "    df_copy = df.copy()\n",
    "    if \"time\" not in df_copy.columns:\n",
    "        df_copy.reset_index(inplace=True)\n",
    "    df_split = df_copy[col].apply(pd.Series)\n",
    "\n",
    "    fig = go.Figure()\n",
    "\n",
    "    labels = ORIENTATION if col == \"Orientation\" else OTHER\n",
    "\n",
    "    for i, (cord, label) in enumerate(zip(df_split.columns, labels)):\n",
    "        if col == \"Orientation\" and i < 4:\n",
    "            continue\n",
    "        fig.add_trace(\n",
    "            go.Scatter(\n",
    "                x=df_copy[\"time\"], y=df_split[cord], mode=\"lines\", name=f\"{label}\"\n",
    "            )\n",
    "        )\n",
    "\n",
    "    # Dodanie kreski wskazującej na wybrany czas w filmie\n",
    "    fig.add_trace(\n",
    "        go.Scatter(\n",
    "            x=[video_time, video_time],\n",
    "            y=[df[col].min(), df[col].max()],\n",
    "            mode=\"lines\",\n",
    "            line=dict(color=\"red\", width=2, dash=\"dash\"),\n",
    "            name=\"Video Time\",\n",
    "        )\n",
    "    )\n",
    "\n",
    "    fig.update_layout(\n",
    "        title=f\"{col} over time\",\n",
    "        xaxis_title=\"Time\",\n",
    "        yaxis_title=col,\n",
    "        showlegend=True,\n",
    "    )\n",
    "\n",
    "    fig.show()\n"
   ]
  },
  {
   "cell_type": "code",
   "execution_count": null,
   "metadata": {},
   "outputs": [],
   "source": [
    "large_dict_dict = {}\n",
    "for key in list(honor_data.keys()):\n",
    "    if key == 'time':\n",
    "        continue\n",
    "    elif key == 'Orientation':\n",
    "        temp = pd.DataFrame(honor_data['Orientation'].tolist(), columns=ORIENTATION)\n",
    "        #temp = temp.applymap(scale_angle)\n",
    "\n",
    "        #normalizacja\n",
    "        #temp = temp.apply(lambda x: (x - x.min()) / (x.max() - x.min()))\n",
    "\n",
    "    else:\n",
    "        temp = pd.DataFrame(honor_data[key].tolist(), columns=OTHER)\n",
    "    temp = temp.rolling(window=3, min_periods=1).mean()\n",
    "\n",
    "    temp['time'] = honor_data['time']\n",
    "\n",
    "    large_dict_dict[key] = temp\n"
   ]
  },
  {
   "cell_type": "code",
   "execution_count": null,
   "metadata": {},
   "outputs": [],
   "source": [
    "from app.DataTransformer import DataTransformer\n",
    "final_regular = DataTransformer.prepare_final_df(device_dataframes = large_dict_dict)"
   ]
  },
  {
   "cell_type": "code",
   "execution_count": null,
   "metadata": {},
   "outputs": [],
   "source": [
    "from app.visualization_utils import draw_plot"
   ]
  },
  {
   "cell_type": "code",
   "execution_count": null,
   "metadata": {
    "metadata": {}
   },
   "outputs": [],
   "source": [
    "import plotly.graph_objects as go\n",
    "\n",
    "def draw_plot(df: pd.DataFrame, col: str):\n",
    "    \"\"\"function that make a plot for each value in given column over time column\n",
    "    example: TotalAcceleration col has values given as a list of 3 like [9.5183687210083, -1.0018105506896973, 0.62888\n",
    "    it should generate a 3 plots with value over time\"\"\"\n",
    "    df_copy = df.copy()\n",
    "    #df_copy[\"time\"] = pd.to_datetime(df_copy[\"time\"])\n",
    "    if 'time' not in df_copy.columns:\n",
    "        df_copy.reset_index(inplace=True)\n",
    "    # df_copy[col] = df_copy[col].str.replace(\"nan\", \"0\").apply(ast.literal_eval)\n",
    "    df_split = df_copy[col].apply(pd.Series)\n",
    "    # df_split = df_split.rename(columns={0: 'X', 1: 'Y', 2: 'Z'})\n",
    "\n",
    "    fig = go.Figure()\n",
    "\n",
    "    labels = ORIENTATION if col == \"Orientation\" else OTHER\n",
    "\n",
    "    for i, (cord, label) in enumerate(zip(df_split.columns, labels)):\n",
    "        if col == \"Orientation\" and i < 4:\n",
    "            continue\n",
    "        fig.add_trace(\n",
    "            go.Scatter(\n",
    "                x=df_copy[\"time\"], y=df_split[cord], mode=\"lines\", name=f\"{label}\"\n",
    "            )\n",
    "        )\n",
    "\n",
    "    fig.update_layout(title=f\"{col} over time\", xaxis_title=\"time\", yaxis_title=col)\n",
    "\n",
    "    fig.show()\n"
   ]
  },
  {
   "cell_type": "code",
   "execution_count": null,
   "metadata": {},
   "outputs": [],
   "source": [
    "#scaled angels\n",
    "draw_plot(final, \"Orientation\")"
   ]
  },
  {
   "cell_type": "code",
   "execution_count": null,
   "metadata": {},
   "outputs": [],
   "source": [
    "#unscaled angels\n",
    "draw_plot(final2, \"Orientation\")"
   ]
  },
  {
   "cell_type": "code",
   "execution_count": null,
   "metadata": {},
   "outputs": [],
   "source": [
    "#normalized\n",
    "draw_plot(final, \"Orientation\")"
   ]
  },
  {
   "cell_type": "code",
   "execution_count": null,
   "metadata": {},
   "outputs": [],
   "source": [
    "draw_plot(honor_data, 'Orientation')"
   ]
  },
  {
   "cell_type": "code",
   "execution_count": null,
   "metadata": {},
   "outputs": [],
   "source": [
    "import pandas as pd\n",
    "import plotly.graph_objects as go\n",
    "import cv2\n",
    "\n",
    "def create_animation(df: pd.DataFrame, col: str, video_path: str, start_time: float, end_time: float):\n",
    "    df_copy = df.copy()\n",
    "    if \"time\" not in df_copy.columns:\n",
    "        df_copy.reset_index(inplace=True)\n",
    "    df_split = df_copy[col].apply(pd.Series)\n",
    "\n",
    "    # Otwórz film za pomocą OpenCV\n",
    "    cap = cv2.VideoCapture(video_path)\n",
    "    frame_width = int(cap.get(cv2.CAP_PROP_FRAME_WIDTH))\n",
    "    frame_height = int(cap.get(cv2.CAP_PROP_FRAME_HEIGHT))\n",
    "\n",
    "    # Utwórz obiekt VideoWriter do zapisywania animacji\n",
    "    out = cv2.VideoWriter('animation.avi', cv2.VideoWriter_fourcc('M', 'J', 'P', 'G'), 30, (2 * frame_width, frame_height))\n",
    "\n",
    "    fig = go.Figure()\n",
    "\n",
    "    labels = [\"X\", \"Y\", \"Z\"]\n",
    "\n",
    "    for cord, label in enumerate(labels):\n",
    "        fig.add_trace(\n",
    "            go.Scatter(\n",
    "                x=df_copy[\"time\"], y=df_split[cord], mode=\"lines\", name=f\"{label}\"\n",
    "            )\n",
    "        )\n",
    "\n",
    "    fig.update_layout(\n",
    "        title=f\"{col} over time\",\n",
    "        xaxis_title=\"Time\",\n",
    "        yaxis_title=col,\n",
    "        showlegend=True,\n",
    "        width=frame_width,\n",
    "        height=frame_height\n",
    "    )\n",
    "\n",
    "    frame_number = 0\n",
    "    start_frame = start_time * 30  # Przelicz czas na liczbę klatek (przy 30 FPS)\n",
    "    end_frame = end_time * 30\n",
    "\n",
    "    while True:\n",
    "        ret, frame = cap.read()\n",
    "        if not ret or frame_number >= end_frame:\n",
    "            break\n",
    "\n",
    "        if frame_number >= start_frame:\n",
    "            # Ustaw bieżący czas w filmie\n",
    "            video_time = frame_number * (1 / 30)  # Czas klatki w sekundach (przy 30 FPS)\n",
    "\n",
    "            # Przygotuj wykres z aktualnym czasem w filmie\n",
    "            fig.update_traces(\n",
    "                go.Scatter(x=[video_time, video_time], y=[df[col].min(), df[col].max()], mode=\"lines\", line=dict(color=\"red\", width=2, dash=\"dash\"), name=\"Video Time\")\n",
    "            )\n",
    "\n",
    "            # Zapisz wykres jako obraz\n",
    "            fig.write_image(f\"frame_{frame_number}.png\")\n",
    "\n",
    "            # Połącz obraz wykresu i klatkę filmu\n",
    "            combined_frame = cv2.imread(f\"frame_{frame_number}.png\")\n",
    "            combined_frame[:, frame_width:] = frame\n",
    "\n",
    "            # Zapisz łączną klatkę do pliku wideo\n",
    "            out.write(combined_frame)\n",
    "\n",
    "        frame_number += 1\n",
    "\n",
    "    cap.release()\n",
    "    out.release()\n",
    "    cv2.destroyAllWindows()\n",
    "\n",
    "# Przykładowe wywołanie funkcji\n",
    "create_animation(df, \"Orientation\", \"movie.mp4\", 30, 60)"
   ]
  },
  {
   "cell_type": "code",
   "execution_count": null,
   "metadata": {},
   "outputs": [],
   "source": [
    "pitch - ? ostre zakrety na krawędzi\n",
    "yaw -"
   ]
  },
  {
   "cell_type": "code",
   "execution_count": null,
   "metadata": {},
   "outputs": [],
   "source": [
    "#normalization\n",
    "final[\"Orientation\"]"
   ]
  },
  {
   "cell_type": "code",
   "execution_count": null,
   "metadata": {},
   "outputs": [],
   "source": [
    "------------------------------"
   ]
  }
 ],
 "metadata": {
  "kernelspec": {
   "display_name": "ski_project",
   "language": "python",
   "name": "python3"
  },
  "language_info": {
   "codemirror_mode": {
    "name": "ipython",
    "version": 3
   },
   "file_extension": ".py",
   "mimetype": "text/x-python",
   "name": "python",
   "nbconvert_exporter": "python",
   "pygments_lexer": "ipython3",
   "version": "3.11.5"
  }
 },
 "nbformat": 4,
 "nbformat_minor": 2
}
