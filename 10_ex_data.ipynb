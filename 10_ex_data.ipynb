{
 "cells": [
  {
   "cell_type": "code",
   "execution_count": null,
   "metadata": {},
   "outputs": [],
   "source": [
    "\n",
    "from app.DataSpliter import GranularDataSplitter\n",
    "from app.DataLoader import DataLoader\n",
    "from app.visualization_utils import draw_plotly\n",
    "\n",
    "from pathlib import Path\n"
   ]
  },
  {
   "cell_type": "markdown",
   "metadata": {},
   "source": [
    "## Data Loading \n",
    "- Load the 2 example data files from the csv's provided \n",
    "\n",
    "At the raw form it contains data from all sensors saved as a string with list of floats inside "
   ]
  },
  {
   "cell_type": "code",
   "execution_count": null,
   "metadata": {},
   "outputs": [],
   "source": [
    "example_folder = Path('example_data')\n",
    "\n",
    "file1 = '2024-02-25_6.csv'\n",
    "file2 = '2024-02-25_25.csv'\n",
    "\n",
    "\n",
    "df1 = DataLoader(example_folder / file1).load_transform_data()\n",
    "df2 = DataLoader(example_folder / file2).load_transform_data()"
   ]
  },
  {
   "cell_type": "code",
   "execution_count": null,
   "metadata": {},
   "outputs": [],
   "source": [
    "df1"
   ]
  },
  {
   "cell_type": "markdown",
   "metadata": {},
   "source": [
    "## Data Splitter\n",
    "- Split the data into dictionary with keys as sensor names and values as dataframes with corresponding data specific values\n"
   ]
  },
  {
   "cell_type": "code",
   "execution_count": null,
   "metadata": {},
   "outputs": [],
   "source": [
    "splitter1 = GranularDataSplitter(df1)\n",
    "splitter1.split_into_granular()\n",
    "df1_orientation = splitter1.granular_data['Orientation']\n",
    "\n",
    "splitter2 = GranularDataSplitter(df2)\n",
    "splitter2.split_into_granular()\n",
    "df2_orientation = splitter2.granular_data['Orientation']\n"
   ]
  },
  {
   "cell_type": "code",
   "execution_count": null,
   "metadata": {},
   "outputs": [],
   "source": [
    "df1_orientation"
   ]
  },
  {
   "cell_type": "markdown",
   "metadata": {},
   "source": [
    "## Visualization"
   ]
  },
  {
   "cell_type": "code",
   "execution_count": null,
   "metadata": {},
   "outputs": [],
   "source": [
    "draw_plotly(df1_orientation, \"Orientation\", granular=True)\n"
   ]
  },
  {
   "cell_type": "code",
   "execution_count": null,
   "metadata": {},
   "outputs": [],
   "source": [
    "draw_plotly(df2_orientation, \"Orientation\", granular=True)\n"
   ]
  }
 ],
 "metadata": {
  "kernelspec": {
   "display_name": "ski_project",
   "language": "python",
   "name": "python3"
  },
  "language_info": {
   "codemirror_mode": {
    "name": "ipython",
    "version": 3
   },
   "file_extension": ".py",
   "mimetype": "text/x-python",
   "name": "python",
   "nbconvert_exporter": "python",
   "pygments_lexer": "ipython3",
   "version": "3.11.5"
  }
 },
 "nbformat": 4,
 "nbformat_minor": 2
}
