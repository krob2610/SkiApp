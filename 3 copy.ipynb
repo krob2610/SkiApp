{
 "cells": [
  {
   "cell_type": "code",
   "execution_count": null,
   "metadata": {},
   "outputs": [],
   "source": [
    "from app.Labeler import Labeler"
   ]
  },
  {
   "cell_type": "code",
   "execution_count": null,
   "metadata": {},
   "outputs": [],
   "source": [
    "current_date = \"2024-02-25\"\n",
    "labeler = Labeler(date=current_date)"
   ]
  },
  {
   "cell_type": "code",
   "execution_count": null,
   "metadata": {},
   "outputs": [],
   "source": [
    "labeler.folders_dict"
   ]
  },
  {
   "cell_type": "code",
   "execution_count": null,
   "metadata": {},
   "outputs": [],
   "source": [
    "import pandas as pd"
   ]
  },
  {
   "cell_type": "code",
   "execution_count": null,
   "metadata": {},
   "outputs": [],
   "source": [
    "from app.device_namespace import SNESORS_CSV\n",
    "from app.labels_namespace import ORIENTATION, OTHER"
   ]
  },
  {
   "cell_type": "code",
   "execution_count": null,
   "metadata": {},
   "outputs": [],
   "source": [
    "ORIENTATION"
   ]
  },
  {
   "cell_type": "code",
   "execution_count": null,
   "metadata": {},
   "outputs": [],
   "source": [
    "SNESORS_CSV"
   ]
  },
  {
   "cell_type": "code",
   "execution_count": null,
   "metadata": {},
   "outputs": [],
   "source": [
    "\n",
    "def load_data_for_device(device_name : str, current_date:str) -> dict:\n",
    "    res = None\n",
    "    try:\n",
    "        res = pd.read_csv(f\"/Users/kuba/SkiApp/data/{current_date}/{device_name}/final_df.csv\")\n",
    "    except FileNotFoundError:\n",
    "        print(f\"The file .csv does not exist in /Users/kuba/SkiApp/data/{current_date}/{device_name}/\")\n",
    "    except pd.errors.EmptyDataError:\n",
    "        print(f\"The file .csv is empty in /Users/kuba/SkiApp/data/{current_date}/{device_name}/\")\n",
    "\n",
    "    return res\n"
   ]
  },
  {
   "cell_type": "code",
   "execution_count": null,
   "metadata": {},
   "outputs": [],
   "source": [
    "df_dict = {}\n",
    "for key in labeler.folders_dict.keys():\n",
    "    df_dict[key] = load_data_for_device(device_name=key, current_date=current_date)\n"
   ]
  },
  {
   "cell_type": "code",
   "execution_count": null,
   "metadata": {},
   "outputs": [],
   "source": [
    "#we have dict of device and datraframes - move it to class implementation\n",
    "df_dict['Sony_Xperia_M5'].head()\n"
   ]
  },
  {
   "cell_type": "code",
   "execution_count": null,
   "metadata": {},
   "outputs": [],
   "source": [
    "df_dict.keys()"
   ]
  },
  {
   "cell_type": "markdown",
   "metadata": {},
   "source": [
    "## Let's plot some results "
   ]
  },
  {
   "cell_type": "code",
   "execution_count": null,
   "metadata": {},
   "outputs": [],
   "source": [
    "import ast\n",
    "import plotly.graph_objects as go\n",
    "\n",
    "def draw_plot(df:pd.DataFrame, col:str):\n",
    "    \"\"\"function that make a plot for each value in given column over time column\n",
    "    example: TotalAcceleration col has values given as a list of 3 like [9.5183687210083, -1.0018105506896973, 0.62888\n",
    "    it should generate a 3 plots with value over time \"\"\"\n",
    "    df_copy = df.copy()\n",
    "    df_copy['time'] = pd.to_datetime(df_copy['time'])\n",
    "\n",
    "    df_copy[col] = df_copy[col].str.replace('nan', '0').apply(ast.literal_eval)\n",
    "    df_split = df_copy[col].apply(pd.Series)\n",
    "    #df_split = df_split.rename(columns={0: 'X', 1: 'Y', 2: 'Z'})\n",
    "\n",
    "    fig = go.Figure()\n",
    "\n",
    "    labels = ORIENTATION if col == \"Orientation\" else OTHER\n",
    "\n",
    "    for cord, label in zip(df_split.columns, labels):\n",
    "        fig.add_trace(go.Scatter(x=df_copy['time'], y=df_split[cord], mode='lines', name=f\"{label}\"))\n",
    "\n",
    "    fig.update_layout(title=f\"{col} over time\", xaxis_title='time', yaxis_title=col)\n",
    "\n",
    "    fig.show()"
   ]
  },
  {
   "cell_type": "code",
   "execution_count": null,
   "metadata": {},
   "outputs": [],
   "source": []
  },
  {
   "cell_type": "markdown",
   "metadata": {},
   "source": [
    "### Lets test data from:\n",
    "* right leg: `HUAWEI_MATE`, \n",
    "* left leg: `HONOR_8X`, \n",
    "* righ upper leg: `LENOVO_K6_NOTE`,\n",
    "* left upper leg: `OPPO_AX7`"
   ]
  },
  {
   "cell_type": "code",
   "execution_count": null,
   "metadata": {},
   "outputs": [],
   "source": [
    "draw_plot(df_dict[\"HUAWEI_MATE\"], 'TotalAcceleration')"
   ]
  },
  {
   "cell_type": "code",
   "execution_count": null,
   "metadata": {},
   "outputs": [],
   "source": [
    "draw_plot(df_dict[\"HONOR_8X\"], 'Orientation')"
   ]
  },
  {
   "cell_type": "code",
   "execution_count": null,
   "metadata": {},
   "outputs": [],
   "source": [
    "draw_plot(df_dict[\"LENOVO_K6_NOTE\"], 'Orientation')"
   ]
  },
  {
   "cell_type": "code",
   "execution_count": null,
   "metadata": {},
   "outputs": [],
   "source": [
    "print(f'{df_dict[\"LENOVO_K6_NOTE\"].shape}\\n{df_dict[\"HUAWEI_MATE\"].shape}')"
   ]
  },
  {
   "cell_type": "code",
   "execution_count": null,
   "metadata": {},
   "outputs": [],
   "source": [
    "draw_plot(df_dict[\"OPPO_AX7\"], 'Orientation')"
   ]
  },
  {
   "cell_type": "code",
   "execution_count": null,
   "metadata": {},
   "outputs": [],
   "source": [
    "df_dict[\"HUAWEI_MATE\"][\"Orientation\"]"
   ]
  },
  {
   "cell_type": "code",
   "execution_count": null,
   "metadata": {},
   "outputs": [],
   "source": []
  }
 ],
 "metadata": {
  "kernelspec": {
   "display_name": "ski_project",
   "language": "python",
   "name": "python3"
  },
  "language_info": {
   "codemirror_mode": {
    "name": "ipython",
    "version": 3
   },
   "file_extension": ".py",
   "mimetype": "text/x-python",
   "name": "python",
   "nbconvert_exporter": "python",
   "pygments_lexer": "ipython3",
   "version": "3.11.5"
  }
 },
 "nbformat": 4,
 "nbformat_minor": 2
}
