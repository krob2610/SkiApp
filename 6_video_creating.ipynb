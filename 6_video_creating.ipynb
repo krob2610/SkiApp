{
 "cells": [
  {
   "cell_type": "code",
   "execution_count": null,
   "metadata": {
    "metadata": {}
   },
   "outputs": [],
   "source": [
    "from app.Labeler import Labeler\n",
    "import pandas as pd\n",
    "from app.device_namespace import SNESORS_CSV\n",
    "from app.labels_namespace import ORIENTATION, OTHER\n",
    "from app.utils import load_data_for_device\n",
    "import copy\n",
    "from app.video_utils import draw_plot_plt, cut_video, merge_videos\n",
    "from app.DataTransformer import DataTransformer\n"
   ]
  },
  {
   "cell_type": "code",
   "execution_count": null,
   "metadata": {
    "metadata": {}
   },
   "outputs": [],
   "source": [
    "current_date = \"2024-02-25\"\n",
    "labeler = Labeler(date=current_date)\n",
    "df_dict = load_data_for_device(device_names=list(labeler.folders_dict.keys()),current_date=current_date)\n",
    "honor_data = copy.deepcopy(df_dict['HONOR_8X'])"
   ]
  },
  {
   "cell_type": "code",
   "execution_count": null,
   "metadata": {},
   "outputs": [],
   "source": [
    "honor_data.index"
   ]
  },
  {
   "cell_type": "code",
   "execution_count": null,
   "metadata": {
    "metadata": {}
   },
   "outputs": [],
   "source": [
    "import math\n",
    "\n",
    "def scale_angle(angle):\n",
    "    scaled_angle = (angle + 2 * math.pi) % (2 * math.pi)\n",
    "    return scaled_angle\n",
    "\n",
    "def data_transformation(dataframe : pd.DataFrame, smoothing = True, scaling = True):\n",
    "    \"\"\"applay transformations such as scaling angels and smoothing (for now only to the orientation data)\"\"\"\n",
    "    large_dict_dict = {}\n",
    "    for key in list(dataframe.keys()):\n",
    "        if key == 'time':\n",
    "            continue\n",
    "        elif key == 'Orientation':\n",
    "            temp = pd.DataFrame(dataframe['Orientation'].tolist(), columns=ORIENTATION)\n",
    "            #scaling\n",
    "            if scaling:\n",
    "                temp = temp.applymap(scale_angle)\n",
    "\n",
    "            #normalizacja\n",
    "            #temp = temp.apply(lambda x: (x - x.min()) / (x.max() - x.min()))\n",
    "            if smoothing:\n",
    "                temp = temp.rolling(window=3, min_periods=1).mean()\n",
    "\n",
    "        else:\n",
    "            temp = pd.DataFrame(dataframe[key].tolist(), columns=OTHER)\n",
    "\n",
    "\n",
    "        temp['time'] = honor_data['time']\n",
    "\n",
    "        large_dict_dict[key] = temp\n",
    "    return large_dict_dict\n",
    "\n",
    "#smoothed and scaled data\n",
    "honor_smooth_scaled = data_transformation(honor_data)\n",
    "final_smooth_scaled = DataTransformer.prepare_final_df(device_dataframes = honor_smooth_scaled)\n"
   ]
  },
  {
   "cell_type": "code",
   "execution_count": null,
   "metadata": {
    "metadata": {}
   },
   "outputs": [],
   "source": [
    "#data need to be 2 sec before the video (12:44:01 - camera time and 12:44:03 - rel time\n",
    "# so if we want to take a movie from 12:46:48 - 12:48:02 data need to be from 12:46:50 - 12:48:04\n",
    "draw_plot_plt(df = final_smooth_scaled, start= \"12:46:50\", end=\"12:48:04\", output= \"sensors_data\", col = 'Orientation')\n"
   ]
  },
  {
   "cell_type": "code",
   "execution_count": null,
   "metadata": {
    "metadata": {}
   },
   "outputs": [],
   "source": [
    "#function that will transfer minute to sec like 2:47\n",
    "def time_to_sec(time):\n",
    "    time = time.split(\":\")\n",
    "    return str(int(time[0])*60 + int(time[1]))"
   ]
  },
  {
   "cell_type": "code",
   "execution_count": null,
   "metadata": {
    "metadata": {}
   },
   "outputs": [],
   "source": [
    "time_to_sec(\"2:47\")"
   ]
  },
  {
   "cell_type": "code",
   "execution_count": null,
   "metadata": {
    "metadata": {}
   },
   "outputs": [],
   "source": [
    "#2:47 - 4:01\n",
    "cut_video(input_path= \"2024_0225_124401_005.MP4\", output_path=\"skiers_data.mp4\" start = time_to_sec(\"2:47\"), end = time_to_sec(\"4:01\"))"
   ]
  }
 ],
 "metadata": {
  "kernelspec": {
   "display_name": "ski_project",
   "language": "python",
   "name": "python3"
  },
  "language_info": {
   "codemirror_mode": {
    "name": "ipython",
    "version": 3
   },
   "file_extension": ".py",
   "mimetype": "text/x-python",
   "name": "python",
   "nbconvert_exporter": "python",
   "pygments_lexer": "ipython3",
   "version": "3.11.5"
  }
 },
 "nbformat": 4,
 "nbformat_minor": 2
}
