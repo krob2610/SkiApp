{
 "cells": [
  {
   "cell_type": "code",
   "execution_count": 1,
   "metadata": {},
   "outputs": [],
   "source": [
    "import pandas as pd\n",
    "from app.DataTransformer import DataTransformer"
   ]
  },
  {
   "cell_type": "code",
   "execution_count": 2,
   "metadata": {},
   "outputs": [
    {
     "name": "stderr",
     "output_type": "stream",
     "text": [
      "Loading dataframes:   0%|          | 0/9 [00:00<?, ?it/s]"
     ]
    },
    {
     "name": "stdout",
     "output_type": "stream",
     "text": [
      "data/2023-12-31/Sony_Xperia_M5/final_df.csv\n"
     ]
    },
    {
     "name": "stderr",
     "output_type": "stream",
     "text": [
      "Loading dataframes:  11%|█         | 1/9 [00:01<00:14,  1.87s/it]"
     ]
    },
    {
     "name": "stdout",
     "output_type": "stream",
     "text": [
      "data/2023-12-31/OPPO_AX7/final_df.csv\n"
     ]
    },
    {
     "name": "stderr",
     "output_type": "stream",
     "text": [
      "Loading dataframes:  22%|██▏       | 2/9 [00:06<00:23,  3.37s/it]"
     ]
    },
    {
     "name": "stdout",
     "output_type": "stream",
     "text": [
      "data/2023-12-31/LENOVO_K6_NOTE/final_df.csv\n"
     ]
    },
    {
     "name": "stderr",
     "output_type": "stream",
     "text": [
      "Loading dataframes:  33%|███▎      | 3/9 [00:15<00:35,  6.00s/it]"
     ]
    },
    {
     "name": "stdout",
     "output_type": "stream",
     "text": [
      "data/2023-12-31/HONOR_8X/final_df.csv\n"
     ]
    },
    {
     "name": "stderr",
     "output_type": "stream",
     "text": [
      "Loading dataframes:  44%|████▍     | 4/9 [00:26<00:40,  8.02s/it]"
     ]
    },
    {
     "name": "stdout",
     "output_type": "stream",
     "text": [
      "data/2023-12-31/HUAWEI_P9_LITE/final_df.csv\n"
     ]
    },
    {
     "name": "stderr",
     "output_type": "stream",
     "text": [
      "Loading dataframes:  56%|█████▌    | 5/9 [00:31<00:27,  6.88s/it]"
     ]
    },
    {
     "name": "stdout",
     "output_type": "stream",
     "text": [
      "data/2023-12-31/Sony_Xperia_XA/final_df.csv\n"
     ]
    },
    {
     "name": "stderr",
     "output_type": "stream",
     "text": [
      "Loading dataframes:  67%|██████▋   | 6/9 [00:33<00:15,  5.23s/it]"
     ]
    },
    {
     "name": "stdout",
     "output_type": "stream",
     "text": [
      "data/2023-12-31/HUAWEI_Y7/final_df.csv\n"
     ]
    },
    {
     "name": "stderr",
     "output_type": "stream",
     "text": [
      "Loading dataframes:  78%|███████▊  | 7/9 [00:35<00:08,  4.23s/it]"
     ]
    },
    {
     "name": "stdout",
     "output_type": "stream",
     "text": [
      "data/2023-12-31/LG_K10/final_df.csv\n"
     ]
    },
    {
     "name": "stderr",
     "output_type": "stream",
     "text": [
      "Loading dataframes:  89%|████████▉ | 8/9 [00:37<00:03,  3.64s/it]"
     ]
    },
    {
     "name": "stdout",
     "output_type": "stream",
     "text": [
      "data/2023-12-31/HUAWEI_MATE/final_df.csv\n"
     ]
    },
    {
     "name": "stderr",
     "output_type": "stream",
     "text": [
      "Loading dataframes: 100%|██████████| 9/9 [00:49<00:00,  5.47s/it]\n"
     ]
    },
    {
     "name": "stdout",
     "output_type": "stream",
     "text": [
      "Empty file: MagnetometerUncalibrated in Sony_Xperia_M5\n",
      "Empty file: Accelerometer in Sony_Xperia_M5\n",
      "Empty file: GyroscopeUncalibrated in OPPO_AX7\n",
      "Empty file: MagnetometerUncalibrated in HUAWEI_P9_LITE\n",
      "Empty file: MagnetometerUncalibrated in Sony_Xperia_XA\n",
      "Empty file: Accelerometer in Sony_Xperia_XA\n",
      "Empty file: MagnetometerUncalibrated in LG_K10\n",
      "Empty file: Accelerometer in LG_K10\n",
      "min_time: 2023-12-31 05:56:14, max_time: 2023-12-31 14:43:00.800000\n",
      "min_time: 2023-12-31 05:55:31.500000, max_time: 2023-12-31 14:42:52.600000\n",
      "min_time: 2023-12-31 05:54:51, max_time: 2023-12-31 14:42:45.300000\n",
      "min_time: 2023-12-31 05:54:50.500000, max_time: 2023-12-31 14:45:18\n",
      "min_time: 2023-12-31 05:57:10.400000, max_time: 2023-12-31 14:43:19.500000\n",
      "min_time: 2023-12-31 05:57:36.400000, max_time: 2023-12-31 14:43:03.300000\n",
      "min_time: 2023-12-31 05:57:10.600000, max_time: 2023-12-31 14:44:04.400000\n",
      "min_time: 2023-12-31 05:55:32, max_time: 2023-12-31 14:43:19\n",
      "min_time: 2023-12-31 05:56:13.700000, max_time: 2023-12-31 14:45:28\n"
     ]
    }
   ],
   "source": [
    "data_transformer = DataTransformer(date='2023-12-31')"
   ]
  },
  {
   "cell_type": "code",
   "execution_count": 4,
   "metadata": {},
   "outputs": [
    {
     "data": {
      "text/plain": [
       "{'TotalAcceleration': PosixPath('data/2023-12-31/Sony_Xperia_XA/TotalAcceleration.csv'),\n",
       " 'Annotation': PosixPath('data/2023-12-31/Sony_Xperia_XA/Annotation.csv'),\n",
       " 'Location': PosixPath('data/2023-12-31/Sony_Xperia_XA/Location.csv'),\n",
       " 'Magnetometer': PosixPath('data/2023-12-31/Sony_Xperia_XA/Magnetometer.csv'),\n",
       " 'MagnetometerUncalibrated': PosixPath('data/2023-12-31/Sony_Xperia_XA/MagnetometerUncalibrated.csv'),\n",
       " 'Accelerometer': PosixPath('data/2023-12-31/Sony_Xperia_XA/Accelerometer.csv'),\n",
       " 'AccelerometerUncalibrated': PosixPath('data/2023-12-31/Sony_Xperia_XA/AccelerometerUncalibrated.csv'),\n",
       " 'Metadata': PosixPath('data/2023-12-31/Sony_Xperia_XA/Metadata.csv'),\n",
       " 'Rules': PosixPath('data/2023-12-31/Sony_Xperia_XA/Rules.csv')}"
      ]
     },
     "execution_count": 4,
     "metadata": {},
     "output_type": "execute_result"
    }
   ],
   "source": [
    "data_transformer.transformed_data_paths['Sony_Xperia_XA']"
   ]
  },
  {
   "cell_type": "code",
   "execution_count": 5,
   "metadata": {},
   "outputs": [
    {
     "data": {
      "text/html": [
       "<div>\n",
       "<style scoped>\n",
       "    .dataframe tbody tr th:only-of-type {\n",
       "        vertical-align: middle;\n",
       "    }\n",
       "\n",
       "    .dataframe tbody tr th {\n",
       "        vertical-align: top;\n",
       "    }\n",
       "\n",
       "    .dataframe thead th {\n",
       "        text-align: right;\n",
       "    }\n",
       "</style>\n",
       "<table border=\"1\" class=\"dataframe\">\n",
       "  <thead>\n",
       "    <tr style=\"text-align: right;\">\n",
       "      <th></th>\n",
       "      <th>time</th>\n",
       "      <th>TotalAcceleration</th>\n",
       "      <th>Magnetometer</th>\n",
       "      <th>Gyroscope</th>\n",
       "      <th>Gravity</th>\n",
       "      <th>MagnetometerUncalibrated</th>\n",
       "      <th>GyroscopeUncalibrated</th>\n",
       "      <th>Accelerometer</th>\n",
       "      <th>Orientation</th>\n",
       "    </tr>\n",
       "  </thead>\n",
       "  <tbody>\n",
       "    <tr>\n",
       "      <th>0</th>\n",
       "      <td>2023-12-31 05:57:36.400</td>\n",
       "      <td>[10.093999862670898, -0.6700000166893005, 0.57...</td>\n",
       "      <td>[-530.733154296875, -224.4134979248047, -482.8...</td>\n",
       "      <td>NaN</td>\n",
       "      <td>NaN</td>\n",
       "      <td>NaN</td>\n",
       "      <td>NaN</td>\n",
       "      <td>NaN</td>\n",
       "      <td>NaN</td>\n",
       "    </tr>\n",
       "    <tr>\n",
       "      <th>1</th>\n",
       "      <td>2023-12-31 05:57:36.500</td>\n",
       "      <td>[9.786999702453612, -1.2829999923706057, -0.42...</td>\n",
       "      <td>[-531.0828857421875, -223.793197631836, -482.7...</td>\n",
       "      <td>NaN</td>\n",
       "      <td>NaN</td>\n",
       "      <td>NaN</td>\n",
       "      <td>NaN</td>\n",
       "      <td>NaN</td>\n",
       "      <td>NaN</td>\n",
       "    </tr>\n",
       "    <tr>\n",
       "      <th>2</th>\n",
       "      <td>2023-12-31 05:57:36.600</td>\n",
       "      <td>[9.786999702453612, -1.2829999923706057, -0.65...</td>\n",
       "      <td>[-531.988037109375, -223.63259887695312, -480....</td>\n",
       "      <td>NaN</td>\n",
       "      <td>NaN</td>\n",
       "      <td>NaN</td>\n",
       "      <td>NaN</td>\n",
       "      <td>NaN</td>\n",
       "      <td>NaN</td>\n",
       "    </tr>\n",
       "    <tr>\n",
       "      <th>3</th>\n",
       "      <td>2023-12-31 05:57:36.700</td>\n",
       "      <td>[10.399999618530272, -0.8230000138282776, -0.7...</td>\n",
       "      <td>[-532.1161499023438, -223.1648101806641, -477....</td>\n",
       "      <td>NaN</td>\n",
       "      <td>NaN</td>\n",
       "      <td>NaN</td>\n",
       "      <td>NaN</td>\n",
       "      <td>NaN</td>\n",
       "      <td>NaN</td>\n",
       "    </tr>\n",
       "    <tr>\n",
       "      <th>4</th>\n",
       "      <td>2023-12-31 05:57:36.800</td>\n",
       "      <td>[9.480999946594238, -0.6700000166893005, 0.190...</td>\n",
       "      <td>[-531.969482421875, -223.91732788085932, -474....</td>\n",
       "      <td>NaN</td>\n",
       "      <td>NaN</td>\n",
       "      <td>NaN</td>\n",
       "      <td>NaN</td>\n",
       "      <td>NaN</td>\n",
       "      <td>NaN</td>\n",
       "    </tr>\n",
       "    <tr>\n",
       "      <th>...</th>\n",
       "      <td>...</td>\n",
       "      <td>...</td>\n",
       "      <td>...</td>\n",
       "      <td>...</td>\n",
       "      <td>...</td>\n",
       "      <td>...</td>\n",
       "      <td>...</td>\n",
       "      <td>...</td>\n",
       "      <td>...</td>\n",
       "    </tr>\n",
       "    <tr>\n",
       "      <th>248376</th>\n",
       "      <td>2023-12-31 14:43:02.900</td>\n",
       "      <td>[8.484999656677246, 3.7730000019073486, -1.417...</td>\n",
       "      <td>[123.00511169433594, -129.00450134277344, 31.6...</td>\n",
       "      <td>NaN</td>\n",
       "      <td>NaN</td>\n",
       "      <td>NaN</td>\n",
       "      <td>NaN</td>\n",
       "      <td>NaN</td>\n",
       "      <td>NaN</td>\n",
       "    </tr>\n",
       "    <tr>\n",
       "      <th>248377</th>\n",
       "      <td>2023-12-31 14:43:03.000</td>\n",
       "      <td>[9.173999786376951, 3.696000099182129, -0.5740...</td>\n",
       "      <td>[123.3179702758789, -129.0509796142578, 31.519...</td>\n",
       "      <td>NaN</td>\n",
       "      <td>NaN</td>\n",
       "      <td>NaN</td>\n",
       "      <td>NaN</td>\n",
       "      <td>NaN</td>\n",
       "      <td>NaN</td>\n",
       "    </tr>\n",
       "    <tr>\n",
       "      <th>248378</th>\n",
       "      <td>2023-12-31 14:43:03.100</td>\n",
       "      <td>[8.791000366210938, 4.078999996185303, -0.8040...</td>\n",
       "      <td>[121.64868927001952, -129.20982360839844, 29.6...</td>\n",
       "      <td>NaN</td>\n",
       "      <td>NaN</td>\n",
       "      <td>NaN</td>\n",
       "      <td>NaN</td>\n",
       "      <td>NaN</td>\n",
       "      <td>NaN</td>\n",
       "    </tr>\n",
       "    <tr>\n",
       "      <th>248379</th>\n",
       "      <td>2023-12-31 14:43:03.200</td>\n",
       "      <td>[8.407999992370605, 4.156000137329102, -0.9570...</td>\n",
       "      <td>[120.90579223632812, -129.63011169433594, 28.6...</td>\n",
       "      <td>NaN</td>\n",
       "      <td>NaN</td>\n",
       "      <td>NaN</td>\n",
       "      <td>NaN</td>\n",
       "      <td>NaN</td>\n",
       "      <td>NaN</td>\n",
       "    </tr>\n",
       "    <tr>\n",
       "      <th>248380</th>\n",
       "      <td>2023-12-31 14:43:03.300</td>\n",
       "      <td>[7.948999881744385, 4.309000015258789, -2.1059...</td>\n",
       "      <td>[121.4294891357422, -130.30726623535156, 28.53...</td>\n",
       "      <td>NaN</td>\n",
       "      <td>NaN</td>\n",
       "      <td>NaN</td>\n",
       "      <td>NaN</td>\n",
       "      <td>NaN</td>\n",
       "      <td>NaN</td>\n",
       "    </tr>\n",
       "  </tbody>\n",
       "</table>\n",
       "<p>248381 rows × 9 columns</p>\n",
       "</div>"
      ],
      "text/plain": [
       "                           time  \\\n",
       "0       2023-12-31 05:57:36.400   \n",
       "1       2023-12-31 05:57:36.500   \n",
       "2       2023-12-31 05:57:36.600   \n",
       "3       2023-12-31 05:57:36.700   \n",
       "4       2023-12-31 05:57:36.800   \n",
       "...                         ...   \n",
       "248376  2023-12-31 14:43:02.900   \n",
       "248377  2023-12-31 14:43:03.000   \n",
       "248378  2023-12-31 14:43:03.100   \n",
       "248379  2023-12-31 14:43:03.200   \n",
       "248380  2023-12-31 14:43:03.300   \n",
       "\n",
       "                                        TotalAcceleration  \\\n",
       "0       [10.093999862670898, -0.6700000166893005, 0.57...   \n",
       "1       [9.786999702453612, -1.2829999923706057, -0.42...   \n",
       "2       [9.786999702453612, -1.2829999923706057, -0.65...   \n",
       "3       [10.399999618530272, -0.8230000138282776, -0.7...   \n",
       "4       [9.480999946594238, -0.6700000166893005, 0.190...   \n",
       "...                                                   ...   \n",
       "248376  [8.484999656677246, 3.7730000019073486, -1.417...   \n",
       "248377  [9.173999786376951, 3.696000099182129, -0.5740...   \n",
       "248378  [8.791000366210938, 4.078999996185303, -0.8040...   \n",
       "248379  [8.407999992370605, 4.156000137329102, -0.9570...   \n",
       "248380  [7.948999881744385, 4.309000015258789, -2.1059...   \n",
       "\n",
       "                                             Magnetometer  Gyroscope  Gravity  \\\n",
       "0       [-530.733154296875, -224.4134979248047, -482.8...        NaN      NaN   \n",
       "1       [-531.0828857421875, -223.793197631836, -482.7...        NaN      NaN   \n",
       "2       [-531.988037109375, -223.63259887695312, -480....        NaN      NaN   \n",
       "3       [-532.1161499023438, -223.1648101806641, -477....        NaN      NaN   \n",
       "4       [-531.969482421875, -223.91732788085932, -474....        NaN      NaN   \n",
       "...                                                   ...        ...      ...   \n",
       "248376  [123.00511169433594, -129.00450134277344, 31.6...        NaN      NaN   \n",
       "248377  [123.3179702758789, -129.0509796142578, 31.519...        NaN      NaN   \n",
       "248378  [121.64868927001952, -129.20982360839844, 29.6...        NaN      NaN   \n",
       "248379  [120.90579223632812, -129.63011169433594, 28.6...        NaN      NaN   \n",
       "248380  [121.4294891357422, -130.30726623535156, 28.53...        NaN      NaN   \n",
       "\n",
       "        MagnetometerUncalibrated  GyroscopeUncalibrated  Accelerometer  \\\n",
       "0                            NaN                    NaN            NaN   \n",
       "1                            NaN                    NaN            NaN   \n",
       "2                            NaN                    NaN            NaN   \n",
       "3                            NaN                    NaN            NaN   \n",
       "4                            NaN                    NaN            NaN   \n",
       "...                          ...                    ...            ...   \n",
       "248376                       NaN                    NaN            NaN   \n",
       "248377                       NaN                    NaN            NaN   \n",
       "248378                       NaN                    NaN            NaN   \n",
       "248379                       NaN                    NaN            NaN   \n",
       "248380                       NaN                    NaN            NaN   \n",
       "\n",
       "        Orientation  \n",
       "0               NaN  \n",
       "1               NaN  \n",
       "2               NaN  \n",
       "3               NaN  \n",
       "4               NaN  \n",
       "...             ...  \n",
       "248376          NaN  \n",
       "248377          NaN  \n",
       "248378          NaN  \n",
       "248379          NaN  \n",
       "248380          NaN  \n",
       "\n",
       "[248381 rows x 9 columns]"
      ]
     },
     "execution_count": 5,
     "metadata": {},
     "output_type": "execute_result"
    }
   ],
   "source": [
    "pd.read_csv('/Users/kuba/SkiApp/data/2023-12-31/Sony_Xperia_XA/final_df.csv')"
   ]
  },
  {
   "cell_type": "code",
   "execution_count": 3,
   "metadata": {},
   "outputs": [
    {
     "ename": "AttributeError",
     "evalue": "'DataTransformer' object has no attribute 'transformed_data'",
     "output_type": "error",
     "traceback": [
      "\u001b[0;31m---------------------------------------------------------------------------\u001b[0m",
      "\u001b[0;31mAttributeError\u001b[0m                            Traceback (most recent call last)",
      "Cell \u001b[0;32mIn[3], line 1\u001b[0m\n\u001b[0;32m----> 1\u001b[0m \u001b[43mdata_transformer\u001b[49m\u001b[38;5;241;43m.\u001b[39;49m\u001b[43mtransformed_data\u001b[49m\n",
      "\u001b[0;31mAttributeError\u001b[0m: 'DataTransformer' object has no attribute 'transformed_data'"
     ]
    }
   ],
   "source": [
    "data_transformer.transformed_data"
   ]
  },
  {
   "cell_type": "code",
   "execution_count": 6,
   "metadata": {},
   "outputs": [
    {
     "data": {
      "text/plain": [
       "{'Magnetometer', 'TotalAcceleration'}"
      ]
     },
     "execution_count": 6,
     "metadata": {},
     "output_type": "execute_result"
    }
   ],
   "source": [
    "set(data_transformer.device_dataframes['Sony_Xperia_M5'].keys())"
   ]
  },
  {
   "cell_type": "code",
   "execution_count": 7,
   "metadata": {},
   "outputs": [
    {
     "data": {
      "text/plain": [
       "['Accelerometer',\n",
       " 'Gravity',\n",
       " 'Gyroscope',\n",
       " 'GyroscopeUncalibrated',\n",
       " 'Magnetometer',\n",
       " 'MagnetometerUncalibrated',\n",
       " 'Orientation',\n",
       " 'TotalAcceleration']"
      ]
     },
     "execution_count": 7,
     "metadata": {},
     "output_type": "execute_result"
    }
   ],
   "source": [
    "from app.device_namespace import FINAL_DF_SENSORS\n",
    "FINAL_DF_SENSORS"
   ]
  },
  {
   "cell_type": "code",
   "execution_count": 8,
   "metadata": {},
   "outputs": [
    {
     "data": {
      "text/plain": [
       "{'Accelerometer',\n",
       " 'Gravity',\n",
       " 'Gyroscope',\n",
       " 'GyroscopeUncalibrated',\n",
       " 'MagnetometerUncalibrated',\n",
       " 'Orientation'}"
      ]
     },
     "execution_count": 8,
     "metadata": {},
     "output_type": "execute_result"
    }
   ],
   "source": [
    "set(FINAL_DF_SENSORS) - set(data_transformer.device_dataframes['Sony_Xperia_M5'].keys())"
   ]
  },
  {
   "cell_type": "code",
   "execution_count": 9,
   "metadata": {},
   "outputs": [
    {
     "data": {
      "text/plain": [
       "['Accelerometer',\n",
       " 'Gravity',\n",
       " 'Gyroscope',\n",
       " 'GyroscopeUncalibrated',\n",
       " 'Magnetometer',\n",
       " 'MagnetometerUncalibrated',\n",
       " 'Orientation',\n",
       " 'TotalAcceleration']"
      ]
     },
     "execution_count": 9,
     "metadata": {},
     "output_type": "execute_result"
    }
   ],
   "source": [
    "FINAL_DF_SENSORS"
   ]
  },
  {
   "cell_type": "code",
   "execution_count": null,
   "metadata": {},
   "outputs": [],
   "source": [
    "from pathlib import Path\n",
    "from app.device_namespace import DATA_PATH\n",
    "def generate_path_for_final_df(date: str, device: str) -> Path:\n",
    "    \"\"\"Generate path for final dataframe\"\"\"\n",
    "    return Path(DATA_PATH, date, device, \"final_df.csv\")"
   ]
  },
  {
   "cell_type": "code",
   "execution_count": null,
   "metadata": {},
   "outputs": [
    {
     "name": "stdout",
     "output_type": "stream",
     "text": [
      "Sony_Xperia_M5\n",
      "data/2023-12-31/Sony_Xperia_M5/final_df.csv\n",
      "\n",
      "OPPO_AX7\n",
      "data/2023-12-31/OPPO_AX7/final_df.csv\n",
      "\n",
      "LENOVO_K6_NOTE\n",
      "data/2023-12-31/LENOVO_K6_NOTE/final_df.csv\n",
      "\n",
      "HONOR_8X\n",
      "data/2023-12-31/HONOR_8X/final_df.csv\n",
      "\n",
      "HUAWEI_P9_LITE\n",
      "data/2023-12-31/HUAWEI_P9_LITE/final_df.csv\n",
      "\n",
      "Sony_Xperia_XA\n",
      "data/2023-12-31/Sony_Xperia_XA/final_df.csv\n",
      "\n",
      "HUAWEI_Y7\n",
      "data/2023-12-31/HUAWEI_Y7/final_df.csv\n",
      "\n",
      "LG_K10\n",
      "data/2023-12-31/LG_K10/final_df.csv\n",
      "\n",
      "HUAWEI_MATE\n",
      "data/2023-12-31/HUAWEI_MATE/final_df.csv\n",
      "\n"
     ]
    }
   ],
   "source": [
    "for device in data_transformer.transformed_data_paths.keys():\n",
    "    print(device)\n",
    "    print(generate_path_for_final_df(data_transformer.date, device))\n",
    "    print()"
   ]
  },
  {
   "cell_type": "code",
   "execution_count": null,
   "metadata": {},
   "outputs": [
    {
     "data": {
      "text/plain": [
       "Timestamp('2023-12-31 05:54:50.400000')"
      ]
     },
     "execution_count": 3,
     "metadata": {},
     "output_type": "execute_result"
    }
   ],
   "source": [
    "data_transformer.device_dataframes['HONOR_8X']['TotalAcceleration']['time'][0]"
   ]
  },
  {
   "cell_type": "code",
   "execution_count": null,
   "metadata": {},
   "outputs": [
    {
     "data": {
      "text/html": [
       "<div>\n",
       "<style scoped>\n",
       "    .dataframe tbody tr th:only-of-type {\n",
       "        vertical-align: middle;\n",
       "    }\n",
       "\n",
       "    .dataframe tbody tr th {\n",
       "        vertical-align: top;\n",
       "    }\n",
       "\n",
       "    .dataframe thead th {\n",
       "        text-align: right;\n",
       "    }\n",
       "</style>\n",
       "<table border=\"1\" class=\"dataframe\">\n",
       "  <thead>\n",
       "    <tr style=\"text-align: right;\">\n",
       "      <th></th>\n",
       "      <th>time</th>\n",
       "      <th>seconds_elapsed</th>\n",
       "      <th>z</th>\n",
       "      <th>y</th>\n",
       "      <th>x</th>\n",
       "    </tr>\n",
       "  </thead>\n",
       "  <tbody>\n",
       "    <tr>\n",
       "      <th>0</th>\n",
       "      <td>2023-12-31 05:54:50.500</td>\n",
       "      <td>0.214354</td>\n",
       "      <td>-32.5625</td>\n",
       "      <td>4.5000</td>\n",
       "      <td>-34.1250</td>\n",
       "    </tr>\n",
       "    <tr>\n",
       "      <th>1</th>\n",
       "      <td>2023-12-31 05:54:50.600</td>\n",
       "      <td>0.313616</td>\n",
       "      <td>-31.0625</td>\n",
       "      <td>5.3750</td>\n",
       "      <td>-35.0625</td>\n",
       "    </tr>\n",
       "    <tr>\n",
       "      <th>2</th>\n",
       "      <td>2023-12-31 05:54:50.700</td>\n",
       "      <td>0.412881</td>\n",
       "      <td>-31.7500</td>\n",
       "      <td>5.0625</td>\n",
       "      <td>-34.3125</td>\n",
       "    </tr>\n",
       "    <tr>\n",
       "      <th>3</th>\n",
       "      <td>2023-12-31 05:54:50.800</td>\n",
       "      <td>0.512143</td>\n",
       "      <td>-25.6250</td>\n",
       "      <td>3.5000</td>\n",
       "      <td>-38.6250</td>\n",
       "    </tr>\n",
       "    <tr>\n",
       "      <th>4</th>\n",
       "      <td>2023-12-31 05:54:50.900</td>\n",
       "      <td>0.611407</td>\n",
       "      <td>-18.1250</td>\n",
       "      <td>-0.7500</td>\n",
       "      <td>-48.1250</td>\n",
       "    </tr>\n",
       "    <tr>\n",
       "      <th>...</th>\n",
       "      <td>...</td>\n",
       "      <td>...</td>\n",
       "      <td>...</td>\n",
       "      <td>...</td>\n",
       "      <td>...</td>\n",
       "    </tr>\n",
       "    <tr>\n",
       "      <th>318271</th>\n",
       "      <td>2023-12-31 14:45:17.600</td>\n",
       "      <td>31827.374873</td>\n",
       "      <td>-24.0625</td>\n",
       "      <td>19.3750</td>\n",
       "      <td>-17.6875</td>\n",
       "    </tr>\n",
       "    <tr>\n",
       "      <th>318272</th>\n",
       "      <td>2023-12-31 14:45:17.700</td>\n",
       "      <td>31827.474137</td>\n",
       "      <td>-25.1250</td>\n",
       "      <td>16.8125</td>\n",
       "      <td>-19.5625</td>\n",
       "    </tr>\n",
       "    <tr>\n",
       "      <th>318273</th>\n",
       "      <td>2023-12-31 14:45:17.800</td>\n",
       "      <td>31827.573399</td>\n",
       "      <td>-25.8125</td>\n",
       "      <td>15.1250</td>\n",
       "      <td>-21.0625</td>\n",
       "    </tr>\n",
       "    <tr>\n",
       "      <th>318274</th>\n",
       "      <td>2023-12-31 14:45:17.900</td>\n",
       "      <td>31827.672662</td>\n",
       "      <td>-24.6250</td>\n",
       "      <td>15.1875</td>\n",
       "      <td>-20.4375</td>\n",
       "    </tr>\n",
       "    <tr>\n",
       "      <th>318275</th>\n",
       "      <td>2023-12-31 14:45:18.000</td>\n",
       "      <td>31827.771927</td>\n",
       "      <td>-25.4375</td>\n",
       "      <td>14.3125</td>\n",
       "      <td>-20.2500</td>\n",
       "    </tr>\n",
       "  </tbody>\n",
       "</table>\n",
       "<p>318276 rows × 5 columns</p>\n",
       "</div>"
      ],
      "text/plain": [
       "                           time  seconds_elapsed        z        y        x\n",
       "0       2023-12-31 05:54:50.500         0.214354 -32.5625   4.5000 -34.1250\n",
       "1       2023-12-31 05:54:50.600         0.313616 -31.0625   5.3750 -35.0625\n",
       "2       2023-12-31 05:54:50.700         0.412881 -31.7500   5.0625 -34.3125\n",
       "3       2023-12-31 05:54:50.800         0.512143 -25.6250   3.5000 -38.6250\n",
       "4       2023-12-31 05:54:50.900         0.611407 -18.1250  -0.7500 -48.1250\n",
       "...                         ...              ...      ...      ...      ...\n",
       "318271  2023-12-31 14:45:17.600     31827.374873 -24.0625  19.3750 -17.6875\n",
       "318272  2023-12-31 14:45:17.700     31827.474137 -25.1250  16.8125 -19.5625\n",
       "318273  2023-12-31 14:45:17.800     31827.573399 -25.8125  15.1250 -21.0625\n",
       "318274  2023-12-31 14:45:17.900     31827.672662 -24.6250  15.1875 -20.4375\n",
       "318275  2023-12-31 14:45:18.000     31827.771927 -25.4375  14.3125 -20.2500\n",
       "\n",
       "[318276 rows x 5 columns]"
      ]
     },
     "execution_count": 9,
     "metadata": {},
     "output_type": "execute_result"
    }
   ],
   "source": [
    "temp = data_transformer.device_dataframes['HONOR_8X']['Magnetometer']\n",
    "temp"
   ]
  },
  {
   "cell_type": "code",
   "execution_count": 28,
   "metadata": {},
   "outputs": [
    {
     "data": {
      "text/plain": [
       "{'TotalAcceleration':                           time  seconds_elapsed          z         y         x\n",
       " 0      2023-12-31 05:54:50.400         0.150336  13.460011 -1.110287  0.457388\n",
       " 1      2023-12-31 05:54:50.600         0.309156   9.518369 -1.001811  0.628880\n",
       " 2      2023-12-31 05:54:50.700         0.408421  10.557539 -2.106658  0.041688\n",
       " 3      2023-12-31 05:54:50.800         0.507683  16.106216 -4.890042  3.783538\n",
       " 4      2023-12-31 05:54:50.900         0.606947   6.553907 -1.044245  4.410512\n",
       " ...                        ...              ...        ...       ...       ...\n",
       " 318271 2023-12-31 14:45:17.600     31827.370413  11.402682  0.781985 -0.588284\n",
       " 318272 2023-12-31 14:45:17.700     31827.469677   9.293515  1.020658 -0.148613\n",
       " 318273 2023-12-31 14:45:17.800     31827.568939   9.599820  1.126616 -0.732980\n",
       " 318274 2023-12-31 14:45:17.900     31827.668202  10.327179  0.314234  0.038393\n",
       " 318275 2023-12-31 14:45:18.000     31827.767468  10.261434  0.415442 -0.427604\n",
       " \n",
       " [318276 rows x 5 columns],\n",
       " 'Orientation':                           time  seconds_elapsed        qz        qy        qx  \\\n",
       " 0      2023-12-31 05:54:50.400         0.130483  0.876108  0.417098  0.023910   \n",
       " 1      2023-12-31 05:54:50.500         0.229746 -0.687967  0.030969 -0.046298   \n",
       " 2      2023-12-31 05:54:50.600         0.329010 -0.679797  0.034070 -0.074509   \n",
       " 3      2023-12-31 05:54:50.700         0.428272 -0.679892  0.053214 -0.069960   \n",
       " 4      2023-12-31 05:54:50.800         0.527536 -0.688405 -0.006166 -0.136464   \n",
       " ...                        ...              ...       ...       ...       ...   \n",
       " 318273 2023-12-31 14:45:17.700     31827.410118 -0.565755 -0.017369  0.030492   \n",
       " 318274 2023-12-31 14:45:17.800     31827.509382 -0.558183 -0.023002  0.052058   \n",
       " 318275 2023-12-31 14:45:17.900     31827.608644 -0.564660 -0.014428  0.045477   \n",
       " 318276 2023-12-31 14:45:18.000     31827.707908 -0.560793 -0.012432  0.036641   \n",
       " 318277 2023-12-31 14:45:18.100     31827.807172 -0.561397 -0.016294  0.044858   \n",
       " \n",
       "               qw      roll     pitch       yaw  \n",
       " 0       0.240606  0.239315 -0.836573 -2.498757  \n",
       " 1       0.723601 -0.019000  0.109835  1.521363  \n",
       " 2       0.728809 -0.052296  0.155554  1.505310  \n",
       " 3       0.728025 -0.017923  0.175118  1.504021  \n",
       " 4       0.712346 -0.201521  0.187018  1.555578  \n",
       " ...          ...       ...       ...       ...  \n",
       " 318273  0.823826  0.005898 -0.069950  1.203749  \n",
       " 318274  0.827763  0.020163 -0.112097  1.187705  \n",
       " 318275  0.823942  0.027701 -0.091362  1.202869  \n",
       " 318276  0.827051  0.020591 -0.074621  1.192470  \n",
       " 318277  0.826168  0.023546 -0.092547  1.194784  \n",
       " \n",
       " [318278 rows x 9 columns],\n",
       " 'Magnetometer':                           time  seconds_elapsed        z        y        x\n",
       " 0      2023-12-31 05:54:50.500         0.214354 -32.5625   4.5000 -34.1250\n",
       " 1      2023-12-31 05:54:50.600         0.313616 -31.0625   5.3750 -35.0625\n",
       " 2      2023-12-31 05:54:50.700         0.412881 -31.7500   5.0625 -34.3125\n",
       " 3      2023-12-31 05:54:50.800         0.512143 -25.6250   3.5000 -38.6250\n",
       " 4      2023-12-31 05:54:50.900         0.611407 -18.1250  -0.7500 -48.1250\n",
       " ...                        ...              ...      ...      ...      ...\n",
       " 318271 2023-12-31 14:45:17.600     31827.374873 -24.0625  19.3750 -17.6875\n",
       " 318272 2023-12-31 14:45:17.700     31827.474137 -25.1250  16.8125 -19.5625\n",
       " 318273 2023-12-31 14:45:17.800     31827.573399 -25.8125  15.1250 -21.0625\n",
       " 318274 2023-12-31 14:45:17.900     31827.672662 -24.6250  15.1875 -20.4375\n",
       " 318275 2023-12-31 14:45:18.000     31827.771927 -25.4375  14.3125 -20.2500\n",
       " \n",
       " [318276 rows x 5 columns],\n",
       " 'GyroscopeUncalibrated':                           time  seconds_elapsed         z         y         x\n",
       " 0      2023-12-31 05:54:50.500         0.210745  0.506041 -0.472286 -0.265744\n",
       " 1      2023-12-31 05:54:50.600         0.310008  0.470820  0.506966 -0.536567\n",
       " 2      2023-12-31 05:54:50.700         0.409272  0.128805 -0.191340  0.164881\n",
       " 3      2023-12-31 05:54:50.800         0.508534 -0.968291 -4.936385 -0.718430\n",
       " 4      2023-12-31 05:54:50.900         0.607798 -0.349048 -1.619316  1.263775\n",
       " ...                        ...              ...       ...       ...       ...\n",
       " 318271 2023-12-31 14:45:17.600     31827.381190  0.002793 -0.381442 -0.214571\n",
       " 318272 2023-12-31 14:45:17.700     31827.480455  0.405911  0.268100  0.356990\n",
       " 318273 2023-12-31 14:45:17.800     31827.579717 -0.209632  0.211429 -0.537492\n",
       " 318274 2023-12-31 14:45:17.900     31827.678979 -0.064368 -0.015464 -0.030543\n",
       " 318275 2023-12-31 14:45:18.000     31827.778245  0.032620 -0.123674  0.259461\n",
       " \n",
       " [318276 rows x 5 columns],\n",
       " 'MagnetometerUncalibrated':                           time  seconds_elapsed        z        y        x\n",
       " 0      2023-12-31 05:54:50.500         0.214354 -42.1875  16.9375   0.2500\n",
       " 1      2023-12-31 05:54:50.600         0.313616 -40.6875  17.8125  -0.6875\n",
       " 2      2023-12-31 05:54:50.700         0.412881 -41.3750  17.5000   0.0625\n",
       " 3      2023-12-31 05:54:50.800         0.512143 -35.2500  15.9375  -4.2500\n",
       " 4      2023-12-31 05:54:50.900         0.611407 -27.7500  11.6875 -13.7500\n",
       " ...                        ...              ...      ...      ...      ...\n",
       " 318269 2023-12-31 14:45:17.600     31827.374873 -41.6250   9.2500 -29.8125\n",
       " 318270 2023-12-31 14:45:17.700     31827.474137 -41.9375  10.8125 -28.7500\n",
       " 318271 2023-12-31 14:45:17.800     31827.573399 -42.6250   9.1250 -30.2500\n",
       " 318272 2023-12-31 14:45:17.900     31827.672662 -41.4375   9.1875 -29.6250\n",
       " 318273 2023-12-31 14:45:18.000     31827.771927 -42.2500   8.3125 -29.4375\n",
       " \n",
       " [318274 rows x 5 columns],\n",
       " 'Accelerometer':                           time  seconds_elapsed       z       y       x\n",
       " 0      2023-12-31 05:54:50.400         0.130483 -0.7738  0.3986  0.3512\n",
       " 1      2023-12-31 05:54:50.500         0.229746  0.6198  0.0158  0.4424\n",
       " 2      2023-12-31 05:54:50.600         0.329010  1.3182  0.1856  0.0329\n",
       " 3      2023-12-31 05:54:50.700         0.428272  0.1515 -0.3017 -0.7320\n",
       " 4      2023-12-31 05:54:50.800         0.527536  5.6615 -0.0006  2.0136\n",
       " ...                        ...              ...     ...     ...     ...\n",
       " 318273 2023-12-31 14:45:17.700     31827.410118  0.8773 -0.1460  0.0773\n",
       " 318274 2023-12-31 14:45:17.800     31827.509382 -1.0838 -1.0969  0.6868\n",
       " 318275 2023-12-31 14:45:17.900     31827.608644  1.5646  0.2722 -0.9553\n",
       " 318276 2023-12-31 14:45:18.000     31827.707908 -0.4315  0.1024 -0.0045\n",
       " 318277 2023-12-31 14:45:18.100     31827.807172  0.0544 -0.0923 -0.2996\n",
       " \n",
       " [318278 rows x 5 columns],\n",
       " 'Gyroscope':                           time  seconds_elapsed         z         y         x\n",
       " 0      2023-12-31 05:54:50.500         0.210745  0.501067 -0.446298 -0.263545\n",
       " 1      2023-12-31 05:54:50.600         0.310008  0.465846  0.532954 -0.534367\n",
       " 2      2023-12-31 05:54:50.700         0.409272  0.123831 -0.165352  0.167080\n",
       " 3      2023-12-31 05:54:50.800         0.508534 -0.973265 -4.910397 -0.716231\n",
       " 4      2023-12-31 05:54:50.900         0.607798 -0.354023 -1.593328  1.265975\n",
       " ...                        ...              ...       ...       ...       ...\n",
       " 318271 2023-12-31 14:45:17.600     31827.371264 -0.035151 -0.396172 -0.436001\n",
       " 318272 2023-12-31 14:45:17.700     31827.470528  0.416732  0.363186  0.371581\n",
       " 318273 2023-12-31 14:45:17.800     31827.569790 -0.260298  0.283476 -0.507821\n",
       " 318274 2023-12-31 14:45:17.900     31827.669053 -0.049899  0.027105 -0.044942\n",
       " 318275 2023-12-31 14:45:18.000     31827.768319  0.086359  0.012182  0.557598\n",
       " \n",
       " [318276 rows x 5 columns],\n",
       " 'Gravity':                           time  seconds_elapsed         z       y       x\n",
       " 0      2023-12-31 05:54:50.400         0.130483  6.383200  7.2799 -1.5574\n",
       " 1      2023-12-31 05:54:50.500         0.229746  9.745700 -1.0749  0.1851\n",
       " 2      2023-12-31 05:54:50.600         0.329010  9.674900 -1.5193  0.5064\n",
       " 3      2023-12-31 05:54:50.700         0.428272  9.655100 -1.7085  0.1730\n",
       " 4      2023-12-31 05:54:50.800         0.527536  9.440599 -1.8233  1.9286\n",
       " ...                        ...              ...       ...     ...     ...\n",
       " 318272 2023-12-31 14:45:17.600     31827.310855  9.673200  1.5693 -0.3688\n",
       " 318273 2023-12-31 14:45:17.700     31827.410118  9.782400  0.6854 -0.0576\n",
       " 318274 2023-12-31 14:45:17.800     31827.509382  9.743100  1.0969 -0.1964\n",
       " 318275 2023-12-31 14:45:17.900     31827.608644  9.762000  0.8947 -0.2704\n",
       " 318276 2023-12-31 14:45:18.000     31827.707908  9.777200  0.7311 -0.2013\n",
       " \n",
       " [318277 rows x 5 columns]}"
      ]
     },
     "execution_count": 28,
     "metadata": {},
     "output_type": "execute_result"
    }
   ],
   "source": [
    "data_transformer.device_dataframes['HONOR_8X']"
   ]
  },
  {
   "cell_type": "code",
   "execution_count": 27,
   "metadata": {},
   "outputs": [],
   "source": [
    "temp = data_transformer.device_dataframes['HONOR_8X']"
   ]
  },
  {
   "cell_type": "code",
   "execution_count": null,
   "metadata": {},
   "outputs": [],
   "source": [
    "temp['time'] = pd.to_datetime(temp['time'])"
   ]
  },
  {
   "cell_type": "code",
   "execution_count": null,
   "metadata": {},
   "outputs": [
    {
     "data": {
      "text/plain": [
       "pandas._libs.tslibs.timestamps.Timestamp"
      ]
     },
     "execution_count": 12,
     "metadata": {},
     "output_type": "execute_result"
    }
   ],
   "source": [
    "type(temp['time'][0])"
   ]
  },
  {
   "cell_type": "code",
   "execution_count": 4,
   "metadata": {},
   "outputs": [],
   "source": [
    "import copy\n",
    "def cut_dataframes_inside_device(device_dataframes: dict,) -> dict:\n",
    "    \"\"\"Cut dataframes to same length\"\"\"\n",
    "    device_dataframes_copy = copy.deepcopy(device_dataframes)\n",
    "    min_time = max_time = None\n",
    "\n",
    "    # Find the global min and max time\n",
    "    for df in device_dataframes_copy.values():\n",
    "        current_min = df['time'].min()\n",
    "        current_max = df['time'].max()\n",
    "        min_time = current_min if min_time is None or current_min > min_time else min_time\n",
    "        max_time = current_max if max_time is None or current_max < max_time else max_time\n",
    "    print(f\"min_time: {min_time}, max_time: {max_time}\")\n",
    "\n",
    "    # Cut each dataframe to the global min and max time\n",
    "    for key, df in device_dataframes_copy.items():\n",
    "        device_dataframes_copy[key] = df[(df['time'] >= min_time) & (df['time'] <= max_time)]\n",
    "\n",
    "    return device_dataframes_copy"
   ]
  },
  {
   "cell_type": "code",
   "execution_count": 5,
   "metadata": {},
   "outputs": [],
   "source": [
    "#TODO: need adjustment for example if the value is missing in the beginign it will put nan\n",
    "def fill_missing_times(device_dataframes: dict) -> dict:\n",
    "    \"\"\"Fill missing times in dataframes\"\"\"\n",
    "    device_dataframes_copy = copy.deepcopy(device_dataframes)\n",
    "    all_times = set()\n",
    "\n",
    "    # Get all unique times\n",
    "    for df in device_dataframes_copy.values():\n",
    "        all_times.update(df['time'].unique())\n",
    "\n",
    "    # Fill missing times and interpolate other columns\n",
    "    for key, df in device_dataframes_copy.items():\n",
    "        unique_times = set(df['time'].unique())\n",
    "        missing_times = all_times - unique_times\n",
    "        if missing_times:\n",
    "            missing_df = pd.DataFrame(missing_times, columns=['time'])\n",
    "            df = pd.concat([df, missing_df])\n",
    "            df.sort_values('time', inplace=True)\n",
    "            df.set_index('time', inplace=True)\n",
    "            df = df.interpolate(method='time')\n",
    "            device_dataframes_copy[key] = df.reset_index()\n",
    "\n",
    "    return device_dataframes_copy"
   ]
  },
  {
   "cell_type": "code",
   "execution_count": 6,
   "metadata": {},
   "outputs": [
    {
     "name": "stdout",
     "output_type": "stream",
     "text": [
      "min_time: 2023-12-31 05:54:50.500000, max_time: 2023-12-31 14:45:18\n"
     ]
    }
   ],
   "source": [
    "new_data = cut_dataframes_inside_device(data_transformer.device_dataframes['HONOR_8X'])"
   ]
  },
  {
   "cell_type": "code",
   "execution_count": 7,
   "metadata": {},
   "outputs": [],
   "source": [
    "filled_missing_time_data = fill_missing_times(new_data)"
   ]
  },
  {
   "cell_type": "code",
   "execution_count": 11,
   "metadata": {},
   "outputs": [
    {
     "name": "stdout",
     "output_type": "stream",
     "text": [
      "new data\n",
      "TotalAcceleration\n",
      "1591375\n",
      "\n",
      "Orientation\n",
      "2864484\n",
      "\n",
      "Magnetometer\n",
      "1591380\n",
      "\n",
      "GyroscopeUncalibrated\n",
      "1591380\n",
      "\n",
      "MagnetometerUncalibrated\n",
      "1591370\n",
      "\n",
      "Accelerometer\n",
      "1591380\n",
      "\n",
      "Gyroscope\n",
      "1591380\n",
      "\n",
      "Gravity\n",
      "1591380\n",
      "\n",
      "filled_missing_time_data\n",
      "TotalAcceleration\n",
      "1591380\n",
      "\n",
      "Orientation\n",
      "2864484\n",
      "\n",
      "Magnetometer\n",
      "1591380\n",
      "\n",
      "GyroscopeUncalibrated\n",
      "1591380\n",
      "\n",
      "MagnetometerUncalibrated\n",
      "1591380\n",
      "\n",
      "Accelerometer\n",
      "1591380\n",
      "\n",
      "Gyroscope\n",
      "1591380\n",
      "\n",
      "Gravity\n",
      "1591380\n",
      "\n"
     ]
    }
   ],
   "source": [
    "print(\"new data\")\n",
    "for key in new_data.keys():\n",
    "    print(key)\n",
    "    print(new_data[key].size)\n",
    "    print()\n",
    "print(\"filled_missing_time_data\")\n",
    "for key in filled_missing_time_data.keys():\n",
    "    print(key)\n",
    "    print(filled_missing_time_data[key].size)\n",
    "    print()"
   ]
  },
  {
   "cell_type": "code",
   "execution_count": 8,
   "metadata": {},
   "outputs": [
    {
     "data": {
      "text/html": [
       "<div>\n",
       "<style scoped>\n",
       "    .dataframe tbody tr th:only-of-type {\n",
       "        vertical-align: middle;\n",
       "    }\n",
       "\n",
       "    .dataframe tbody tr th {\n",
       "        vertical-align: top;\n",
       "    }\n",
       "\n",
       "    .dataframe thead th {\n",
       "        text-align: right;\n",
       "    }\n",
       "</style>\n",
       "<table border=\"1\" class=\"dataframe\">\n",
       "  <thead>\n",
       "    <tr style=\"text-align: right;\">\n",
       "      <th></th>\n",
       "      <th>time</th>\n",
       "      <th>seconds_elapsed</th>\n",
       "      <th>z</th>\n",
       "      <th>y</th>\n",
       "      <th>x</th>\n",
       "    </tr>\n",
       "  </thead>\n",
       "  <tbody>\n",
       "    <tr>\n",
       "      <th>0</th>\n",
       "      <td>2023-12-31 05:54:50.500</td>\n",
       "      <td>NaN</td>\n",
       "      <td>NaN</td>\n",
       "      <td>NaN</td>\n",
       "      <td>NaN</td>\n",
       "    </tr>\n",
       "    <tr>\n",
       "      <th>1</th>\n",
       "      <td>2023-12-31 05:54:50.600</td>\n",
       "      <td>0.309156</td>\n",
       "      <td>9.518369</td>\n",
       "      <td>-1.001811</td>\n",
       "      <td>0.628880</td>\n",
       "    </tr>\n",
       "    <tr>\n",
       "      <th>2</th>\n",
       "      <td>2023-12-31 05:54:50.700</td>\n",
       "      <td>0.408421</td>\n",
       "      <td>10.557539</td>\n",
       "      <td>-2.106658</td>\n",
       "      <td>0.041688</td>\n",
       "    </tr>\n",
       "    <tr>\n",
       "      <th>3</th>\n",
       "      <td>2023-12-31 05:54:50.800</td>\n",
       "      <td>0.507683</td>\n",
       "      <td>16.106216</td>\n",
       "      <td>-4.890042</td>\n",
       "      <td>3.783538</td>\n",
       "    </tr>\n",
       "    <tr>\n",
       "      <th>4</th>\n",
       "      <td>2023-12-31 05:54:50.900</td>\n",
       "      <td>0.606947</td>\n",
       "      <td>6.553907</td>\n",
       "      <td>-1.044245</td>\n",
       "      <td>4.410512</td>\n",
       "    </tr>\n",
       "    <tr>\n",
       "      <th>...</th>\n",
       "      <td>...</td>\n",
       "      <td>...</td>\n",
       "      <td>...</td>\n",
       "      <td>...</td>\n",
       "      <td>...</td>\n",
       "    </tr>\n",
       "    <tr>\n",
       "      <th>318271</th>\n",
       "      <td>2023-12-31 14:45:17.600</td>\n",
       "      <td>31827.370413</td>\n",
       "      <td>11.402682</td>\n",
       "      <td>0.781985</td>\n",
       "      <td>-0.588284</td>\n",
       "    </tr>\n",
       "    <tr>\n",
       "      <th>318272</th>\n",
       "      <td>2023-12-31 14:45:17.700</td>\n",
       "      <td>31827.469677</td>\n",
       "      <td>9.293515</td>\n",
       "      <td>1.020658</td>\n",
       "      <td>-0.148613</td>\n",
       "    </tr>\n",
       "    <tr>\n",
       "      <th>318273</th>\n",
       "      <td>2023-12-31 14:45:17.800</td>\n",
       "      <td>31827.568939</td>\n",
       "      <td>9.599820</td>\n",
       "      <td>1.126616</td>\n",
       "      <td>-0.732980</td>\n",
       "    </tr>\n",
       "    <tr>\n",
       "      <th>318274</th>\n",
       "      <td>2023-12-31 14:45:17.900</td>\n",
       "      <td>31827.668202</td>\n",
       "      <td>10.327179</td>\n",
       "      <td>0.314234</td>\n",
       "      <td>0.038393</td>\n",
       "    </tr>\n",
       "    <tr>\n",
       "      <th>318275</th>\n",
       "      <td>2023-12-31 14:45:18.000</td>\n",
       "      <td>31827.767468</td>\n",
       "      <td>10.261434</td>\n",
       "      <td>0.415442</td>\n",
       "      <td>-0.427604</td>\n",
       "    </tr>\n",
       "  </tbody>\n",
       "</table>\n",
       "<p>318276 rows × 5 columns</p>\n",
       "</div>"
      ],
      "text/plain": [
       "                          time  seconds_elapsed          z         y         x\n",
       "0      2023-12-31 05:54:50.500              NaN        NaN       NaN       NaN\n",
       "1      2023-12-31 05:54:50.600         0.309156   9.518369 -1.001811  0.628880\n",
       "2      2023-12-31 05:54:50.700         0.408421  10.557539 -2.106658  0.041688\n",
       "3      2023-12-31 05:54:50.800         0.507683  16.106216 -4.890042  3.783538\n",
       "4      2023-12-31 05:54:50.900         0.606947   6.553907 -1.044245  4.410512\n",
       "...                        ...              ...        ...       ...       ...\n",
       "318271 2023-12-31 14:45:17.600     31827.370413  11.402682  0.781985 -0.588284\n",
       "318272 2023-12-31 14:45:17.700     31827.469677   9.293515  1.020658 -0.148613\n",
       "318273 2023-12-31 14:45:17.800     31827.568939   9.599820  1.126616 -0.732980\n",
       "318274 2023-12-31 14:45:17.900     31827.668202  10.327179  0.314234  0.038393\n",
       "318275 2023-12-31 14:45:18.000     31827.767468  10.261434  0.415442 -0.427604\n",
       "\n",
       "[318276 rows x 5 columns]"
      ]
     },
     "execution_count": 8,
     "metadata": {},
     "output_type": "execute_result"
    }
   ],
   "source": [
    "filled_missing_time_data['TotalAcceleration']"
   ]
  },
  {
   "cell_type": "code",
   "execution_count": 19,
   "metadata": {},
   "outputs": [],
   "source": [
    "def prepare_final_df(device_dataframes: dict) -> pd.DataFrame:\n",
    "    \"\"\"Prepare final dataframe that merges all dataframes\"\"\"\n",
    "    dfs = []\n",
    "\n",
    "    # For each dataframe, create a single column where the values are lists of the values in the original columns\n",
    "    for key, df in device_dataframes.items():\n",
    "        df = df.drop(columns='seconds_elapsed', errors='ignore')\n",
    "        df.set_index('time', inplace=True)\n",
    "        df[key] = df.values.tolist()\n",
    "        df = df[[key]]  # Keep only the new column\n",
    "        dfs.append(df)\n",
    "\n",
    "    # Merge all dataframes on the index\n",
    "    final_df = pd.concat(dfs, axis=1)\n",
    "\n",
    "    return final_df"
   ]
  },
  {
   "cell_type": "code",
   "execution_count": 20,
   "metadata": {},
   "outputs": [],
   "source": [
    "final = prepare_final_df(filled_missing_time_data)"
   ]
  },
  {
   "cell_type": "code",
   "execution_count": 25,
   "metadata": {},
   "outputs": [
    {
     "data": {
      "text/html": [
       "<div>\n",
       "<style scoped>\n",
       "    .dataframe tbody tr th:only-of-type {\n",
       "        vertical-align: middle;\n",
       "    }\n",
       "\n",
       "    .dataframe tbody tr th {\n",
       "        vertical-align: top;\n",
       "    }\n",
       "\n",
       "    .dataframe thead th {\n",
       "        text-align: right;\n",
       "    }\n",
       "</style>\n",
       "<table border=\"1\" class=\"dataframe\">\n",
       "  <thead>\n",
       "    <tr style=\"text-align: right;\">\n",
       "      <th></th>\n",
       "      <th>TotalAcceleration</th>\n",
       "      <th>Orientation</th>\n",
       "      <th>Magnetometer</th>\n",
       "      <th>GyroscopeUncalibrated</th>\n",
       "      <th>MagnetometerUncalibrated</th>\n",
       "      <th>Accelerometer</th>\n",
       "      <th>Gyroscope</th>\n",
       "      <th>Gravity</th>\n",
       "    </tr>\n",
       "    <tr>\n",
       "      <th>time</th>\n",
       "      <th></th>\n",
       "      <th></th>\n",
       "      <th></th>\n",
       "      <th></th>\n",
       "      <th></th>\n",
       "      <th></th>\n",
       "      <th></th>\n",
       "      <th></th>\n",
       "    </tr>\n",
       "  </thead>\n",
       "  <tbody>\n",
       "    <tr>\n",
       "      <th>2023-12-31 05:54:50.500</th>\n",
       "      <td>[nan, nan, nan]</td>\n",
       "      <td>[-0.6879670023918152, 0.0309689994901418, -0.0...</td>\n",
       "      <td>[-32.5625, 4.5, -34.125]</td>\n",
       "      <td>[0.5060407519340515, -0.4722861051559448, -0.2...</td>\n",
       "      <td>[-42.1875, 16.9375, 0.25]</td>\n",
       "      <td>[0.6197999715805054, 0.0157999992370605, 0.442...</td>\n",
       "      <td>[0.5010665655136108, -0.4462981522083282, -0.2...</td>\n",
       "      <td>[9.745699882507324, -1.0749000310897827, 0.185...</td>\n",
       "    </tr>\n",
       "    <tr>\n",
       "      <th>2023-12-31 05:54:50.600</th>\n",
       "      <td>[9.5183687210083, -1.0018105506896973, 0.62888...</td>\n",
       "      <td>[-0.6797969937324524, 0.034070000052452, -0.07...</td>\n",
       "      <td>[-31.0625, 5.375, -35.0625]</td>\n",
       "      <td>[0.4708200097084045, 0.5069657564163208, -0.53...</td>\n",
       "      <td>[-40.6875, 17.8125, -0.6875]</td>\n",
       "      <td>[1.3181999921798706, 0.185599997639656, 0.0328...</td>\n",
       "      <td>[0.4658458232879638, 0.5329537391662598, -0.53...</td>\n",
       "      <td>[9.67490005493164, -1.5192999839782717, 0.5063...</td>\n",
       "    </tr>\n",
       "    <tr>\n",
       "      <th>2023-12-31 05:54:50.700</th>\n",
       "      <td>[10.557538986206056, -2.1066579818725586, 0.04...</td>\n",
       "      <td>[-0.6798920035362244, 0.0532139986753463, -0.0...</td>\n",
       "      <td>[-31.75, 5.0625, -34.3125]</td>\n",
       "      <td>[0.1288052946329116, -0.1913404464721679, 0.16...</td>\n",
       "      <td>[-41.375, 17.5, 0.0625]</td>\n",
       "      <td>[0.1515000015497207, -0.3016999959945678, -0.7...</td>\n",
       "      <td>[0.123831108212471, -0.1653524935245514, 0.167...</td>\n",
       "      <td>[9.655099868774414, -1.7084999084472656, 0.172...</td>\n",
       "    </tr>\n",
       "    <tr>\n",
       "      <th>2023-12-31 05:54:50.800</th>\n",
       "      <td>[16.106216430664062, -4.890041828155518, 3.783...</td>\n",
       "      <td>[-0.6884049773216248, -0.0061659999191761, -0....</td>\n",
       "      <td>[-25.625, 3.5, -38.625]</td>\n",
       "      <td>[-0.9682912230491638, -4.936384677886963, -0.7...</td>\n",
       "      <td>[-35.25, 15.9375, -4.25]</td>\n",
       "      <td>[5.661499977111816, -0.0005999999702908, 2.013...</td>\n",
       "      <td>[-0.9732654094696044, -4.910396575927734, -0.7...</td>\n",
       "      <td>[9.44059944152832, -1.823300004005432, 1.92859...</td>\n",
       "    </tr>\n",
       "    <tr>\n",
       "      <th>2023-12-31 05:54:50.900</th>\n",
       "      <td>[6.5539069175720215, -1.0442454814910889, 4.41...</td>\n",
       "      <td>[-0.693560004234314, -0.1558039933443069, -0.2...</td>\n",
       "      <td>[-18.125, -0.75, -48.125]</td>\n",
       "      <td>[-0.3490484058856964, -1.6193164587020874, 1.2...</td>\n",
       "      <td>[-27.75, 11.6875, -13.75]</td>\n",
       "      <td>[-0.2728999853134155, 0.2477999925613403, 0.30...</td>\n",
       "      <td>[-0.3540225923061371, -1.5933284759521484, 1.2...</td>\n",
       "      <td>[8.441800117492676, -0.6793000102043152, 4.943...</td>\n",
       "    </tr>\n",
       "    <tr>\n",
       "      <th>...</th>\n",
       "      <td>...</td>\n",
       "      <td>...</td>\n",
       "      <td>...</td>\n",
       "      <td>...</td>\n",
       "      <td>...</td>\n",
       "      <td>...</td>\n",
       "      <td>...</td>\n",
       "      <td>...</td>\n",
       "    </tr>\n",
       "    <tr>\n",
       "      <th>2023-12-31 14:45:17.600</th>\n",
       "      <td>[11.402682304382324, 0.7819845676422119, -0.58...</td>\n",
       "      <td>[-0.5703970193862915, -0.0304760001599788, 0.0...</td>\n",
       "      <td>[-24.0625, 19.375, -17.6875]</td>\n",
       "      <td>[0.0027925267349928, -0.3814417123794555, -0.2...</td>\n",
       "      <td>[-41.625, 9.25, -29.8125]</td>\n",
       "      <td>[1.2512999773025513, -0.2551999986171722, -0.3...</td>\n",
       "      <td>[-0.0351509302854537, -0.396172285079956, -0.4...</td>\n",
       "      <td>[9.673199653625488, 1.5692999362945557, -0.368...</td>\n",
       "    </tr>\n",
       "    <tr>\n",
       "      <th>2023-12-31 14:45:17.700</th>\n",
       "      <td>[9.2935152053833, 1.0206577777862549, -0.14861...</td>\n",
       "      <td>[-0.5657550096511841, -0.0173690002411603, 0.0...</td>\n",
       "      <td>[-25.125, 16.8125, -19.5625]</td>\n",
       "      <td>[0.405911237001419, 0.2681000232696533, 0.3569...</td>\n",
       "      <td>[-41.9375, 10.8125, -28.75]</td>\n",
       "      <td>[0.877299964427948, -0.1459999978542328, 0.077...</td>\n",
       "      <td>[0.4167322516441345, 0.3631855547428131, 0.371...</td>\n",
       "      <td>[9.782400131225586, 0.6854000091552734, -0.057...</td>\n",
       "    </tr>\n",
       "    <tr>\n",
       "      <th>2023-12-31 14:45:17.800</th>\n",
       "      <td>[9.599820137023926, 1.1266156435012815, -0.732...</td>\n",
       "      <td>[-0.5581830143928528, -0.0230020005255937, 0.0...</td>\n",
       "      <td>[-25.8125, 15.125, -21.0625]</td>\n",
       "      <td>[-0.2096315026283264, 0.2114291787147522, -0.5...</td>\n",
       "      <td>[-42.625, 9.125, -30.25]</td>\n",
       "      <td>[-1.083799958229065, -1.0968999862670898, 0.68...</td>\n",
       "      <td>[-0.2602984011173248, 0.2834763824939728, -0.5...</td>\n",
       "      <td>[9.7431001663208, 1.0968999862670898, -0.19640...</td>\n",
       "    </tr>\n",
       "    <tr>\n",
       "      <th>2023-12-31 14:45:17.900</th>\n",
       "      <td>[10.327178955078123, 0.31423419713974, 0.03839...</td>\n",
       "      <td>[-0.5646600127220154, -0.0144279999658465, 0.0...</td>\n",
       "      <td>[-24.625, 15.1875, -20.4375]</td>\n",
       "      <td>[-0.0643677413463592, -0.0154636166989803, -0....</td>\n",
       "      <td>[-41.4375, 9.1875, -29.625]</td>\n",
       "      <td>[1.5645999908447266, 0.2721999883651733, -0.95...</td>\n",
       "      <td>[-0.0498989634215831, 0.0271049626171588, -0.0...</td>\n",
       "      <td>[9.76200008392334, 0.8946999907493591, -0.2703...</td>\n",
       "    </tr>\n",
       "    <tr>\n",
       "      <th>2023-12-31 14:45:18.000</th>\n",
       "      <td>[10.261433601379396, 0.4154418706893921, -0.42...</td>\n",
       "      <td>[-0.5607929825782776, -0.0124319996684789, 0.0...</td>\n",
       "      <td>[-25.4375, 14.3125, -20.25]</td>\n",
       "      <td>[0.0326202027499675, -0.123674027621746, 0.259...</td>\n",
       "      <td>[-42.25, 8.3125, -29.4375]</td>\n",
       "      <td>[-0.4314999878406524, 0.1023999974131584, -0.0...</td>\n",
       "      <td>[0.0863588899374008, 0.0121823977679014, 0.557...</td>\n",
       "      <td>[9.777199745178224, 0.7310999631881714, -0.201...</td>\n",
       "    </tr>\n",
       "  </tbody>\n",
       "</table>\n",
       "<p>318276 rows × 8 columns</p>\n",
       "</div>"
      ],
      "text/plain": [
       "                                                         TotalAcceleration  \\\n",
       "time                                                                         \n",
       "2023-12-31 05:54:50.500                                    [nan, nan, nan]   \n",
       "2023-12-31 05:54:50.600  [9.5183687210083, -1.0018105506896973, 0.62888...   \n",
       "2023-12-31 05:54:50.700  [10.557538986206056, -2.1066579818725586, 0.04...   \n",
       "2023-12-31 05:54:50.800  [16.106216430664062, -4.890041828155518, 3.783...   \n",
       "2023-12-31 05:54:50.900  [6.5539069175720215, -1.0442454814910889, 4.41...   \n",
       "...                                                                    ...   \n",
       "2023-12-31 14:45:17.600  [11.402682304382324, 0.7819845676422119, -0.58...   \n",
       "2023-12-31 14:45:17.700  [9.2935152053833, 1.0206577777862549, -0.14861...   \n",
       "2023-12-31 14:45:17.800  [9.599820137023926, 1.1266156435012815, -0.732...   \n",
       "2023-12-31 14:45:17.900  [10.327178955078123, 0.31423419713974, 0.03839...   \n",
       "2023-12-31 14:45:18.000  [10.261433601379396, 0.4154418706893921, -0.42...   \n",
       "\n",
       "                                                               Orientation  \\\n",
       "time                                                                         \n",
       "2023-12-31 05:54:50.500  [-0.6879670023918152, 0.0309689994901418, -0.0...   \n",
       "2023-12-31 05:54:50.600  [-0.6797969937324524, 0.034070000052452, -0.07...   \n",
       "2023-12-31 05:54:50.700  [-0.6798920035362244, 0.0532139986753463, -0.0...   \n",
       "2023-12-31 05:54:50.800  [-0.6884049773216248, -0.0061659999191761, -0....   \n",
       "2023-12-31 05:54:50.900  [-0.693560004234314, -0.1558039933443069, -0.2...   \n",
       "...                                                                    ...   \n",
       "2023-12-31 14:45:17.600  [-0.5703970193862915, -0.0304760001599788, 0.0...   \n",
       "2023-12-31 14:45:17.700  [-0.5657550096511841, -0.0173690002411603, 0.0...   \n",
       "2023-12-31 14:45:17.800  [-0.5581830143928528, -0.0230020005255937, 0.0...   \n",
       "2023-12-31 14:45:17.900  [-0.5646600127220154, -0.0144279999658465, 0.0...   \n",
       "2023-12-31 14:45:18.000  [-0.5607929825782776, -0.0124319996684789, 0.0...   \n",
       "\n",
       "                                         Magnetometer  \\\n",
       "time                                                    \n",
       "2023-12-31 05:54:50.500      [-32.5625, 4.5, -34.125]   \n",
       "2023-12-31 05:54:50.600   [-31.0625, 5.375, -35.0625]   \n",
       "2023-12-31 05:54:50.700    [-31.75, 5.0625, -34.3125]   \n",
       "2023-12-31 05:54:50.800       [-25.625, 3.5, -38.625]   \n",
       "2023-12-31 05:54:50.900     [-18.125, -0.75, -48.125]   \n",
       "...                                               ...   \n",
       "2023-12-31 14:45:17.600  [-24.0625, 19.375, -17.6875]   \n",
       "2023-12-31 14:45:17.700  [-25.125, 16.8125, -19.5625]   \n",
       "2023-12-31 14:45:17.800  [-25.8125, 15.125, -21.0625]   \n",
       "2023-12-31 14:45:17.900  [-24.625, 15.1875, -20.4375]   \n",
       "2023-12-31 14:45:18.000   [-25.4375, 14.3125, -20.25]   \n",
       "\n",
       "                                                     GyroscopeUncalibrated  \\\n",
       "time                                                                         \n",
       "2023-12-31 05:54:50.500  [0.5060407519340515, -0.4722861051559448, -0.2...   \n",
       "2023-12-31 05:54:50.600  [0.4708200097084045, 0.5069657564163208, -0.53...   \n",
       "2023-12-31 05:54:50.700  [0.1288052946329116, -0.1913404464721679, 0.16...   \n",
       "2023-12-31 05:54:50.800  [-0.9682912230491638, -4.936384677886963, -0.7...   \n",
       "2023-12-31 05:54:50.900  [-0.3490484058856964, -1.6193164587020874, 1.2...   \n",
       "...                                                                    ...   \n",
       "2023-12-31 14:45:17.600  [0.0027925267349928, -0.3814417123794555, -0.2...   \n",
       "2023-12-31 14:45:17.700  [0.405911237001419, 0.2681000232696533, 0.3569...   \n",
       "2023-12-31 14:45:17.800  [-0.2096315026283264, 0.2114291787147522, -0.5...   \n",
       "2023-12-31 14:45:17.900  [-0.0643677413463592, -0.0154636166989803, -0....   \n",
       "2023-12-31 14:45:18.000  [0.0326202027499675, -0.123674027621746, 0.259...   \n",
       "\n",
       "                             MagnetometerUncalibrated  \\\n",
       "time                                                    \n",
       "2023-12-31 05:54:50.500     [-42.1875, 16.9375, 0.25]   \n",
       "2023-12-31 05:54:50.600  [-40.6875, 17.8125, -0.6875]   \n",
       "2023-12-31 05:54:50.700       [-41.375, 17.5, 0.0625]   \n",
       "2023-12-31 05:54:50.800      [-35.25, 15.9375, -4.25]   \n",
       "2023-12-31 05:54:50.900     [-27.75, 11.6875, -13.75]   \n",
       "...                                               ...   \n",
       "2023-12-31 14:45:17.600     [-41.625, 9.25, -29.8125]   \n",
       "2023-12-31 14:45:17.700   [-41.9375, 10.8125, -28.75]   \n",
       "2023-12-31 14:45:17.800      [-42.625, 9.125, -30.25]   \n",
       "2023-12-31 14:45:17.900   [-41.4375, 9.1875, -29.625]   \n",
       "2023-12-31 14:45:18.000    [-42.25, 8.3125, -29.4375]   \n",
       "\n",
       "                                                             Accelerometer  \\\n",
       "time                                                                         \n",
       "2023-12-31 05:54:50.500  [0.6197999715805054, 0.0157999992370605, 0.442...   \n",
       "2023-12-31 05:54:50.600  [1.3181999921798706, 0.185599997639656, 0.0328...   \n",
       "2023-12-31 05:54:50.700  [0.1515000015497207, -0.3016999959945678, -0.7...   \n",
       "2023-12-31 05:54:50.800  [5.661499977111816, -0.0005999999702908, 2.013...   \n",
       "2023-12-31 05:54:50.900  [-0.2728999853134155, 0.2477999925613403, 0.30...   \n",
       "...                                                                    ...   \n",
       "2023-12-31 14:45:17.600  [1.2512999773025513, -0.2551999986171722, -0.3...   \n",
       "2023-12-31 14:45:17.700  [0.877299964427948, -0.1459999978542328, 0.077...   \n",
       "2023-12-31 14:45:17.800  [-1.083799958229065, -1.0968999862670898, 0.68...   \n",
       "2023-12-31 14:45:17.900  [1.5645999908447266, 0.2721999883651733, -0.95...   \n",
       "2023-12-31 14:45:18.000  [-0.4314999878406524, 0.1023999974131584, -0.0...   \n",
       "\n",
       "                                                                 Gyroscope  \\\n",
       "time                                                                         \n",
       "2023-12-31 05:54:50.500  [0.5010665655136108, -0.4462981522083282, -0.2...   \n",
       "2023-12-31 05:54:50.600  [0.4658458232879638, 0.5329537391662598, -0.53...   \n",
       "2023-12-31 05:54:50.700  [0.123831108212471, -0.1653524935245514, 0.167...   \n",
       "2023-12-31 05:54:50.800  [-0.9732654094696044, -4.910396575927734, -0.7...   \n",
       "2023-12-31 05:54:50.900  [-0.3540225923061371, -1.5933284759521484, 1.2...   \n",
       "...                                                                    ...   \n",
       "2023-12-31 14:45:17.600  [-0.0351509302854537, -0.396172285079956, -0.4...   \n",
       "2023-12-31 14:45:17.700  [0.4167322516441345, 0.3631855547428131, 0.371...   \n",
       "2023-12-31 14:45:17.800  [-0.2602984011173248, 0.2834763824939728, -0.5...   \n",
       "2023-12-31 14:45:17.900  [-0.0498989634215831, 0.0271049626171588, -0.0...   \n",
       "2023-12-31 14:45:18.000  [0.0863588899374008, 0.0121823977679014, 0.557...   \n",
       "\n",
       "                                                                   Gravity  \n",
       "time                                                                        \n",
       "2023-12-31 05:54:50.500  [9.745699882507324, -1.0749000310897827, 0.185...  \n",
       "2023-12-31 05:54:50.600  [9.67490005493164, -1.5192999839782717, 0.5063...  \n",
       "2023-12-31 05:54:50.700  [9.655099868774414, -1.7084999084472656, 0.172...  \n",
       "2023-12-31 05:54:50.800  [9.44059944152832, -1.823300004005432, 1.92859...  \n",
       "2023-12-31 05:54:50.900  [8.441800117492676, -0.6793000102043152, 4.943...  \n",
       "...                                                                    ...  \n",
       "2023-12-31 14:45:17.600  [9.673199653625488, 1.5692999362945557, -0.368...  \n",
       "2023-12-31 14:45:17.700  [9.782400131225586, 0.6854000091552734, -0.057...  \n",
       "2023-12-31 14:45:17.800  [9.7431001663208, 1.0968999862670898, -0.19640...  \n",
       "2023-12-31 14:45:17.900  [9.76200008392334, 0.8946999907493591, -0.2703...  \n",
       "2023-12-31 14:45:18.000  [9.777199745178224, 0.7310999631881714, -0.201...  \n",
       "\n",
       "[318276 rows x 8 columns]"
      ]
     },
     "execution_count": 25,
     "metadata": {},
     "output_type": "execute_result"
    }
   ],
   "source": [
    "final"
   ]
  },
  {
   "cell_type": "code",
   "execution_count": 37,
   "metadata": {},
   "outputs": [
    {
     "data": {
      "text/plain": [
       "Index(['time', 'time', 'time', 'time', 'time', 'time', 'time', 'time'], dtype='object')"
      ]
     },
     "execution_count": 37,
     "metadata": {},
     "output_type": "execute_result"
    }
   ],
   "source": [
    "final.columns"
   ]
  },
  {
   "cell_type": "code",
   "execution_count": 26,
   "metadata": {},
   "outputs": [
    {
     "name": "stdout",
     "output_type": "stream",
     "text": [
      "TotalAcceleration\n",
      "1591375\n",
      "\n",
      "Orientation\n",
      "2864475\n",
      "\n",
      "Magnetometer\n",
      "1591375\n",
      "\n",
      "GyroscopeUncalibrated\n",
      "1591375\n",
      "\n",
      "MagnetometerUncalibrated\n",
      "1591375\n",
      "\n",
      "Accelerometer\n",
      "1591375\n",
      "\n",
      "Gyroscope\n",
      "1591375\n",
      "\n",
      "Gravity\n",
      "1591375\n",
      "\n"
     ]
    }
   ],
   "source": [
    "for key in new_data.keys():\n",
    "    print(key)\n",
    "    print(new_data[key].size)\n",
    "    print()\n"
   ]
  },
  {
   "cell_type": "code",
   "execution_count": 27,
   "metadata": {},
   "outputs": [
    {
     "name": "stdout",
     "output_type": "stream",
     "text": [
      "TotalAcceleration\n",
      "1591375\n",
      "\n",
      "Orientation\n",
      "2864475\n",
      "\n",
      "Magnetometer\n",
      "1591375\n",
      "\n",
      "GyroscopeUncalibrated\n",
      "1591375\n",
      "\n",
      "MagnetometerUncalibrated\n",
      "1591375\n",
      "\n",
      "Accelerometer\n",
      "1591375\n",
      "\n",
      "Gyroscope\n",
      "1591375\n",
      "\n",
      "Gravity\n",
      "1591375\n",
      "\n"
     ]
    }
   ],
   "source": [
    "\n",
    "for key in filled_missing_time_data.keys():\n",
    "    print(key)\n",
    "    print(filled_missing_time_data[key].size)\n",
    "    print()"
   ]
  },
  {
   "cell_type": "code",
   "execution_count": 17,
   "metadata": {},
   "outputs": [
    {
     "data": {
      "text/html": [
       "<div>\n",
       "<style scoped>\n",
       "    .dataframe tbody tr th:only-of-type {\n",
       "        vertical-align: middle;\n",
       "    }\n",
       "\n",
       "    .dataframe tbody tr th {\n",
       "        vertical-align: top;\n",
       "    }\n",
       "\n",
       "    .dataframe thead th {\n",
       "        text-align: right;\n",
       "    }\n",
       "</style>\n",
       "<table border=\"1\" class=\"dataframe\">\n",
       "  <thead>\n",
       "    <tr style=\"text-align: right;\">\n",
       "      <th></th>\n",
       "      <th>time</th>\n",
       "      <th>seconds_elapsed</th>\n",
       "      <th>z</th>\n",
       "      <th>y</th>\n",
       "      <th>x</th>\n",
       "    </tr>\n",
       "  </thead>\n",
       "  <tbody>\n",
       "    <tr>\n",
       "      <th>1</th>\n",
       "      <td>2023-12-31 05:54:50.600</td>\n",
       "      <td>0.313616</td>\n",
       "      <td>-31.0625</td>\n",
       "      <td>5.3750</td>\n",
       "      <td>-35.0625</td>\n",
       "    </tr>\n",
       "    <tr>\n",
       "      <th>2</th>\n",
       "      <td>2023-12-31 05:54:50.700</td>\n",
       "      <td>0.412881</td>\n",
       "      <td>-31.7500</td>\n",
       "      <td>5.0625</td>\n",
       "      <td>-34.3125</td>\n",
       "    </tr>\n",
       "    <tr>\n",
       "      <th>3</th>\n",
       "      <td>2023-12-31 05:54:50.800</td>\n",
       "      <td>0.512143</td>\n",
       "      <td>-25.6250</td>\n",
       "      <td>3.5000</td>\n",
       "      <td>-38.6250</td>\n",
       "    </tr>\n",
       "    <tr>\n",
       "      <th>4</th>\n",
       "      <td>2023-12-31 05:54:50.900</td>\n",
       "      <td>0.611407</td>\n",
       "      <td>-18.1250</td>\n",
       "      <td>-0.7500</td>\n",
       "      <td>-48.1250</td>\n",
       "    </tr>\n",
       "    <tr>\n",
       "      <th>5</th>\n",
       "      <td>2023-12-31 05:54:51.000</td>\n",
       "      <td>0.710670</td>\n",
       "      <td>-15.5625</td>\n",
       "      <td>-1.1250</td>\n",
       "      <td>-60.0000</td>\n",
       "    </tr>\n",
       "    <tr>\n",
       "      <th>...</th>\n",
       "      <td>...</td>\n",
       "      <td>...</td>\n",
       "      <td>...</td>\n",
       "      <td>...</td>\n",
       "      <td>...</td>\n",
       "    </tr>\n",
       "    <tr>\n",
       "      <th>318271</th>\n",
       "      <td>2023-12-31 14:45:17.600</td>\n",
       "      <td>31827.374873</td>\n",
       "      <td>-24.0625</td>\n",
       "      <td>19.3750</td>\n",
       "      <td>-17.6875</td>\n",
       "    </tr>\n",
       "    <tr>\n",
       "      <th>318272</th>\n",
       "      <td>2023-12-31 14:45:17.700</td>\n",
       "      <td>31827.474137</td>\n",
       "      <td>-25.1250</td>\n",
       "      <td>16.8125</td>\n",
       "      <td>-19.5625</td>\n",
       "    </tr>\n",
       "    <tr>\n",
       "      <th>318273</th>\n",
       "      <td>2023-12-31 14:45:17.800</td>\n",
       "      <td>31827.573399</td>\n",
       "      <td>-25.8125</td>\n",
       "      <td>15.1250</td>\n",
       "      <td>-21.0625</td>\n",
       "    </tr>\n",
       "    <tr>\n",
       "      <th>318274</th>\n",
       "      <td>2023-12-31 14:45:17.900</td>\n",
       "      <td>31827.672662</td>\n",
       "      <td>-24.6250</td>\n",
       "      <td>15.1875</td>\n",
       "      <td>-20.4375</td>\n",
       "    </tr>\n",
       "    <tr>\n",
       "      <th>318275</th>\n",
       "      <td>2023-12-31 14:45:18.000</td>\n",
       "      <td>31827.771927</td>\n",
       "      <td>-25.4375</td>\n",
       "      <td>14.3125</td>\n",
       "      <td>-20.2500</td>\n",
       "    </tr>\n",
       "  </tbody>\n",
       "</table>\n",
       "<p>318275 rows × 5 columns</p>\n",
       "</div>"
      ],
      "text/plain": [
       "                          time  seconds_elapsed        z        y        x\n",
       "1      2023-12-31 05:54:50.600         0.313616 -31.0625   5.3750 -35.0625\n",
       "2      2023-12-31 05:54:50.700         0.412881 -31.7500   5.0625 -34.3125\n",
       "3      2023-12-31 05:54:50.800         0.512143 -25.6250   3.5000 -38.6250\n",
       "4      2023-12-31 05:54:50.900         0.611407 -18.1250  -0.7500 -48.1250\n",
       "5      2023-12-31 05:54:51.000         0.710670 -15.5625  -1.1250 -60.0000\n",
       "...                        ...              ...      ...      ...      ...\n",
       "318271 2023-12-31 14:45:17.600     31827.374873 -24.0625  19.3750 -17.6875\n",
       "318272 2023-12-31 14:45:17.700     31827.474137 -25.1250  16.8125 -19.5625\n",
       "318273 2023-12-31 14:45:17.800     31827.573399 -25.8125  15.1250 -21.0625\n",
       "318274 2023-12-31 14:45:17.900     31827.672662 -24.6250  15.1875 -20.4375\n",
       "318275 2023-12-31 14:45:18.000     31827.771927 -25.4375  14.3125 -20.2500\n",
       "\n",
       "[318275 rows x 5 columns]"
      ]
     },
     "execution_count": 17,
     "metadata": {},
     "output_type": "execute_result"
    }
   ],
   "source": [
    "new_data['Magnetometer']"
   ]
  },
  {
   "cell_type": "code",
   "execution_count": 15,
   "metadata": {},
   "outputs": [
    {
     "data": {
      "text/plain": [
       "PosixPath('data/2023-12-31/Sony_Xperia_M5/TotalAcceleration.csv')"
      ]
     },
     "execution_count": 15,
     "metadata": {},
     "output_type": "execute_result"
    }
   ],
   "source": [
    "list(data_transformer.transformed_data['Sony_Xperia_M5'].values())[0]"
   ]
  },
  {
   "cell_type": "code",
   "execution_count": 18,
   "metadata": {},
   "outputs": [
    {
     "data": {
      "text/plain": [
       "{'TotalAcceleration': PosixPath('data/2023-12-31/Sony_Xperia_M5/TotalAcceleration.csv'),\n",
       " 'Annotation': PosixPath('data/2023-12-31/Sony_Xperia_M5/Annotation.csv'),\n",
       " 'Location': PosixPath('data/2023-12-31/Sony_Xperia_M5/Location.csv'),\n",
       " 'Magnetometer': PosixPath('data/2023-12-31/Sony_Xperia_M5/Magnetometer.csv'),\n",
       " 'MagnetometerUncalibrated': PosixPath('data/2023-12-31/Sony_Xperia_M5/MagnetometerUncalibrated.csv'),\n",
       " 'Accelerometer': PosixPath('data/2023-12-31/Sony_Xperia_M5/Accelerometer.csv'),\n",
       " 'AccelerometerUncalibrated': PosixPath('data/2023-12-31/Sony_Xperia_M5/AccelerometerUncalibrated.csv'),\n",
       " 'Metadata': PosixPath('data/2023-12-31/Sony_Xperia_M5/Metadata.csv'),\n",
       " 'Rules': PosixPath('data/2023-12-31/Sony_Xperia_M5/Rules.csv')}"
      ]
     },
     "execution_count": 18,
     "metadata": {},
     "output_type": "execute_result"
    }
   ],
   "source": [
    "data_transformer.transformed_data['Sony_Xperia_M5']"
   ]
  },
  {
   "cell_type": "code",
   "execution_count": 19,
   "metadata": {},
   "outputs": [
    {
     "ename": "EmptyDataError",
     "evalue": "No columns to parse from file",
     "output_type": "error",
     "traceback": [
      "\u001b[0;31m---------------------------------------------------------------------------\u001b[0m",
      "\u001b[0;31mEmptyDataError\u001b[0m                            Traceback (most recent call last)",
      "Cell \u001b[0;32mIn[19], line 1\u001b[0m\n\u001b[0;32m----> 1\u001b[0m \u001b[43mpd\u001b[49m\u001b[38;5;241;43m.\u001b[39;49m\u001b[43mread_csv\u001b[49m\u001b[43m(\u001b[49m\u001b[38;5;124;43m'\u001b[39;49m\u001b[38;5;124;43mdata/2023-12-31/Sony_Xperia_M5/Rules.csv\u001b[39;49m\u001b[38;5;124;43m'\u001b[39;49m\u001b[43m)\u001b[49m\n",
      "File \u001b[0;32m~/opt/miniconda3/envs/ski_project/lib/python3.11/site-packages/pandas/util/_decorators.py:211\u001b[0m, in \u001b[0;36mdeprecate_kwarg.<locals>._deprecate_kwarg.<locals>.wrapper\u001b[0;34m(*args, **kwargs)\u001b[0m\n\u001b[1;32m    209\u001b[0m     \u001b[38;5;28;01melse\u001b[39;00m:\n\u001b[1;32m    210\u001b[0m         kwargs[new_arg_name] \u001b[38;5;241m=\u001b[39m new_arg_value\n\u001b[0;32m--> 211\u001b[0m \u001b[38;5;28;01mreturn\u001b[39;00m \u001b[43mfunc\u001b[49m\u001b[43m(\u001b[49m\u001b[38;5;241;43m*\u001b[39;49m\u001b[43margs\u001b[49m\u001b[43m,\u001b[49m\u001b[43m \u001b[49m\u001b[38;5;241;43m*\u001b[39;49m\u001b[38;5;241;43m*\u001b[39;49m\u001b[43mkwargs\u001b[49m\u001b[43m)\u001b[49m\n",
      "File \u001b[0;32m~/opt/miniconda3/envs/ski_project/lib/python3.11/site-packages/pandas/util/_decorators.py:331\u001b[0m, in \u001b[0;36mdeprecate_nonkeyword_arguments.<locals>.decorate.<locals>.wrapper\u001b[0;34m(*args, **kwargs)\u001b[0m\n\u001b[1;32m    325\u001b[0m \u001b[38;5;28;01mif\u001b[39;00m \u001b[38;5;28mlen\u001b[39m(args) \u001b[38;5;241m>\u001b[39m num_allow_args:\n\u001b[1;32m    326\u001b[0m     warnings\u001b[38;5;241m.\u001b[39mwarn(\n\u001b[1;32m    327\u001b[0m         msg\u001b[38;5;241m.\u001b[39mformat(arguments\u001b[38;5;241m=\u001b[39m_format_argument_list(allow_args)),\n\u001b[1;32m    328\u001b[0m         \u001b[38;5;167;01mFutureWarning\u001b[39;00m,\n\u001b[1;32m    329\u001b[0m         stacklevel\u001b[38;5;241m=\u001b[39mfind_stack_level(),\n\u001b[1;32m    330\u001b[0m     )\n\u001b[0;32m--> 331\u001b[0m \u001b[38;5;28;01mreturn\u001b[39;00m \u001b[43mfunc\u001b[49m\u001b[43m(\u001b[49m\u001b[38;5;241;43m*\u001b[39;49m\u001b[43margs\u001b[49m\u001b[43m,\u001b[49m\u001b[43m \u001b[49m\u001b[38;5;241;43m*\u001b[39;49m\u001b[38;5;241;43m*\u001b[39;49m\u001b[43mkwargs\u001b[49m\u001b[43m)\u001b[49m\n",
      "File \u001b[0;32m~/opt/miniconda3/envs/ski_project/lib/python3.11/site-packages/pandas/io/parsers/readers.py:950\u001b[0m, in \u001b[0;36mread_csv\u001b[0;34m(filepath_or_buffer, sep, delimiter, header, names, index_col, usecols, squeeze, prefix, mangle_dupe_cols, dtype, engine, converters, true_values, false_values, skipinitialspace, skiprows, skipfooter, nrows, na_values, keep_default_na, na_filter, verbose, skip_blank_lines, parse_dates, infer_datetime_format, keep_date_col, date_parser, dayfirst, cache_dates, iterator, chunksize, compression, thousands, decimal, lineterminator, quotechar, quoting, doublequote, escapechar, comment, encoding, encoding_errors, dialect, error_bad_lines, warn_bad_lines, on_bad_lines, delim_whitespace, low_memory, memory_map, float_precision, storage_options)\u001b[0m\n\u001b[1;32m    935\u001b[0m kwds_defaults \u001b[38;5;241m=\u001b[39m _refine_defaults_read(\n\u001b[1;32m    936\u001b[0m     dialect,\n\u001b[1;32m    937\u001b[0m     delimiter,\n\u001b[0;32m   (...)\u001b[0m\n\u001b[1;32m    946\u001b[0m     defaults\u001b[38;5;241m=\u001b[39m{\u001b[38;5;124m\"\u001b[39m\u001b[38;5;124mdelimiter\u001b[39m\u001b[38;5;124m\"\u001b[39m: \u001b[38;5;124m\"\u001b[39m\u001b[38;5;124m,\u001b[39m\u001b[38;5;124m\"\u001b[39m},\n\u001b[1;32m    947\u001b[0m )\n\u001b[1;32m    948\u001b[0m kwds\u001b[38;5;241m.\u001b[39mupdate(kwds_defaults)\n\u001b[0;32m--> 950\u001b[0m \u001b[38;5;28;01mreturn\u001b[39;00m \u001b[43m_read\u001b[49m\u001b[43m(\u001b[49m\u001b[43mfilepath_or_buffer\u001b[49m\u001b[43m,\u001b[49m\u001b[43m \u001b[49m\u001b[43mkwds\u001b[49m\u001b[43m)\u001b[49m\n",
      "File \u001b[0;32m~/opt/miniconda3/envs/ski_project/lib/python3.11/site-packages/pandas/io/parsers/readers.py:605\u001b[0m, in \u001b[0;36m_read\u001b[0;34m(filepath_or_buffer, kwds)\u001b[0m\n\u001b[1;32m    602\u001b[0m _validate_names(kwds\u001b[38;5;241m.\u001b[39mget(\u001b[38;5;124m\"\u001b[39m\u001b[38;5;124mnames\u001b[39m\u001b[38;5;124m\"\u001b[39m, \u001b[38;5;28;01mNone\u001b[39;00m))\n\u001b[1;32m    604\u001b[0m \u001b[38;5;66;03m# Create the parser.\u001b[39;00m\n\u001b[0;32m--> 605\u001b[0m parser \u001b[38;5;241m=\u001b[39m \u001b[43mTextFileReader\u001b[49m\u001b[43m(\u001b[49m\u001b[43mfilepath_or_buffer\u001b[49m\u001b[43m,\u001b[49m\u001b[43m \u001b[49m\u001b[38;5;241;43m*\u001b[39;49m\u001b[38;5;241;43m*\u001b[39;49m\u001b[43mkwds\u001b[49m\u001b[43m)\u001b[49m\n\u001b[1;32m    607\u001b[0m \u001b[38;5;28;01mif\u001b[39;00m chunksize \u001b[38;5;129;01mor\u001b[39;00m iterator:\n\u001b[1;32m    608\u001b[0m     \u001b[38;5;28;01mreturn\u001b[39;00m parser\n",
      "File \u001b[0;32m~/opt/miniconda3/envs/ski_project/lib/python3.11/site-packages/pandas/io/parsers/readers.py:1442\u001b[0m, in \u001b[0;36mTextFileReader.__init__\u001b[0;34m(self, f, engine, **kwds)\u001b[0m\n\u001b[1;32m   1439\u001b[0m     \u001b[38;5;28mself\u001b[39m\u001b[38;5;241m.\u001b[39moptions[\u001b[38;5;124m\"\u001b[39m\u001b[38;5;124mhas_index_names\u001b[39m\u001b[38;5;124m\"\u001b[39m] \u001b[38;5;241m=\u001b[39m kwds[\u001b[38;5;124m\"\u001b[39m\u001b[38;5;124mhas_index_names\u001b[39m\u001b[38;5;124m\"\u001b[39m]\n\u001b[1;32m   1441\u001b[0m \u001b[38;5;28mself\u001b[39m\u001b[38;5;241m.\u001b[39mhandles: IOHandles \u001b[38;5;241m|\u001b[39m \u001b[38;5;28;01mNone\u001b[39;00m \u001b[38;5;241m=\u001b[39m \u001b[38;5;28;01mNone\u001b[39;00m\n\u001b[0;32m-> 1442\u001b[0m \u001b[38;5;28mself\u001b[39m\u001b[38;5;241m.\u001b[39m_engine \u001b[38;5;241m=\u001b[39m \u001b[38;5;28;43mself\u001b[39;49m\u001b[38;5;241;43m.\u001b[39;49m\u001b[43m_make_engine\u001b[49m\u001b[43m(\u001b[49m\u001b[43mf\u001b[49m\u001b[43m,\u001b[49m\u001b[43m \u001b[49m\u001b[38;5;28;43mself\u001b[39;49m\u001b[38;5;241;43m.\u001b[39;49m\u001b[43mengine\u001b[49m\u001b[43m)\u001b[49m\n",
      "File \u001b[0;32m~/opt/miniconda3/envs/ski_project/lib/python3.11/site-packages/pandas/io/parsers/readers.py:1753\u001b[0m, in \u001b[0;36mTextFileReader._make_engine\u001b[0;34m(self, f, engine)\u001b[0m\n\u001b[1;32m   1750\u001b[0m     \u001b[38;5;28;01mraise\u001b[39;00m \u001b[38;5;167;01mValueError\u001b[39;00m(msg)\n\u001b[1;32m   1752\u001b[0m \u001b[38;5;28;01mtry\u001b[39;00m:\n\u001b[0;32m-> 1753\u001b[0m     \u001b[38;5;28;01mreturn\u001b[39;00m \u001b[43mmapping\u001b[49m\u001b[43m[\u001b[49m\u001b[43mengine\u001b[49m\u001b[43m]\u001b[49m\u001b[43m(\u001b[49m\u001b[43mf\u001b[49m\u001b[43m,\u001b[49m\u001b[43m \u001b[49m\u001b[38;5;241;43m*\u001b[39;49m\u001b[38;5;241;43m*\u001b[39;49m\u001b[38;5;28;43mself\u001b[39;49m\u001b[38;5;241;43m.\u001b[39;49m\u001b[43moptions\u001b[49m\u001b[43m)\u001b[49m\n\u001b[1;32m   1754\u001b[0m \u001b[38;5;28;01mexcept\u001b[39;00m \u001b[38;5;167;01mException\u001b[39;00m:\n\u001b[1;32m   1755\u001b[0m     \u001b[38;5;28;01mif\u001b[39;00m \u001b[38;5;28mself\u001b[39m\u001b[38;5;241m.\u001b[39mhandles \u001b[38;5;129;01mis\u001b[39;00m \u001b[38;5;129;01mnot\u001b[39;00m \u001b[38;5;28;01mNone\u001b[39;00m:\n",
      "File \u001b[0;32m~/opt/miniconda3/envs/ski_project/lib/python3.11/site-packages/pandas/io/parsers/c_parser_wrapper.py:79\u001b[0m, in \u001b[0;36mCParserWrapper.__init__\u001b[0;34m(self, src, **kwds)\u001b[0m\n\u001b[1;32m     76\u001b[0m     kwds\u001b[38;5;241m.\u001b[39mpop(key, \u001b[38;5;28;01mNone\u001b[39;00m)\n\u001b[1;32m     78\u001b[0m kwds[\u001b[38;5;124m\"\u001b[39m\u001b[38;5;124mdtype\u001b[39m\u001b[38;5;124m\"\u001b[39m] \u001b[38;5;241m=\u001b[39m ensure_dtype_objs(kwds\u001b[38;5;241m.\u001b[39mget(\u001b[38;5;124m\"\u001b[39m\u001b[38;5;124mdtype\u001b[39m\u001b[38;5;124m\"\u001b[39m, \u001b[38;5;28;01mNone\u001b[39;00m))\n\u001b[0;32m---> 79\u001b[0m \u001b[38;5;28mself\u001b[39m\u001b[38;5;241m.\u001b[39m_reader \u001b[38;5;241m=\u001b[39m \u001b[43mparsers\u001b[49m\u001b[38;5;241;43m.\u001b[39;49m\u001b[43mTextReader\u001b[49m\u001b[43m(\u001b[49m\u001b[43msrc\u001b[49m\u001b[43m,\u001b[49m\u001b[43m \u001b[49m\u001b[38;5;241;43m*\u001b[39;49m\u001b[38;5;241;43m*\u001b[39;49m\u001b[43mkwds\u001b[49m\u001b[43m)\u001b[49m\n\u001b[1;32m     81\u001b[0m \u001b[38;5;28mself\u001b[39m\u001b[38;5;241m.\u001b[39munnamed_cols \u001b[38;5;241m=\u001b[39m \u001b[38;5;28mself\u001b[39m\u001b[38;5;241m.\u001b[39m_reader\u001b[38;5;241m.\u001b[39munnamed_cols\n\u001b[1;32m     83\u001b[0m \u001b[38;5;66;03m# error: Cannot determine type of 'names'\u001b[39;00m\n",
      "File \u001b[0;32m~/opt/miniconda3/envs/ski_project/lib/python3.11/site-packages/pandas/_libs/parsers.pyx:554\u001b[0m, in \u001b[0;36mpandas._libs.parsers.TextReader.__cinit__\u001b[0;34m()\u001b[0m\n",
      "\u001b[0;31mEmptyDataError\u001b[0m: No columns to parse from file"
     ]
    }
   ],
   "source": [
    "pd.read_csv('data/2023-12-31/Sony_Xperia_M5/Rules.csv')"
   ]
  },
  {
   "cell_type": "code",
   "execution_count": 17,
   "metadata": {},
   "outputs": [
    {
     "data": {
      "text/html": [
       "<div>\n",
       "<style scoped>\n",
       "    .dataframe tbody tr th:only-of-type {\n",
       "        vertical-align: middle;\n",
       "    }\n",
       "\n",
       "    .dataframe tbody tr th {\n",
       "        vertical-align: top;\n",
       "    }\n",
       "\n",
       "    .dataframe thead th {\n",
       "        text-align: right;\n",
       "    }\n",
       "</style>\n",
       "<table border=\"1\" class=\"dataframe\">\n",
       "  <thead>\n",
       "    <tr style=\"text-align: right;\">\n",
       "      <th></th>\n",
       "      <th>time</th>\n",
       "      <th>seconds_elapsed</th>\n",
       "      <th>z</th>\n",
       "      <th>y</th>\n",
       "      <th>x</th>\n",
       "    </tr>\n",
       "  </thead>\n",
       "  <tbody>\n",
       "    <tr>\n",
       "      <th>0</th>\n",
       "      <td>2023-12-31 05:56:14.000</td>\n",
       "      <td>0.316039</td>\n",
       "      <td>9.395</td>\n",
       "      <td>-1.110</td>\n",
       "      <td>-0.076</td>\n",
       "    </tr>\n",
       "    <tr>\n",
       "      <th>1</th>\n",
       "      <td>2023-12-31 05:56:14.100</td>\n",
       "      <td>0.415829</td>\n",
       "      <td>9.634</td>\n",
       "      <td>-0.727</td>\n",
       "      <td>-0.239</td>\n",
       "    </tr>\n",
       "    <tr>\n",
       "      <th>2</th>\n",
       "      <td>2023-12-31 05:56:14.200</td>\n",
       "      <td>0.515808</td>\n",
       "      <td>10.046</td>\n",
       "      <td>-0.306</td>\n",
       "      <td>-0.296</td>\n",
       "    </tr>\n",
       "    <tr>\n",
       "      <th>3</th>\n",
       "      <td>2023-12-31 05:56:14.300</td>\n",
       "      <td>0.615862</td>\n",
       "      <td>9.031</td>\n",
       "      <td>-0.938</td>\n",
       "      <td>-0.469</td>\n",
       "    </tr>\n",
       "    <tr>\n",
       "      <th>4</th>\n",
       "      <td>2023-12-31 05:56:14.400</td>\n",
       "      <td>0.715844</td>\n",
       "      <td>9.807</td>\n",
       "      <td>-1.283</td>\n",
       "      <td>-0.699</td>\n",
       "    </tr>\n",
       "    <tr>\n",
       "      <th>5</th>\n",
       "      <td>2023-12-31 05:56:14.500</td>\n",
       "      <td>0.816629</td>\n",
       "      <td>10.247</td>\n",
       "      <td>-1.005</td>\n",
       "      <td>-0.699</td>\n",
       "    </tr>\n",
       "    <tr>\n",
       "      <th>6</th>\n",
       "      <td>2023-12-31 05:56:14.600</td>\n",
       "      <td>0.916472</td>\n",
       "      <td>9.749</td>\n",
       "      <td>-0.574</td>\n",
       "      <td>-0.220</td>\n",
       "    </tr>\n",
       "    <tr>\n",
       "      <th>7</th>\n",
       "      <td>2023-12-31 05:56:14.700</td>\n",
       "      <td>1.015913</td>\n",
       "      <td>10.496</td>\n",
       "      <td>-0.823</td>\n",
       "      <td>-0.057</td>\n",
       "    </tr>\n",
       "    <tr>\n",
       "      <th>8</th>\n",
       "      <td>2023-12-31 05:56:14.800</td>\n",
       "      <td>1.115929</td>\n",
       "      <td>9.519</td>\n",
       "      <td>-1.656</td>\n",
       "      <td>-0.565</td>\n",
       "    </tr>\n",
       "    <tr>\n",
       "      <th>9</th>\n",
       "      <td>2023-12-31 05:56:14.900</td>\n",
       "      <td>1.215922</td>\n",
       "      <td>9.213</td>\n",
       "      <td>-1.340</td>\n",
       "      <td>-0.478</td>\n",
       "    </tr>\n",
       "    <tr>\n",
       "      <th>10</th>\n",
       "      <td>2023-12-31 05:56:15.000</td>\n",
       "      <td>1.316526</td>\n",
       "      <td>10.027</td>\n",
       "      <td>-1.120</td>\n",
       "      <td>-0.852</td>\n",
       "    </tr>\n",
       "    <tr>\n",
       "      <th>11</th>\n",
       "      <td>2023-12-31 05:56:15.100</td>\n",
       "      <td>1.415846</td>\n",
       "      <td>10.429</td>\n",
       "      <td>-1.589</td>\n",
       "      <td>-0.651</td>\n",
       "    </tr>\n",
       "    <tr>\n",
       "      <th>12</th>\n",
       "      <td>2023-12-31 05:56:15.200</td>\n",
       "      <td>1.515852</td>\n",
       "      <td>9.318</td>\n",
       "      <td>-0.986</td>\n",
       "      <td>0.191</td>\n",
       "    </tr>\n",
       "    <tr>\n",
       "      <th>13</th>\n",
       "      <td>2023-12-31 05:56:15.300</td>\n",
       "      <td>1.616002</td>\n",
       "      <td>10.065</td>\n",
       "      <td>-1.034</td>\n",
       "      <td>-0.258</td>\n",
       "    </tr>\n",
       "    <tr>\n",
       "      <th>14</th>\n",
       "      <td>2023-12-31 05:56:15.400</td>\n",
       "      <td>1.715990</td>\n",
       "      <td>9.912</td>\n",
       "      <td>-1.292</td>\n",
       "      <td>-0.488</td>\n",
       "    </tr>\n",
       "    <tr>\n",
       "      <th>15</th>\n",
       "      <td>2023-12-31 05:56:15.500</td>\n",
       "      <td>1.816151</td>\n",
       "      <td>10.151</td>\n",
       "      <td>-1.235</td>\n",
       "      <td>-0.727</td>\n",
       "    </tr>\n",
       "    <tr>\n",
       "      <th>16</th>\n",
       "      <td>2023-12-31 05:56:15.600</td>\n",
       "      <td>1.916056</td>\n",
       "      <td>9.921</td>\n",
       "      <td>-1.015</td>\n",
       "      <td>-0.440</td>\n",
       "    </tr>\n",
       "    <tr>\n",
       "      <th>17</th>\n",
       "      <td>2023-12-31 05:56:15.700</td>\n",
       "      <td>2.015946</td>\n",
       "      <td>11.636</td>\n",
       "      <td>-1.398</td>\n",
       "      <td>-0.047</td>\n",
       "    </tr>\n",
       "    <tr>\n",
       "      <th>18</th>\n",
       "      <td>2023-12-31 05:56:15.800</td>\n",
       "      <td>2.118804</td>\n",
       "      <td>10.065</td>\n",
       "      <td>-0.928</td>\n",
       "      <td>-0.402</td>\n",
       "    </tr>\n",
       "    <tr>\n",
       "      <th>19</th>\n",
       "      <td>2023-12-31 05:56:15.900</td>\n",
       "      <td>2.216366</td>\n",
       "      <td>9.768</td>\n",
       "      <td>-1.369</td>\n",
       "      <td>0.124</td>\n",
       "    </tr>\n",
       "  </tbody>\n",
       "</table>\n",
       "</div>"
      ],
      "text/plain": [
       "                       time  seconds_elapsed       z      y      x\n",
       "0   2023-12-31 05:56:14.000         0.316039   9.395 -1.110 -0.076\n",
       "1   2023-12-31 05:56:14.100         0.415829   9.634 -0.727 -0.239\n",
       "2   2023-12-31 05:56:14.200         0.515808  10.046 -0.306 -0.296\n",
       "3   2023-12-31 05:56:14.300         0.615862   9.031 -0.938 -0.469\n",
       "4   2023-12-31 05:56:14.400         0.715844   9.807 -1.283 -0.699\n",
       "5   2023-12-31 05:56:14.500         0.816629  10.247 -1.005 -0.699\n",
       "6   2023-12-31 05:56:14.600         0.916472   9.749 -0.574 -0.220\n",
       "7   2023-12-31 05:56:14.700         1.015913  10.496 -0.823 -0.057\n",
       "8   2023-12-31 05:56:14.800         1.115929   9.519 -1.656 -0.565\n",
       "9   2023-12-31 05:56:14.900         1.215922   9.213 -1.340 -0.478\n",
       "10  2023-12-31 05:56:15.000         1.316526  10.027 -1.120 -0.852\n",
       "11  2023-12-31 05:56:15.100         1.415846  10.429 -1.589 -0.651\n",
       "12  2023-12-31 05:56:15.200         1.515852   9.318 -0.986  0.191\n",
       "13  2023-12-31 05:56:15.300         1.616002  10.065 -1.034 -0.258\n",
       "14  2023-12-31 05:56:15.400         1.715990   9.912 -1.292 -0.488\n",
       "15  2023-12-31 05:56:15.500         1.816151  10.151 -1.235 -0.727\n",
       "16  2023-12-31 05:56:15.600         1.916056   9.921 -1.015 -0.440\n",
       "17  2023-12-31 05:56:15.700         2.015946  11.636 -1.398 -0.047\n",
       "18  2023-12-31 05:56:15.800         2.118804  10.065 -0.928 -0.402\n",
       "19  2023-12-31 05:56:15.900         2.216366   9.768 -1.369  0.124"
      ]
     },
     "execution_count": 17,
     "metadata": {},
     "output_type": "execute_result"
    }
   ],
   "source": [
    "pd.read_csv(list(data_transformer.transformed_data['Sony_Xperia_M5'].values())[0]).head(20)"
   ]
  },
  {
   "cell_type": "code",
   "execution_count": null,
   "metadata": {},
   "outputs": [],
   "source": [
    "def match_times_acros_sensors(device_sensor: dict):\n"
   ]
  },
  {
   "cell_type": "code",
   "execution_count": 5,
   "metadata": {},
   "outputs": [],
   "source": [
    "#load file to pd dataframe /Users/kuba/SkiApp/input_data/2023-12-31/HONOR_8X/Accelerometer.csv\n",
    "df = pd.read_csv('/Users/kuba/SkiApp/input_data/2023-12-31/HONOR_8X/Accelerometer.csv', sep=',')"
   ]
  },
  {
   "cell_type": "code",
   "execution_count": null,
   "metadata": {},
   "outputs": [],
   "source": []
  },
  {
   "cell_type": "code",
   "execution_count": 6,
   "metadata": {},
   "outputs": [
    {
     "data": {
      "text/html": [
       "<div>\n",
       "<style scoped>\n",
       "    .dataframe tbody tr th:only-of-type {\n",
       "        vertical-align: middle;\n",
       "    }\n",
       "\n",
       "    .dataframe tbody tr th {\n",
       "        vertical-align: top;\n",
       "    }\n",
       "\n",
       "    .dataframe thead th {\n",
       "        text-align: right;\n",
       "    }\n",
       "</style>\n",
       "<table border=\"1\" class=\"dataframe\">\n",
       "  <thead>\n",
       "    <tr style=\"text-align: right;\">\n",
       "      <th></th>\n",
       "      <th>time</th>\n",
       "      <th>seconds_elapsed</th>\n",
       "      <th>z</th>\n",
       "      <th>y</th>\n",
       "      <th>x</th>\n",
       "    </tr>\n",
       "  </thead>\n",
       "  <tbody>\n",
       "    <tr>\n",
       "      <th>0</th>\n",
       "      <td>1704002093359483100</td>\n",
       "      <td>0.130483</td>\n",
       "      <td>-0.7738</td>\n",
       "      <td>0.3986</td>\n",
       "      <td>0.3512</td>\n",
       "    </tr>\n",
       "    <tr>\n",
       "      <th>1</th>\n",
       "      <td>1704002093458745600</td>\n",
       "      <td>0.229746</td>\n",
       "      <td>0.6198</td>\n",
       "      <td>0.0158</td>\n",
       "      <td>0.4424</td>\n",
       "    </tr>\n",
       "    <tr>\n",
       "      <th>2</th>\n",
       "      <td>1704002093558009600</td>\n",
       "      <td>0.329010</td>\n",
       "      <td>1.3182</td>\n",
       "      <td>0.1856</td>\n",
       "      <td>0.0329</td>\n",
       "    </tr>\n",
       "    <tr>\n",
       "      <th>3</th>\n",
       "      <td>1704002093657272300</td>\n",
       "      <td>0.428272</td>\n",
       "      <td>0.1515</td>\n",
       "      <td>-0.3017</td>\n",
       "      <td>-0.7320</td>\n",
       "    </tr>\n",
       "    <tr>\n",
       "      <th>4</th>\n",
       "      <td>1704002093756536300</td>\n",
       "      <td>0.527536</td>\n",
       "      <td>5.6615</td>\n",
       "      <td>-0.0006</td>\n",
       "      <td>2.0136</td>\n",
       "    </tr>\n",
       "    <tr>\n",
       "      <th>...</th>\n",
       "      <td>...</td>\n",
       "      <td>...</td>\n",
       "      <td>...</td>\n",
       "      <td>...</td>\n",
       "      <td>...</td>\n",
       "    </tr>\n",
       "    <tr>\n",
       "      <th>320635</th>\n",
       "      <td>1704033920639117600</td>\n",
       "      <td>31827.410118</td>\n",
       "      <td>0.8773</td>\n",
       "      <td>-0.1460</td>\n",
       "      <td>0.0773</td>\n",
       "    </tr>\n",
       "    <tr>\n",
       "      <th>320636</th>\n",
       "      <td>1704033920738381600</td>\n",
       "      <td>31827.509382</td>\n",
       "      <td>-1.0838</td>\n",
       "      <td>-1.0969</td>\n",
       "      <td>0.6868</td>\n",
       "    </tr>\n",
       "    <tr>\n",
       "      <th>320637</th>\n",
       "      <td>1704033920837644000</td>\n",
       "      <td>31827.608644</td>\n",
       "      <td>1.5646</td>\n",
       "      <td>0.2722</td>\n",
       "      <td>-0.9553</td>\n",
       "    </tr>\n",
       "    <tr>\n",
       "      <th>320638</th>\n",
       "      <td>1704033920936908000</td>\n",
       "      <td>31827.707908</td>\n",
       "      <td>-0.4315</td>\n",
       "      <td>0.1024</td>\n",
       "      <td>-0.0045</td>\n",
       "    </tr>\n",
       "    <tr>\n",
       "      <th>320639</th>\n",
       "      <td>1704033921036172300</td>\n",
       "      <td>31827.807172</td>\n",
       "      <td>0.0544</td>\n",
       "      <td>-0.0923</td>\n",
       "      <td>-0.2996</td>\n",
       "    </tr>\n",
       "  </tbody>\n",
       "</table>\n",
       "<p>320640 rows × 5 columns</p>\n",
       "</div>"
      ],
      "text/plain": [
       "                       time  seconds_elapsed       z       y       x\n",
       "0       1704002093359483100         0.130483 -0.7738  0.3986  0.3512\n",
       "1       1704002093458745600         0.229746  0.6198  0.0158  0.4424\n",
       "2       1704002093558009600         0.329010  1.3182  0.1856  0.0329\n",
       "3       1704002093657272300         0.428272  0.1515 -0.3017 -0.7320\n",
       "4       1704002093756536300         0.527536  5.6615 -0.0006  2.0136\n",
       "...                     ...              ...     ...     ...     ...\n",
       "320635  1704033920639117600     31827.410118  0.8773 -0.1460  0.0773\n",
       "320636  1704033920738381600     31827.509382 -1.0838 -1.0969  0.6868\n",
       "320637  1704033920837644000     31827.608644  1.5646  0.2722 -0.9553\n",
       "320638  1704033920936908000     31827.707908 -0.4315  0.1024 -0.0045\n",
       "320639  1704033921036172300     31827.807172  0.0544 -0.0923 -0.2996\n",
       "\n",
       "[320640 rows x 5 columns]"
      ]
     },
     "execution_count": 6,
     "metadata": {},
     "output_type": "execute_result"
    }
   ],
   "source": [
    "df"
   ]
  },
  {
   "cell_type": "code",
   "execution_count": 49,
   "metadata": {},
   "outputs": [
    {
     "ename": "TypeError",
     "evalue": "to_datetime() got an unexpected keyword argument 'in_place'",
     "output_type": "error",
     "traceback": [
      "\u001b[0;31m---------------------------------------------------------------------------\u001b[0m",
      "\u001b[0;31mTypeError\u001b[0m                                 Traceback (most recent call last)",
      "Cell \u001b[0;32mIn[49], line 1\u001b[0m\n\u001b[0;32m----> 1\u001b[0m \u001b[43mpd\u001b[49m\u001b[38;5;241;43m.\u001b[39;49m\u001b[43mto_datetime\u001b[49m\u001b[43m(\u001b[49m\u001b[43mdf\u001b[49m\u001b[43m[\u001b[49m\u001b[38;5;124;43m'\u001b[39;49m\u001b[38;5;124;43mtime\u001b[39;49m\u001b[38;5;124;43m'\u001b[39;49m\u001b[43m]\u001b[49m\u001b[43m,\u001b[49m\u001b[43m \u001b[49m\u001b[43munit\u001b[49m\u001b[38;5;241;43m=\u001b[39;49m\u001b[38;5;124;43m'\u001b[39;49m\u001b[38;5;124;43mns\u001b[39;49m\u001b[38;5;124;43m'\u001b[39;49m\u001b[43m,\u001b[49m\u001b[43m \u001b[49m\u001b[43min_place\u001b[49m\u001b[38;5;241;43m=\u001b[39;49m\u001b[38;5;28;43;01mTrue\u001b[39;49;00m\u001b[43m)\u001b[49m\n",
      "\u001b[0;31mTypeError\u001b[0m: to_datetime() got an unexpected keyword argument 'in_place'"
     ]
    }
   ],
   "source": [
    "pd.to_datetime(df['time'], unit='ns')"
   ]
  },
  {
   "cell_type": "code",
   "execution_count": 30,
   "metadata": {},
   "outputs": [],
   "source": [
    "df_time = df.copy()\n",
    "df_time['time'] = pd.to_datetime(df['time'], unit='ns')  # use 'ms' if your timestamps are in milliseconds"
   ]
  },
  {
   "cell_type": "code",
   "execution_count": 35,
   "metadata": {},
   "outputs": [
    {
     "data": {
      "text/plain": [
       "pandas._libs.tslibs.timestamps.Timestamp"
      ]
     },
     "execution_count": 35,
     "metadata": {},
     "output_type": "execute_result"
    }
   ],
   "source": [
    "type(df_time['time'][1])"
   ]
  },
  {
   "cell_type": "code",
   "execution_count": 36,
   "metadata": {},
   "outputs": [],
   "source": [
    "def apply_offset(df: pd.DataFrame, offset: int):\n",
    "    #add offset in ns to time column where offset is ms and time is pandas._libs.tslibs.timestamps.Timestamp\n",
    "    df['time'] = df['time'] + pd.Timedelta(offset, unit='ms')\n",
    "    return df"
   ]
  },
  {
   "cell_type": "code",
   "execution_count": 37,
   "metadata": {},
   "outputs": [
    {
     "data": {
      "text/html": [
       "<div>\n",
       "<style scoped>\n",
       "    .dataframe tbody tr th:only-of-type {\n",
       "        vertical-align: middle;\n",
       "    }\n",
       "\n",
       "    .dataframe tbody tr th {\n",
       "        vertical-align: top;\n",
       "    }\n",
       "\n",
       "    .dataframe thead th {\n",
       "        text-align: right;\n",
       "    }\n",
       "</style>\n",
       "<table border=\"1\" class=\"dataframe\">\n",
       "  <thead>\n",
       "    <tr style=\"text-align: right;\">\n",
       "      <th></th>\n",
       "      <th>time</th>\n",
       "      <th>seconds_elapsed</th>\n",
       "      <th>z</th>\n",
       "      <th>y</th>\n",
       "      <th>x</th>\n",
       "    </tr>\n",
       "  </thead>\n",
       "  <tbody>\n",
       "    <tr>\n",
       "      <th>0</th>\n",
       "      <td>2023-12-31 05:54:53.359483102</td>\n",
       "      <td>0.130483</td>\n",
       "      <td>-0.7738</td>\n",
       "      <td>0.3986</td>\n",
       "      <td>0.3512</td>\n",
       "    </tr>\n",
       "    <tr>\n",
       "      <th>1</th>\n",
       "      <td>2023-12-31 05:54:53.458745602</td>\n",
       "      <td>0.229746</td>\n",
       "      <td>0.6198</td>\n",
       "      <td>0.0158</td>\n",
       "      <td>0.4424</td>\n",
       "    </tr>\n",
       "    <tr>\n",
       "      <th>2</th>\n",
       "      <td>2023-12-31 05:54:53.558009602</td>\n",
       "      <td>0.329010</td>\n",
       "      <td>1.3182</td>\n",
       "      <td>0.1856</td>\n",
       "      <td>0.0329</td>\n",
       "    </tr>\n",
       "    <tr>\n",
       "      <th>3</th>\n",
       "      <td>2023-12-31 05:54:53.657272302</td>\n",
       "      <td>0.428272</td>\n",
       "      <td>0.1515</td>\n",
       "      <td>-0.3017</td>\n",
       "      <td>-0.7320</td>\n",
       "    </tr>\n",
       "    <tr>\n",
       "      <th>4</th>\n",
       "      <td>2023-12-31 05:54:53.756536302</td>\n",
       "      <td>0.527536</td>\n",
       "      <td>5.6615</td>\n",
       "      <td>-0.0006</td>\n",
       "      <td>2.0136</td>\n",
       "    </tr>\n",
       "    <tr>\n",
       "      <th>...</th>\n",
       "      <td>...</td>\n",
       "      <td>...</td>\n",
       "      <td>...</td>\n",
       "      <td>...</td>\n",
       "      <td>...</td>\n",
       "    </tr>\n",
       "    <tr>\n",
       "      <th>320635</th>\n",
       "      <td>2023-12-31 14:45:20.639117602</td>\n",
       "      <td>31827.410118</td>\n",
       "      <td>0.8773</td>\n",
       "      <td>-0.1460</td>\n",
       "      <td>0.0773</td>\n",
       "    </tr>\n",
       "    <tr>\n",
       "      <th>320636</th>\n",
       "      <td>2023-12-31 14:45:20.738381602</td>\n",
       "      <td>31827.509382</td>\n",
       "      <td>-1.0838</td>\n",
       "      <td>-1.0969</td>\n",
       "      <td>0.6868</td>\n",
       "    </tr>\n",
       "    <tr>\n",
       "      <th>320637</th>\n",
       "      <td>2023-12-31 14:45:20.837644002</td>\n",
       "      <td>31827.608644</td>\n",
       "      <td>1.5646</td>\n",
       "      <td>0.2722</td>\n",
       "      <td>-0.9553</td>\n",
       "    </tr>\n",
       "    <tr>\n",
       "      <th>320638</th>\n",
       "      <td>2023-12-31 14:45:20.936908002</td>\n",
       "      <td>31827.707908</td>\n",
       "      <td>-0.4315</td>\n",
       "      <td>0.1024</td>\n",
       "      <td>-0.0045</td>\n",
       "    </tr>\n",
       "    <tr>\n",
       "      <th>320639</th>\n",
       "      <td>2023-12-31 14:45:21.036172302</td>\n",
       "      <td>31827.807172</td>\n",
       "      <td>0.0544</td>\n",
       "      <td>-0.0923</td>\n",
       "      <td>-0.2996</td>\n",
       "    </tr>\n",
       "  </tbody>\n",
       "</table>\n",
       "<p>320640 rows × 5 columns</p>\n",
       "</div>"
      ],
      "text/plain": [
       "                                time  seconds_elapsed       z       y       x\n",
       "0      2023-12-31 05:54:53.359483102         0.130483 -0.7738  0.3986  0.3512\n",
       "1      2023-12-31 05:54:53.458745602         0.229746  0.6198  0.0158  0.4424\n",
       "2      2023-12-31 05:54:53.558009602         0.329010  1.3182  0.1856  0.0329\n",
       "3      2023-12-31 05:54:53.657272302         0.428272  0.1515 -0.3017 -0.7320\n",
       "4      2023-12-31 05:54:53.756536302         0.527536  5.6615 -0.0006  2.0136\n",
       "...                              ...              ...     ...     ...     ...\n",
       "320635 2023-12-31 14:45:20.639117602     31827.410118  0.8773 -0.1460  0.0773\n",
       "320636 2023-12-31 14:45:20.738381602     31827.509382 -1.0838 -1.0969  0.6868\n",
       "320637 2023-12-31 14:45:20.837644002     31827.608644  1.5646  0.2722 -0.9553\n",
       "320638 2023-12-31 14:45:20.936908002     31827.707908 -0.4315  0.1024 -0.0045\n",
       "320639 2023-12-31 14:45:21.036172302     31827.807172  0.0544 -0.0923 -0.2996\n",
       "\n",
       "[320640 rows x 5 columns]"
      ]
     },
     "execution_count": 37,
     "metadata": {},
     "output_type": "execute_result"
    }
   ],
   "source": [
    "df_time"
   ]
  },
  {
   "cell_type": "code",
   "execution_count": 46,
   "metadata": {},
   "outputs": [
    {
     "data": {
      "text/html": [
       "<div>\n",
       "<style scoped>\n",
       "    .dataframe tbody tr th:only-of-type {\n",
       "        vertical-align: middle;\n",
       "    }\n",
       "\n",
       "    .dataframe tbody tr th {\n",
       "        vertical-align: top;\n",
       "    }\n",
       "\n",
       "    .dataframe thead th {\n",
       "        text-align: right;\n",
       "    }\n",
       "</style>\n",
       "<table border=\"1\" class=\"dataframe\">\n",
       "  <thead>\n",
       "    <tr style=\"text-align: right;\">\n",
       "      <th></th>\n",
       "      <th>time</th>\n",
       "      <th>seconds_elapsed</th>\n",
       "      <th>z</th>\n",
       "      <th>y</th>\n",
       "      <th>x</th>\n",
       "    </tr>\n",
       "  </thead>\n",
       "  <tbody>\n",
       "    <tr>\n",
       "      <th>0</th>\n",
       "      <td>2023-12-31 05:54:54.489483102</td>\n",
       "      <td>0.130483</td>\n",
       "      <td>-0.7738</td>\n",
       "      <td>0.3986</td>\n",
       "      <td>0.3512</td>\n",
       "    </tr>\n",
       "    <tr>\n",
       "      <th>1</th>\n",
       "      <td>2023-12-31 05:54:54.588745602</td>\n",
       "      <td>0.229746</td>\n",
       "      <td>0.6198</td>\n",
       "      <td>0.0158</td>\n",
       "      <td>0.4424</td>\n",
       "    </tr>\n",
       "    <tr>\n",
       "      <th>2</th>\n",
       "      <td>2023-12-31 05:54:54.688009602</td>\n",
       "      <td>0.329010</td>\n",
       "      <td>1.3182</td>\n",
       "      <td>0.1856</td>\n",
       "      <td>0.0329</td>\n",
       "    </tr>\n",
       "    <tr>\n",
       "      <th>3</th>\n",
       "      <td>2023-12-31 05:54:54.787272302</td>\n",
       "      <td>0.428272</td>\n",
       "      <td>0.1515</td>\n",
       "      <td>-0.3017</td>\n",
       "      <td>-0.7320</td>\n",
       "    </tr>\n",
       "    <tr>\n",
       "      <th>4</th>\n",
       "      <td>2023-12-31 05:54:54.886536302</td>\n",
       "      <td>0.527536</td>\n",
       "      <td>5.6615</td>\n",
       "      <td>-0.0006</td>\n",
       "      <td>2.0136</td>\n",
       "    </tr>\n",
       "    <tr>\n",
       "      <th>...</th>\n",
       "      <td>...</td>\n",
       "      <td>...</td>\n",
       "      <td>...</td>\n",
       "      <td>...</td>\n",
       "      <td>...</td>\n",
       "    </tr>\n",
       "    <tr>\n",
       "      <th>320635</th>\n",
       "      <td>2023-12-31 14:45:21.769117602</td>\n",
       "      <td>31827.410118</td>\n",
       "      <td>0.8773</td>\n",
       "      <td>-0.1460</td>\n",
       "      <td>0.0773</td>\n",
       "    </tr>\n",
       "    <tr>\n",
       "      <th>320636</th>\n",
       "      <td>2023-12-31 14:45:21.868381602</td>\n",
       "      <td>31827.509382</td>\n",
       "      <td>-1.0838</td>\n",
       "      <td>-1.0969</td>\n",
       "      <td>0.6868</td>\n",
       "    </tr>\n",
       "    <tr>\n",
       "      <th>320637</th>\n",
       "      <td>2023-12-31 14:45:21.967644002</td>\n",
       "      <td>31827.608644</td>\n",
       "      <td>1.5646</td>\n",
       "      <td>0.2722</td>\n",
       "      <td>-0.9553</td>\n",
       "    </tr>\n",
       "    <tr>\n",
       "      <th>320638</th>\n",
       "      <td>2023-12-31 14:45:22.066908002</td>\n",
       "      <td>31827.707908</td>\n",
       "      <td>-0.4315</td>\n",
       "      <td>0.1024</td>\n",
       "      <td>-0.0045</td>\n",
       "    </tr>\n",
       "    <tr>\n",
       "      <th>320639</th>\n",
       "      <td>2023-12-31 14:45:22.166172302</td>\n",
       "      <td>31827.807172</td>\n",
       "      <td>0.0544</td>\n",
       "      <td>-0.0923</td>\n",
       "      <td>-0.2996</td>\n",
       "    </tr>\n",
       "  </tbody>\n",
       "</table>\n",
       "<p>320640 rows × 5 columns</p>\n",
       "</div>"
      ],
      "text/plain": [
       "                                time  seconds_elapsed       z       y       x\n",
       "0      2023-12-31 05:54:54.489483102         0.130483 -0.7738  0.3986  0.3512\n",
       "1      2023-12-31 05:54:54.588745602         0.229746  0.6198  0.0158  0.4424\n",
       "2      2023-12-31 05:54:54.688009602         0.329010  1.3182  0.1856  0.0329\n",
       "3      2023-12-31 05:54:54.787272302         0.428272  0.1515 -0.3017 -0.7320\n",
       "4      2023-12-31 05:54:54.886536302         0.527536  5.6615 -0.0006  2.0136\n",
       "...                              ...              ...     ...     ...     ...\n",
       "320635 2023-12-31 14:45:21.769117602     31827.410118  0.8773 -0.1460  0.0773\n",
       "320636 2023-12-31 14:45:21.868381602     31827.509382 -1.0838 -1.0969  0.6868\n",
       "320637 2023-12-31 14:45:21.967644002     31827.608644  1.5646  0.2722 -0.9553\n",
       "320638 2023-12-31 14:45:22.066908002     31827.707908 -0.4315  0.1024 -0.0045\n",
       "320639 2023-12-31 14:45:22.166172302     31827.807172  0.0544 -0.0923 -0.2996\n",
       "\n",
       "[320640 rows x 5 columns]"
      ]
     },
     "execution_count": 46,
     "metadata": {},
     "output_type": "execute_result"
    }
   ],
   "source": [
    "df_offset = apply_offset(df_time, 1)\n",
    "df_offset"
   ]
  },
  {
   "cell_type": "code",
   "execution_count": 15,
   "metadata": {},
   "outputs": [],
   "source": [
    "df2= pd.read_csv('/Users/kuba/SkiApp/input_data/2023-12-30/Sony_Xperia_XA/TotalAcceleration.csv', sep=',')"
   ]
  },
  {
   "cell_type": "code",
   "execution_count": 16,
   "metadata": {},
   "outputs": [
    {
     "data": {
      "text/plain": [
       "0       2023-12-30 12:15:10.359757800\n",
       "1       2023-12-30 12:15:10.459807500\n",
       "2       2023-12-30 12:15:10.559771400\n",
       "3       2023-12-30 12:15:10.659942400\n",
       "4       2023-12-30 12:15:10.759764000\n",
       "                     ...             \n",
       "34758   2023-12-30 13:13:17.569758500\n",
       "34759   2023-12-30 13:13:17.669766100\n",
       "34760   2023-12-30 13:13:17.769758000\n",
       "34761   2023-12-30 13:13:17.872302800\n",
       "34762   2023-12-30 13:13:17.969884000\n",
       "Name: time, Length: 34763, dtype: datetime64[ns]"
      ]
     },
     "execution_count": 16,
     "metadata": {},
     "output_type": "execute_result"
    }
   ],
   "source": [
    "pd.to_datetime(df2['time'], unit='ns')  # use 'ms' if your timestamps are in milliseconds"
   ]
  },
  {
   "cell_type": "code",
   "execution_count": 48,
   "metadata": {},
   "outputs": [
    {
     "data": {
      "text/plain": [
       "663"
      ]
     },
     "execution_count": 48,
     "metadata": {},
     "output_type": "execute_result"
    }
   ],
   "source": [
    "# load text file /Users/kuba/SkiApp/input_data/2023-12-31/OPPO_AX7/offset.txt and read first file to int\n",
    "f = open('/Users/kuba/SkiApp/input_data/2023-12-31/OPPO_AX7/offset.txt', 'r')\n",
    "offset = int(f.readline())\n",
    "offset"
   ]
  },
  {
   "cell_type": "code",
   "execution_count": 61,
   "metadata": {},
   "outputs": [],
   "source": [
    "import os\n",
    "from pathlib import Path\n",
    "\n",
    "# Original path\n",
    "path = \"/Users/kuba/SkiApp/input_data/2023-12-30/Sony_Xperia_XA/TotalAcceleration.csv\"\n",
    "\n",
    "# Modify the path\n",
    "new_path = Path(path).relative_to(\"/Users/kuba/SkiApp/input_data\")"
   ]
  },
  {
   "cell_type": "code",
   "execution_count": 64,
   "metadata": {},
   "outputs": [
    {
     "data": {
      "text/plain": [
       "'/data/2023-12-30/Sony_Xperia_XA/TotalAcceleration.csv'"
      ]
     },
     "execution_count": 64,
     "metadata": {},
     "output_type": "execute_result"
    }
   ],
   "source": [
    "new_path = os.path.join(\"data\", new_path)\n",
    "new_path"
   ]
  },
  {
   "cell_type": "markdown",
   "metadata": {},
   "source": []
  },
  {
   "cell_type": "code",
   "execution_count": 107,
   "metadata": {},
   "outputs": [
    {
     "name": "stdout",
     "output_type": "stream",
     "text": [
      "data/2023-5-30/Soy_Xperia_bA/ToalAccpeleratin.csv\n",
      "data/2023-5-30/Soy_Xperia_bA\n"
     ]
    }
   ],
   "source": [
    "path = Path(\"/Users/kuba/SkiApp/input_data/2023-5-30/Soy_Xperia_bA/ToalAccpeleratin.csv\")\n",
    "last_parts = path.parts[-3:]\n",
    "\n",
    "final_path =  Path('data', *last_parts)\n",
    "folders = final_path.parts[:-1]\n",
    "folders = Path(*folders)\n",
    "print(final_path)\n",
    "print(folders)\n",
    "folders.mkdir(parents=True, exist_ok=True)\n",
    "df.to_csv(final_path, index=False)"
   ]
  },
  {
   "cell_type": "code",
   "execution_count": 105,
   "metadata": {},
   "outputs": [],
   "source": [
    "final_path.mkdir(parents=True, exist_ok=True)"
   ]
  },
  {
   "cell_type": "code",
   "execution_count": 106,
   "metadata": {},
   "outputs": [
    {
     "ename": "IsADirectoryError",
     "evalue": "[Errno 21] Is a directory: 'data/2023-3-30/Soy_Xperia_bA/ToalAccpeleratin.csv'",
     "output_type": "error",
     "traceback": [
      "\u001b[0;31m---------------------------------------------------------------------------\u001b[0m",
      "\u001b[0;31mIsADirectoryError\u001b[0m                         Traceback (most recent call last)",
      "Cell \u001b[0;32mIn[106], line 1\u001b[0m\n\u001b[0;32m----> 1\u001b[0m \u001b[43mdf\u001b[49m\u001b[38;5;241;43m.\u001b[39;49m\u001b[43mto_csv\u001b[49m\u001b[43m(\u001b[49m\u001b[43mfinal_path\u001b[49m\u001b[43m,\u001b[49m\u001b[43m \u001b[49m\u001b[43mindex\u001b[49m\u001b[38;5;241;43m=\u001b[39;49m\u001b[38;5;28;43;01mFalse\u001b[39;49;00m\u001b[43m)\u001b[49m\n",
      "File \u001b[0;32m~/opt/miniconda3/envs/ski_project/lib/python3.11/site-packages/pandas/util/_decorators.py:211\u001b[0m, in \u001b[0;36mdeprecate_kwarg.<locals>._deprecate_kwarg.<locals>.wrapper\u001b[0;34m(*args, **kwargs)\u001b[0m\n\u001b[1;32m    209\u001b[0m     \u001b[38;5;28;01melse\u001b[39;00m:\n\u001b[1;32m    210\u001b[0m         kwargs[new_arg_name] \u001b[38;5;241m=\u001b[39m new_arg_value\n\u001b[0;32m--> 211\u001b[0m \u001b[38;5;28;01mreturn\u001b[39;00m \u001b[43mfunc\u001b[49m\u001b[43m(\u001b[49m\u001b[38;5;241;43m*\u001b[39;49m\u001b[43margs\u001b[49m\u001b[43m,\u001b[49m\u001b[43m \u001b[49m\u001b[38;5;241;43m*\u001b[39;49m\u001b[38;5;241;43m*\u001b[39;49m\u001b[43mkwargs\u001b[49m\u001b[43m)\u001b[49m\n",
      "File \u001b[0;32m~/opt/miniconda3/envs/ski_project/lib/python3.11/site-packages/pandas/core/generic.py:3720\u001b[0m, in \u001b[0;36mNDFrame.to_csv\u001b[0;34m(self, path_or_buf, sep, na_rep, float_format, columns, header, index, index_label, mode, encoding, compression, quoting, quotechar, lineterminator, chunksize, date_format, doublequote, escapechar, decimal, errors, storage_options)\u001b[0m\n\u001b[1;32m   3709\u001b[0m df \u001b[38;5;241m=\u001b[39m \u001b[38;5;28mself\u001b[39m \u001b[38;5;28;01mif\u001b[39;00m \u001b[38;5;28misinstance\u001b[39m(\u001b[38;5;28mself\u001b[39m, ABCDataFrame) \u001b[38;5;28;01melse\u001b[39;00m \u001b[38;5;28mself\u001b[39m\u001b[38;5;241m.\u001b[39mto_frame()\n\u001b[1;32m   3711\u001b[0m formatter \u001b[38;5;241m=\u001b[39m DataFrameFormatter(\n\u001b[1;32m   3712\u001b[0m     frame\u001b[38;5;241m=\u001b[39mdf,\n\u001b[1;32m   3713\u001b[0m     header\u001b[38;5;241m=\u001b[39mheader,\n\u001b[0;32m   (...)\u001b[0m\n\u001b[1;32m   3717\u001b[0m     decimal\u001b[38;5;241m=\u001b[39mdecimal,\n\u001b[1;32m   3718\u001b[0m )\n\u001b[0;32m-> 3720\u001b[0m \u001b[38;5;28;01mreturn\u001b[39;00m \u001b[43mDataFrameRenderer\u001b[49m\u001b[43m(\u001b[49m\u001b[43mformatter\u001b[49m\u001b[43m)\u001b[49m\u001b[38;5;241;43m.\u001b[39;49m\u001b[43mto_csv\u001b[49m\u001b[43m(\u001b[49m\n\u001b[1;32m   3721\u001b[0m \u001b[43m    \u001b[49m\u001b[43mpath_or_buf\u001b[49m\u001b[43m,\u001b[49m\n\u001b[1;32m   3722\u001b[0m \u001b[43m    \u001b[49m\u001b[43mlineterminator\u001b[49m\u001b[38;5;241;43m=\u001b[39;49m\u001b[43mlineterminator\u001b[49m\u001b[43m,\u001b[49m\n\u001b[1;32m   3723\u001b[0m \u001b[43m    \u001b[49m\u001b[43msep\u001b[49m\u001b[38;5;241;43m=\u001b[39;49m\u001b[43msep\u001b[49m\u001b[43m,\u001b[49m\n\u001b[1;32m   3724\u001b[0m \u001b[43m    \u001b[49m\u001b[43mencoding\u001b[49m\u001b[38;5;241;43m=\u001b[39;49m\u001b[43mencoding\u001b[49m\u001b[43m,\u001b[49m\n\u001b[1;32m   3725\u001b[0m \u001b[43m    \u001b[49m\u001b[43merrors\u001b[49m\u001b[38;5;241;43m=\u001b[39;49m\u001b[43merrors\u001b[49m\u001b[43m,\u001b[49m\n\u001b[1;32m   3726\u001b[0m \u001b[43m    \u001b[49m\u001b[43mcompression\u001b[49m\u001b[38;5;241;43m=\u001b[39;49m\u001b[43mcompression\u001b[49m\u001b[43m,\u001b[49m\n\u001b[1;32m   3727\u001b[0m \u001b[43m    \u001b[49m\u001b[43mquoting\u001b[49m\u001b[38;5;241;43m=\u001b[39;49m\u001b[43mquoting\u001b[49m\u001b[43m,\u001b[49m\n\u001b[1;32m   3728\u001b[0m \u001b[43m    \u001b[49m\u001b[43mcolumns\u001b[49m\u001b[38;5;241;43m=\u001b[39;49m\u001b[43mcolumns\u001b[49m\u001b[43m,\u001b[49m\n\u001b[1;32m   3729\u001b[0m \u001b[43m    \u001b[49m\u001b[43mindex_label\u001b[49m\u001b[38;5;241;43m=\u001b[39;49m\u001b[43mindex_label\u001b[49m\u001b[43m,\u001b[49m\n\u001b[1;32m   3730\u001b[0m \u001b[43m    \u001b[49m\u001b[43mmode\u001b[49m\u001b[38;5;241;43m=\u001b[39;49m\u001b[43mmode\u001b[49m\u001b[43m,\u001b[49m\n\u001b[1;32m   3731\u001b[0m \u001b[43m    \u001b[49m\u001b[43mchunksize\u001b[49m\u001b[38;5;241;43m=\u001b[39;49m\u001b[43mchunksize\u001b[49m\u001b[43m,\u001b[49m\n\u001b[1;32m   3732\u001b[0m \u001b[43m    \u001b[49m\u001b[43mquotechar\u001b[49m\u001b[38;5;241;43m=\u001b[39;49m\u001b[43mquotechar\u001b[49m\u001b[43m,\u001b[49m\n\u001b[1;32m   3733\u001b[0m \u001b[43m    \u001b[49m\u001b[43mdate_format\u001b[49m\u001b[38;5;241;43m=\u001b[39;49m\u001b[43mdate_format\u001b[49m\u001b[43m,\u001b[49m\n\u001b[1;32m   3734\u001b[0m \u001b[43m    \u001b[49m\u001b[43mdoublequote\u001b[49m\u001b[38;5;241;43m=\u001b[39;49m\u001b[43mdoublequote\u001b[49m\u001b[43m,\u001b[49m\n\u001b[1;32m   3735\u001b[0m \u001b[43m    \u001b[49m\u001b[43mescapechar\u001b[49m\u001b[38;5;241;43m=\u001b[39;49m\u001b[43mescapechar\u001b[49m\u001b[43m,\u001b[49m\n\u001b[1;32m   3736\u001b[0m \u001b[43m    \u001b[49m\u001b[43mstorage_options\u001b[49m\u001b[38;5;241;43m=\u001b[39;49m\u001b[43mstorage_options\u001b[49m\u001b[43m,\u001b[49m\n\u001b[1;32m   3737\u001b[0m \u001b[43m\u001b[49m\u001b[43m)\u001b[49m\n",
      "File \u001b[0;32m~/opt/miniconda3/envs/ski_project/lib/python3.11/site-packages/pandas/util/_decorators.py:211\u001b[0m, in \u001b[0;36mdeprecate_kwarg.<locals>._deprecate_kwarg.<locals>.wrapper\u001b[0;34m(*args, **kwargs)\u001b[0m\n\u001b[1;32m    209\u001b[0m     \u001b[38;5;28;01melse\u001b[39;00m:\n\u001b[1;32m    210\u001b[0m         kwargs[new_arg_name] \u001b[38;5;241m=\u001b[39m new_arg_value\n\u001b[0;32m--> 211\u001b[0m \u001b[38;5;28;01mreturn\u001b[39;00m \u001b[43mfunc\u001b[49m\u001b[43m(\u001b[49m\u001b[38;5;241;43m*\u001b[39;49m\u001b[43margs\u001b[49m\u001b[43m,\u001b[49m\u001b[43m \u001b[49m\u001b[38;5;241;43m*\u001b[39;49m\u001b[38;5;241;43m*\u001b[39;49m\u001b[43mkwargs\u001b[49m\u001b[43m)\u001b[49m\n",
      "File \u001b[0;32m~/opt/miniconda3/envs/ski_project/lib/python3.11/site-packages/pandas/io/formats/format.py:1189\u001b[0m, in \u001b[0;36mDataFrameRenderer.to_csv\u001b[0;34m(self, path_or_buf, encoding, sep, columns, index_label, mode, compression, quoting, quotechar, lineterminator, chunksize, date_format, doublequote, escapechar, errors, storage_options)\u001b[0m\n\u001b[1;32m   1168\u001b[0m     created_buffer \u001b[38;5;241m=\u001b[39m \u001b[38;5;28;01mFalse\u001b[39;00m\n\u001b[1;32m   1170\u001b[0m csv_formatter \u001b[38;5;241m=\u001b[39m CSVFormatter(\n\u001b[1;32m   1171\u001b[0m     path_or_buf\u001b[38;5;241m=\u001b[39mpath_or_buf,\n\u001b[1;32m   1172\u001b[0m     lineterminator\u001b[38;5;241m=\u001b[39mlineterminator,\n\u001b[0;32m   (...)\u001b[0m\n\u001b[1;32m   1187\u001b[0m     formatter\u001b[38;5;241m=\u001b[39m\u001b[38;5;28mself\u001b[39m\u001b[38;5;241m.\u001b[39mfmt,\n\u001b[1;32m   1188\u001b[0m )\n\u001b[0;32m-> 1189\u001b[0m \u001b[43mcsv_formatter\u001b[49m\u001b[38;5;241;43m.\u001b[39;49m\u001b[43msave\u001b[49m\u001b[43m(\u001b[49m\u001b[43m)\u001b[49m\n\u001b[1;32m   1191\u001b[0m \u001b[38;5;28;01mif\u001b[39;00m created_buffer:\n\u001b[1;32m   1192\u001b[0m     \u001b[38;5;28;01massert\u001b[39;00m \u001b[38;5;28misinstance\u001b[39m(path_or_buf, StringIO)\n",
      "File \u001b[0;32m~/opt/miniconda3/envs/ski_project/lib/python3.11/site-packages/pandas/io/formats/csvs.py:241\u001b[0m, in \u001b[0;36mCSVFormatter.save\u001b[0;34m(self)\u001b[0m\n\u001b[1;32m    237\u001b[0m \u001b[38;5;250m\u001b[39m\u001b[38;5;124;03m\"\"\"\u001b[39;00m\n\u001b[1;32m    238\u001b[0m \u001b[38;5;124;03mCreate the writer & save.\u001b[39;00m\n\u001b[1;32m    239\u001b[0m \u001b[38;5;124;03m\"\"\"\u001b[39;00m\n\u001b[1;32m    240\u001b[0m \u001b[38;5;66;03m# apply compression and byte/text conversion\u001b[39;00m\n\u001b[0;32m--> 241\u001b[0m \u001b[38;5;28;01mwith\u001b[39;00m \u001b[43mget_handle\u001b[49m\u001b[43m(\u001b[49m\n\u001b[1;32m    242\u001b[0m \u001b[43m    \u001b[49m\u001b[38;5;28;43mself\u001b[39;49m\u001b[38;5;241;43m.\u001b[39;49m\u001b[43mfilepath_or_buffer\u001b[49m\u001b[43m,\u001b[49m\n\u001b[1;32m    243\u001b[0m \u001b[43m    \u001b[49m\u001b[38;5;28;43mself\u001b[39;49m\u001b[38;5;241;43m.\u001b[39;49m\u001b[43mmode\u001b[49m\u001b[43m,\u001b[49m\n\u001b[1;32m    244\u001b[0m \u001b[43m    \u001b[49m\u001b[43mencoding\u001b[49m\u001b[38;5;241;43m=\u001b[39;49m\u001b[38;5;28;43mself\u001b[39;49m\u001b[38;5;241;43m.\u001b[39;49m\u001b[43mencoding\u001b[49m\u001b[43m,\u001b[49m\n\u001b[1;32m    245\u001b[0m \u001b[43m    \u001b[49m\u001b[43merrors\u001b[49m\u001b[38;5;241;43m=\u001b[39;49m\u001b[38;5;28;43mself\u001b[39;49m\u001b[38;5;241;43m.\u001b[39;49m\u001b[43merrors\u001b[49m\u001b[43m,\u001b[49m\n\u001b[1;32m    246\u001b[0m \u001b[43m    \u001b[49m\u001b[43mcompression\u001b[49m\u001b[38;5;241;43m=\u001b[39;49m\u001b[38;5;28;43mself\u001b[39;49m\u001b[38;5;241;43m.\u001b[39;49m\u001b[43mcompression\u001b[49m\u001b[43m,\u001b[49m\n\u001b[1;32m    247\u001b[0m \u001b[43m    \u001b[49m\u001b[43mstorage_options\u001b[49m\u001b[38;5;241;43m=\u001b[39;49m\u001b[38;5;28;43mself\u001b[39;49m\u001b[38;5;241;43m.\u001b[39;49m\u001b[43mstorage_options\u001b[49m\u001b[43m,\u001b[49m\n\u001b[1;32m    248\u001b[0m \u001b[43m\u001b[49m\u001b[43m)\u001b[49m \u001b[38;5;28;01mas\u001b[39;00m handles:\n\u001b[1;32m    249\u001b[0m \n\u001b[1;32m    250\u001b[0m     \u001b[38;5;66;03m# Note: self.encoding is irrelevant here\u001b[39;00m\n\u001b[1;32m    251\u001b[0m     \u001b[38;5;28mself\u001b[39m\u001b[38;5;241m.\u001b[39mwriter \u001b[38;5;241m=\u001b[39m csvlib\u001b[38;5;241m.\u001b[39mwriter(\n\u001b[1;32m    252\u001b[0m         handles\u001b[38;5;241m.\u001b[39mhandle,\n\u001b[1;32m    253\u001b[0m         lineterminator\u001b[38;5;241m=\u001b[39m\u001b[38;5;28mself\u001b[39m\u001b[38;5;241m.\u001b[39mlineterminator,\n\u001b[0;32m   (...)\u001b[0m\n\u001b[1;32m    258\u001b[0m         quotechar\u001b[38;5;241m=\u001b[39m\u001b[38;5;28mself\u001b[39m\u001b[38;5;241m.\u001b[39mquotechar,\n\u001b[1;32m    259\u001b[0m     )\n\u001b[1;32m    261\u001b[0m     \u001b[38;5;28mself\u001b[39m\u001b[38;5;241m.\u001b[39m_save()\n",
      "File \u001b[0;32m~/opt/miniconda3/envs/ski_project/lib/python3.11/site-packages/pandas/io/common.py:856\u001b[0m, in \u001b[0;36mget_handle\u001b[0;34m(path_or_buf, mode, encoding, compression, memory_map, is_text, errors, storage_options)\u001b[0m\n\u001b[1;32m    851\u001b[0m \u001b[38;5;28;01melif\u001b[39;00m \u001b[38;5;28misinstance\u001b[39m(handle, \u001b[38;5;28mstr\u001b[39m):\n\u001b[1;32m    852\u001b[0m     \u001b[38;5;66;03m# Check whether the filename is to be opened in binary mode.\u001b[39;00m\n\u001b[1;32m    853\u001b[0m     \u001b[38;5;66;03m# Binary mode does not support 'encoding' and 'newline'.\u001b[39;00m\n\u001b[1;32m    854\u001b[0m     \u001b[38;5;28;01mif\u001b[39;00m ioargs\u001b[38;5;241m.\u001b[39mencoding \u001b[38;5;129;01mand\u001b[39;00m \u001b[38;5;124m\"\u001b[39m\u001b[38;5;124mb\u001b[39m\u001b[38;5;124m\"\u001b[39m \u001b[38;5;129;01mnot\u001b[39;00m \u001b[38;5;129;01min\u001b[39;00m ioargs\u001b[38;5;241m.\u001b[39mmode:\n\u001b[1;32m    855\u001b[0m         \u001b[38;5;66;03m# Encoding\u001b[39;00m\n\u001b[0;32m--> 856\u001b[0m         handle \u001b[38;5;241m=\u001b[39m \u001b[38;5;28mopen\u001b[39m(\n\u001b[1;32m    857\u001b[0m             handle,\n\u001b[1;32m    858\u001b[0m             ioargs\u001b[38;5;241m.\u001b[39mmode,\n\u001b[1;32m    859\u001b[0m             encoding\u001b[38;5;241m=\u001b[39mioargs\u001b[38;5;241m.\u001b[39mencoding,\n\u001b[1;32m    860\u001b[0m             errors\u001b[38;5;241m=\u001b[39merrors,\n\u001b[1;32m    861\u001b[0m             newline\u001b[38;5;241m=\u001b[39m\u001b[38;5;124m\"\u001b[39m\u001b[38;5;124m\"\u001b[39m,\n\u001b[1;32m    862\u001b[0m         )\n\u001b[1;32m    863\u001b[0m     \u001b[38;5;28;01melse\u001b[39;00m:\n\u001b[1;32m    864\u001b[0m         \u001b[38;5;66;03m# Binary mode\u001b[39;00m\n\u001b[1;32m    865\u001b[0m         handle \u001b[38;5;241m=\u001b[39m \u001b[38;5;28mopen\u001b[39m(handle, ioargs\u001b[38;5;241m.\u001b[39mmode)\n",
      "\u001b[0;31mIsADirectoryError\u001b[0m: [Errno 21] Is a directory: 'data/2023-3-30/Soy_Xperia_bA/ToalAccpeleratin.csv'"
     ]
    }
   ],
   "source": [
    "df.to_csv(final_path, index=False)"
   ]
  },
  {
   "cell_type": "code",
   "execution_count": 80,
   "metadata": {},
   "outputs": [
    {
     "data": {
      "text/plain": [
       "PosixPath('/Users/kuba/SkiApp/input_data/2023-12-30/Sony_Xperia_XA/TotalAcceleration.csv')"
      ]
     },
     "execution_count": 80,
     "metadata": {},
     "output_type": "execute_result"
    }
   ],
   "source": [
    "path"
   ]
  },
  {
   "cell_type": "code",
   "execution_count": 75,
   "metadata": {},
   "outputs": [],
   "source": [
    "new_date_directory = Path('/data/2023-12-30/Sony_Xperia_XA/TotalAcceleration.csv')\n"
   ]
  },
  {
   "cell_type": "code",
   "execution_count": 78,
   "metadata": {},
   "outputs": [
    {
     "name": "stdout",
     "output_type": "stream",
     "text": [
      "data/2023-12-30/Sony_Xperia_XA\n"
     ]
    }
   ],
   "source": [
    "parent_directory = new_date_directory.parent\n",
    "\n",
    "# Get the last three components\n",
    "last_three_components = parent_directory.parts[-3:]\n",
    "\n",
    "# Join the components back together into a Path\n",
    "last_three_path = Path(*last_three_components)\n",
    "\n",
    "print(last_three_path)"
   ]
  },
  {
   "cell_type": "code",
   "execution_count": 71,
   "metadata": {},
   "outputs": [],
   "source": [
    "new_date_directory = Path('/data/2023-12-30/Sony_Xperia_XA/TotalAcceleration.csv')\n",
    "\n",
    "new_date_directory.mkdir(parents=True, exist_ok=True)"
   ]
  },
  {
   "cell_type": "code",
   "execution_count": null,
   "metadata": {},
   "outputs": [],
   "source": [
    "os.makedirs(os.path.dirname('data/2023-12-30/Sony_Xperia_XA'), exist_ok=True)\n",
    "\n",
    "df.to_csv(new_path, index=False)"
   ]
  },
  {
   "cell_type": "code",
   "execution_count": null,
   "metadata": {},
   "outputs": [],
   "source": []
  }
 ],
 "metadata": {
  "kernelspec": {
   "display_name": "ski_project",
   "language": "python",
   "name": "python3"
  },
  "language_info": {
   "codemirror_mode": {
    "name": "ipython",
    "version": 3
   },
   "file_extension": ".py",
   "mimetype": "text/x-python",
   "name": "python",
   "nbconvert_exporter": "python",
   "pygments_lexer": "ipython3",
   "version": "3.11.5"
  }
 },
 "nbformat": 4,
 "nbformat_minor": 2
}
