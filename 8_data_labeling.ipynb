{
 "cells": [
  {
   "cell_type": "code",
   "execution_count": null,
   "metadata": {},
   "outputs": [],
   "source": [
    "%load_ext autoreload\n",
    "%autoreload 2"
   ]
  },
  {
   "cell_type": "code",
   "execution_count": null,
   "metadata": {},
   "outputs": [],
   "source": [
    "#from app.DataLoader import DataLoader\n",
    "from app.DataLoader import DataLoader\n",
    "from app.DataSpliter import DataSplitter, GranularDataSplitter\n",
    "from app.visualization_utils import draw_plotly\n"
   ]
  },
  {
   "cell_type": "code",
   "execution_count": null,
   "metadata": {},
   "outputs": [],
   "source": [
    "loader = DataLoader(\"data/2024-02-25/HUAWEI_MATE/final_df.csv\")\n",
    "data = loader.load_transform_data()\n",
    "data"
   ]
  },
  {
   "cell_type": "code",
   "execution_count": null,
   "metadata": {},
   "outputs": [],
   "source": [
    "spliter = DataSplitter(data)"
   ]
  },
  {
   "cell_type": "code",
   "execution_count": null,
   "metadata": {},
   "outputs": [],
   "source": [
    "# Stop count as a curve - Nope\n",
    "curves2 = [\n",
    "    \"16:55:33.7\",\n",
    "    \"16:55:37.8\",\n",
    "    \"16:55:41.2\",\n",
    "    \"16:55:45.0\",\n",
    "    \"16:55:49.2\",\n",
    "    \"16:55:51.9\",\n",
    "    \"16:55:56.5\",\n",
    "    \"16:56:00.9\",\n",
    "    \"16:56:03.4\",\n",
    "    \"16:56:05.7\",\n",
    "    \"16:56:08.4\",\n",
    "    \"16:56:13.2\",\n",
    "    \"16:56:16.3\",\n",
    "    \"16:56:18.8\",\n",
    "    \"16:56:20.9\",\n",
    "    \"16:56:27.4\",\n",
    "    \"16:56:30.6\",\n",
    "    \"16:56:32.0\",\n",
    "    \"16:56:34.6\",\n",
    "    \"16:56:38.0\",\n",
    "    \"16:56:40.5\",\n",
    "    \"16:56:43.0\",\n",
    "    \"16:56:44.8\",\n",
    "    \"16:56:47.3\",\n",
    "    \"16:56:51.0\",\n",
    "    \"16:56:54.5\",\n",
    "\n",
    "]"
   ]
  },
  {
   "cell_type": "code",
   "execution_count": null,
   "metadata": {},
   "outputs": [],
   "source": [
    "curves_R = []\n",
    "curves_L = []\n",
    "# first curve is under i % 2 == 0\n",
    "for i in range(len(curves2)):\n",
    "    if i % 2 == 0:\n",
    "        curves_R.append(curves2[i])\n",
    "        #curves_L.append(curves2[i])\n",
    "    else:\n",
    "        curves_L.append(curves2[i])\n",
    "        #curves_R.append(curves2[i])\n",
    "#additional curves\n",
    "# curves_R.append(\"16:22:34.9\")\n",
    "# curves_R.append(\"16:23:19.0\")\n",
    "# curves_R.append(\"16:22:49.5\")\n",
    "# curves_L.append(\"16:22:50.9\")\n",
    "# curves_L.append(\"16:22:32.4\")"
   ]
  },
  {
   "cell_type": "code",
   "execution_count": null,
   "metadata": {},
   "outputs": [],
   "source": []
  },
  {
   "cell_type": "code",
   "execution_count": null,
   "metadata": {},
   "outputs": [],
   "source": [
    "labeled_data = spliter.split_label_data(start_time=\"16:55:32\",end_time=\"16:56:56\",offset=\"-0:00:01.2\", curves_L=curves_L, curves_R=curves_R)"
   ]
  },
  {
   "cell_type": "code",
   "execution_count": null,
   "metadata": {},
   "outputs": [],
   "source": [
    "draw_plotly(labeled_data, \"Orientation\")"
   ]
  },
  {
   "cell_type": "code",
   "execution_count": null,
   "metadata": {},
   "outputs": [],
   "source": []
  },
  {
   "cell_type": "code",
   "execution_count": null,
   "metadata": {},
   "outputs": [],
   "source": [
    "labeled_data.to_csv(\"data/labeled/HUAWEI_MATE/2024-02-25_26.csv\", index=True)"
   ]
  },
  {
   "cell_type": "code",
   "execution_count": null,
   "metadata": {},
   "outputs": [],
   "source": [
    "up to 0019 - it is done entirely"
   ]
  },
  {
   "cell_type": "code",
   "execution_count": null,
   "metadata": {},
   "outputs": [],
   "source": [
    "import pandas as pd\n",
    "test_df = pd.read_csv(\"data/labeled/HUAWEI_MATE/2024-02-25_1.csv\", index_col=0)\n",
    "draw_plotly(test_df, \"Orientation\")"
   ]
  },
  {
   "cell_type": "code",
   "execution_count": null,
   "metadata": {},
   "outputs": [],
   "source": []
  }
 ],
 "metadata": {
  "kernelspec": {
   "display_name": "ski_project",
   "language": "python",
   "name": "python3"
  },
  "language_info": {
   "codemirror_mode": {
    "name": "ipython",
    "version": 3
   },
   "file_extension": ".py",
   "mimetype": "text/x-python",
   "name": "python",
   "nbconvert_exporter": "python",
   "pygments_lexer": "ipython3",
   "version": "3.11.5"
  }
 },
 "nbformat": 4,
 "nbformat_minor": 2
}
