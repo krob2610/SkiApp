{
 "cells": [
  {
   "cell_type": "code",
   "execution_count": 1,
   "metadata": {},
   "outputs": [],
   "source": [
    "import os\n",
    "import zipfile\n",
    "from pathlib import Path\n",
    "from app.FileArranger import FileArranger"
   ]
  },
  {
   "cell_type": "code",
   "execution_count": 2,
   "metadata": {},
   "outputs": [
    {
     "name": "stderr",
     "output_type": "stream",
     "text": [
      "INFO:root:Device: Sony_Xperia_XA with date: 2023-12-13 will be saved to folder\n",
      "WARNING:root:The file AccelerometerUncalibrated.csv is empty\n",
      "INFO:root:Device: HUAWEI_Y7 with date: 2023-12-12 will be saved to folder\n",
      "INFO:root:Device: Sony_Xperia_XA with date: 2023-12-12 will be saved to folder\n",
      "WARNING:root:The file AccelerometerUncalibrated.csv is empty\n",
      "INFO:root:Device: LG_K10 with date: 2023-12-12 will be saved to folder\n",
      "WARNING:root:The file AccelerometerUncalibrated.csv is empty\n",
      "INFO:root:Device: OPPO_AX7 with date: 2023-12-12 will be saved to folder\n",
      "WARNING:root:No sensor data for : Gyroscope\n",
      "WARNING:root:No sensor data for : GyroscopeUncalibrated\n",
      "INFO:root:Device: HONOR_8X with date: 2023-12-12 will be saved to folder\n",
      "WARNING:root:No sensor data for : Gyroscope\n",
      "WARNING:root:No sensor data for : GyroscopeUncalibrated\n",
      "WARNING:root:The file AccelerometerUncalibrated.csv is empty\n",
      "INFO:root:Device: HUAWEI_P9_LITE with date: 2023-12-12 will be saved to folder\n",
      "WARNING:root:The file AccelerometerUncalibrated.csv is empty\n",
      "INFO:root:Device: Sony_Xperia_M5 with date: 2023-12-12 will be saved to folder\n",
      "WARNING:root:The file AccelerometerUncalibrated.csv is empty\n",
      "INFO:root:Device: LENOVO_K6_NOTE with date: 2023-12-12 will be saved to folder\n",
      "WARNING:root:No sensor data for : Gyroscope\n",
      "WARNING:root:No sensor data for : GyroscopeUncalibrated\n",
      "WARNING:root:The file AccelerometerUncalibrated.csv is empty\n",
      "INFO:root:Device: HUAWEI_MATE with date: 2023-12-12 will be saved to folder\n",
      "WARNING:root:No sensor data for : Gyroscope\n",
      "WARNING:root:No sensor data for : GyroscopeUncalibrated\n",
      "WARNING:root:The file AccelerometerUncalibrated.csv is empty\n"
     ]
    },
    {
     "data": {
      "text/plain": [
       "<app.FileArranger.FileArranger at 0x11b3e9b10>"
      ]
     },
     "execution_count": 2,
     "metadata": {},
     "output_type": "execute_result"
    }
   ],
   "source": [
    "FileArranger()"
   ]
  },
  {
   "cell_type": "code",
   "execution_count": null,
   "metadata": {},
   "outputs": [],
   "source": [
    "'2023-12-12_23-50-12-4ea9b8e2f62a4cf7b5813f0c5f364589'\n",
    "'/Users/kuba/doktorskie/input_data/new_input/2023-12-12_23-50-12-4ea9b8e2f62a4cf7b5813f0c5f364589 copy.zip'"
   ]
  },
  {
   "cell_type": "code",
   "execution_count": 8,
   "metadata": {},
   "outputs": [
    {
     "data": {
      "text/plain": [
       "'2023-12-12_23-50-12-4ea9b8e2f62a4cf7b5813f0c5f364589 copy'"
      ]
     },
     "execution_count": 8,
     "metadata": {},
     "output_type": "execute_result"
    }
   ],
   "source": [
    "zip_file_path = \"/Users/kuba/doktorskie/input_data/new_input/2023-12-12_23-50-12-4ea9b8e2f62a4cf7b5813f0c5f364589 copy.zip\"\n",
    "folder_name = os.path.splitext(os.path.basename(zip_file_path))[0]\n",
    "folder_name"
   ]
  }
 ],
 "metadata": {
  "kernelspec": {
   "display_name": "phd",
   "language": "python",
   "name": "python3"
  },
  "language_info": {
   "codemirror_mode": {
    "name": "ipython",
    "version": 3
   },
   "file_extension": ".py",
   "mimetype": "text/x-python",
   "name": "python",
   "nbconvert_exporter": "python",
   "pygments_lexer": "ipython3",
   "version": "3.11.5"
  }
 },
 "nbformat": 4,
 "nbformat_minor": 2
}
