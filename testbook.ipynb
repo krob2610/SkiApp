{
 "cells": [
  {
   "cell_type": "code",
   "execution_count": 1,
   "metadata": {},
   "outputs": [],
   "source": [
    "import os\n",
    "import zipfile\n",
    "from pathlib import Path\n",
    "from app.FileArranger import FileArranger"
   ]
  },
  {
   "cell_type": "code",
   "execution_count": 2,
   "metadata": {},
   "outputs": [
    {
     "name": "stdout",
     "output_type": "stream",
     "text": [
      "\n",
      "Checking input_data/2023-12-13:\n",
      "Devices: 1/9 🔥\n",
      "Missing devices:\n",
      "HUAWEI_Y7: ❌\n",
      "Sony_Xperia_M5: ❌\n",
      "HONOR_8X: ❌\n",
      "OPPO_AX7: ❌\n",
      "LENOVO_K6_NOTE: ❌\n",
      "LG_K10: ❌\n",
      "HUAWEI_MATE: ❌\n",
      "HUAWEI_P9_LITE: ❌\n",
      "\n",
      "Checking input_data/2023-12-12:\n",
      "Devices: 9/9 ✅\n"
     ]
    }
   ],
   "source": [
    "f = FileArranger()"
   ]
  },
  {
   "cell_type": "code",
   "execution_count": 5,
   "metadata": {},
   "outputs": [
    {
     "data": {
      "text/plain": [
       "[PosixPath('input_data/2023-12-13'), PosixPath('input_data/2023-12-12')]"
      ]
     },
     "execution_count": 5,
     "metadata": {},
     "output_type": "execute_result"
    }
   ],
   "source": [
    "f.dates_dirs"
   ]
  },
  {
   "cell_type": "code",
   "execution_count": 6,
   "metadata": {},
   "outputs": [
    {
     "data": {
      "text/plain": [
       "'/Users/kuba/doktorskie/input_data/new_input/2023-12-12_23-50-12-4ea9b8e2f62a4cf7b5813f0c5f364589 copy.zip'"
      ]
     },
     "execution_count": 6,
     "metadata": {},
     "output_type": "execute_result"
    }
   ],
   "source": [
    "'2023-12-12_23-50-12-4ea9b8e2f62a4cf7b5813f0c5f364589'\n",
    "'/Users/kuba/doktorskie/input_data/new_input/2023-12-12_23-50-12-4ea9b8e2f62a4cf7b5813f0c5f364589 copy.zip'"
   ]
  },
  {
   "cell_type": "code",
   "execution_count": 7,
   "metadata": {},
   "outputs": [
    {
     "data": {
      "text/plain": [
       "'2023-12-12_23-50-12-4ea9b8e2f62a4cf7b5813f0c5f364589 copy'"
      ]
     },
     "execution_count": 7,
     "metadata": {},
     "output_type": "execute_result"
    }
   ],
   "source": [
    "zip_file_path = \"/Users/kuba/doktorskie/input_data/new_input/2023-12-12_23-50-12-4ea9b8e2f62a4cf7b5813f0c5f364589 copy.zip\"\n",
    "folder_name = os.path.splitext(os.path.basename(zip_file_path))[0]\n",
    "folder_name"
   ]
  }
 ],
 "metadata": {
  "kernelspec": {
   "display_name": "phd",
   "language": "python",
   "name": "python3"
  },
  "language_info": {
   "codemirror_mode": {
    "name": "ipython",
    "version": 3
   },
   "file_extension": ".py",
   "mimetype": "text/x-python",
   "name": "python",
   "nbconvert_exporter": "python",
   "pygments_lexer": "ipython3",
   "version": "3.11.5"
  }
 },
 "nbformat": 4,
 "nbformat_minor": 2
}
