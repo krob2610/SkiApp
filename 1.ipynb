{
 "cells": [
  {
   "cell_type": "code",
   "execution_count": null,
   "metadata": {},
   "outputs": [],
   "source": [
    "import os\n",
    "from pathlib import Path\n",
    "from app.FileArranger import FileArranger\n",
    "from app.utils import calculate_camera_time_offset"
   ]
  },
  {
   "cell_type": "code",
   "execution_count": null,
   "metadata": {},
   "outputs": [],
   "source": []
  },
  {
   "cell_type": "code",
   "execution_count": null,
   "metadata": {},
   "outputs": [],
   "source": [
    "DEVICE_TIME_OFFSET = {\n",
    "    \"1\": -10,\n",
    "    \"2\": 25,\n",
    "    \"3\": -158,\n",
    "    \"4\": -1956,\n",
    "    \"5\": 49,\n",
    "    \"6\": 16,\n",
    "    \"7\": 18,\n",
    "    \"8\": -915,\n",
    "    \"9\": 0,\n",
    "}\n",
    "\n",
    "f = FileArranger(device_offset= DEVICE_TIME_OFFSET)"
   ]
  },
  {
   "cell_type": "code",
   "execution_count": null,
   "metadata": {},
   "outputs": [],
   "source": [
    "f.delete_new_inputs()"
   ]
  },
  {
   "cell_type": "code",
   "execution_count": null,
   "metadata": {},
   "outputs": [],
   "source": [
    "f.dates_dirs"
   ]
  },
  {
   "cell_type": "code",
   "execution_count": null,
   "metadata": {},
   "outputs": [],
   "source": [
    "'2023-12-12_23-50-12-4ea9b8e2f62a4cf7b5813f0c5f364589'\n",
    "'/Users/kuba/doktorskie/input_data/new_input/2023-12-12_23-50-12-4ea9b8e2f62a4cf7b5813f0c5f364589 copy.zip'"
   ]
  },
  {
   "cell_type": "code",
   "execution_count": null,
   "metadata": {},
   "outputs": [],
   "source": [
    "zip_file_path = \"/Users/kuba/doktorskie/input_data/new_input/2023-12-12_23-50-12-4ea9b8e2f62a4cf7b5813f0c5f364589 copy.zip\"\n",
    "folder_name = os.path.splitext(os.path.basename(zip_file_path))[0]\n",
    "folder_name"
   ]
  }
 ],
 "metadata": {
  "kernelspec": {
   "display_name": "phd",
   "language": "python",
   "name": "python3"
  },
  "language_info": {
   "codemirror_mode": {
    "name": "ipython",
    "version": 3
   },
   "file_extension": ".py",
   "mimetype": "text/x-python",
   "name": "python",
   "nbconvert_exporter": "python",
   "pygments_lexer": "ipython3",
   "version": "3.11.5"
  }
 },
 "nbformat": 4,
 "nbformat_minor": 2
}
