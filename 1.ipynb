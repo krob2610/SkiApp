{
 "cells": [
  {
   "cell_type": "code",
   "execution_count": 4,
   "metadata": {},
   "outputs": [],
   "source": [
    "import os\n",
    "from pathlib import Path\n",
    "from app.FileArranger import FileArranger\n",
    "from app.utils import calculate_camera_time_offset"
   ]
  },
  {
   "cell_type": "code",
   "execution_count": 5,
   "metadata": {},
   "outputs": [],
   "source": [
    "DEVICE_TIME_OFFSET = {\n",
    "    \"1\": -59,\n",
    "    \"2\": -5785,\n",
    "    \"3\": -4988,\n",
    "    \"4\": -3918,\n",
    "    \"5\": 3610,\n",
    "    \"6\": -1045,\n",
    "    \"7\": 170,\n",
    "    \"8\": -4492,\n",
    "    \"9\": -4712,\n",
    "}\n"
   ]
  },
  {
   "cell_type": "code",
   "execution_count": 6,
   "metadata": {},
   "outputs": [
    {
     "name": "stdout",
     "output_type": "stream",
     "text": [
      "Extracting input_data/!new_input/2024-01-05_09-06-41-4ea9b8e2f62a4cf7b5813f0c5f364589.zip\n",
      "Extracting input_data/!new_input/2024-01-05_09-06-37-6792f50a55cf43f988e107130f644285.zip\n",
      "Extracting input_data/!new_input/2024-01-05_09-06-59-03f99d7af5d44d959af480e95a4b720b.zip\n",
      "Extracting input_data/!new_input/2024-01-05_09-05-24-63ad695bbf604f6f8dc819258bf1a096.zip\n",
      "Extracting input_data/!new_input/2024-01-05_09-03-43-78b99b8517ac4838aeec69198d9a795f.zip\n",
      "Extracting input_data/!new_input/2024-01-05_09-05-59-e759d4f0f1544fd6a8d76f68cf467a13.zip\n"
     ]
    },
    {
     "ename": "BadZipFile",
     "evalue": "File is not a zip file",
     "output_type": "error",
     "traceback": [
      "\u001b[0;31m---------------------------------------------------------------------------\u001b[0m",
      "\u001b[0;31mBadZipFile\u001b[0m                                Traceback (most recent call last)",
      "Cell \u001b[0;32mIn[6], line 1\u001b[0m\n\u001b[0;32m----> 1\u001b[0m f \u001b[38;5;241m=\u001b[39m \u001b[43mFileArranger\u001b[49m\u001b[43m(\u001b[49m\u001b[43mdevice_offset\u001b[49m\u001b[38;5;241;43m=\u001b[39;49m\u001b[43m \u001b[49m\u001b[43mDEVICE_TIME_OFFSET\u001b[49m\u001b[43m)\u001b[49m\n",
      "File \u001b[0;32m~/SkiApp/app/FileArranger.py:20\u001b[0m, in \u001b[0;36mFileArranger.__init__\u001b[0;34m(self, device_offset, delete)\u001b[0m\n\u001b[1;32m     18\u001b[0m \u001b[38;5;28mself\u001b[39m\u001b[38;5;241m.\u001b[39mdates_dirs \u001b[38;5;241m=\u001b[39m []\n\u001b[1;32m     19\u001b[0m \u001b[38;5;28mself\u001b[39m\u001b[38;5;241m.\u001b[39m_unpack_folder()\n\u001b[0;32m---> 20\u001b[0m \u001b[38;5;28;43mself\u001b[39;49m\u001b[38;5;241;43m.\u001b[39;49m\u001b[43m_save_data_to_coresponding_file\u001b[49m\u001b[43m(\u001b[49m\u001b[43m)\u001b[49m\n\u001b[1;32m     21\u001b[0m \u001b[38;5;28mself\u001b[39m\u001b[38;5;241m.\u001b[39mcheck_files_saved()\n\u001b[1;32m     22\u001b[0m \u001b[38;5;28;01mif\u001b[39;00m delete:\n",
      "File \u001b[0;32m~/SkiApp/app/FileArranger.py:29\u001b[0m, in \u001b[0;36mFileArranger._save_data_to_coresponding_file\u001b[0;34m(self)\u001b[0m\n\u001b[1;32m     26\u001b[0m names \u001b[38;5;241m=\u001b[39m \u001b[38;5;28mself\u001b[39m\u001b[38;5;241m.\u001b[39m_get_folder_names()\n\u001b[1;32m     28\u001b[0m \u001b[38;5;28;01mfor\u001b[39;00m name \u001b[38;5;129;01min\u001b[39;00m names:\n\u001b[0;32m---> 29\u001b[0m     \u001b[38;5;28;43mself\u001b[39;49m\u001b[38;5;241;43m.\u001b[39;49m\u001b[43m_extract_zip\u001b[49m\u001b[43m(\u001b[49m\u001b[43mname\u001b[49m\u001b[43m)\u001b[49m\n",
      "File \u001b[0;32m~/SkiApp/app/FileArranger.py:77\u001b[0m, in \u001b[0;36mFileArranger._extract_zip\u001b[0;34m(self, path)\u001b[0m\n\u001b[1;32m     75\u001b[0m new_date_directory\u001b[38;5;241m.\u001b[39mmkdir(parents\u001b[38;5;241m=\u001b[39m\u001b[38;5;28;01mTrue\u001b[39;00m, exist_ok\u001b[38;5;241m=\u001b[39m\u001b[38;5;28;01mTrue\u001b[39;00m)\n\u001b[1;32m     76\u001b[0m \u001b[38;5;28mprint\u001b[39m(\u001b[38;5;124mf\u001b[39m\u001b[38;5;124m\"\u001b[39m\u001b[38;5;124mExtracting \u001b[39m\u001b[38;5;132;01m{\u001b[39;00mPath(INPUT_PATH)\u001b[38;5;250m \u001b[39m\u001b[38;5;241m/\u001b[39m\u001b[38;5;250m \u001b[39mPath(NEW_INPUT)\u001b[38;5;250m \u001b[39m\u001b[38;5;241m/\u001b[39m\u001b[38;5;250m \u001b[39mpath\u001b[38;5;132;01m}\u001b[39;00m\u001b[38;5;124m\"\u001b[39m)\n\u001b[0;32m---> 77\u001b[0m \u001b[38;5;28;01mwith\u001b[39;00m \u001b[43mzipfile\u001b[49m\u001b[38;5;241;43m.\u001b[39;49m\u001b[43mZipFile\u001b[49m\u001b[43m(\u001b[49m\u001b[43mPath\u001b[49m\u001b[43m(\u001b[49m\u001b[43mINPUT_PATH\u001b[49m\u001b[43m)\u001b[49m\u001b[43m \u001b[49m\u001b[38;5;241;43m/\u001b[39;49m\u001b[43m \u001b[49m\u001b[43mPath\u001b[49m\u001b[43m(\u001b[49m\u001b[43mNEW_INPUT\u001b[49m\u001b[43m)\u001b[49m\u001b[43m \u001b[49m\u001b[38;5;241;43m/\u001b[39;49m\u001b[43m \u001b[49m\u001b[43mpath\u001b[49m\u001b[43m,\u001b[49m\u001b[43m \u001b[49m\u001b[38;5;124;43m\"\u001b[39;49m\u001b[38;5;124;43mr\u001b[39;49m\u001b[38;5;124;43m\"\u001b[39;49m\u001b[43m)\u001b[49m \u001b[38;5;28;01mas\u001b[39;00m zip_ref:\n\u001b[1;32m     78\u001b[0m     \u001b[38;5;66;03m# Extract all the files into the new folder\u001b[39;00m\n\u001b[1;32m     79\u001b[0m     \u001b[38;5;66;03m# Log the names of all the files in the zip file\u001b[39;00m\n\u001b[1;32m     80\u001b[0m     \u001b[38;5;66;03m# for filename in zip_ref.namelist():\u001b[39;00m\n\u001b[1;32m     81\u001b[0m     \u001b[38;5;66;03m#     if filename[:-4] not in SENSORS:\u001b[39;00m\n\u001b[1;32m     82\u001b[0m     \u001b[38;5;66;03m#         logging.warning(f\"No sensor data for : {filename[:-4]}\")\u001b[39;00m\n\u001b[1;32m     84\u001b[0m     zip_ref\u001b[38;5;241m.\u001b[39mextractall(new_date_directory)\n\u001b[1;32m     86\u001b[0m     \u001b[38;5;66;03m# file_path = new_date_directory / filename\u001b[39;00m\n\u001b[1;32m     87\u001b[0m     \u001b[38;5;66;03m# if os.stat(file_path).st_size == 0:\u001b[39;00m\n\u001b[1;32m     88\u001b[0m     \u001b[38;5;66;03m#     logging.warning(f\"The file {filename} is empty\")\u001b[39;00m\n\u001b[1;32m     89\u001b[0m \n\u001b[1;32m     90\u001b[0m \u001b[38;5;66;03m# add offset to txt file\u001b[39;00m\n",
      "File \u001b[0;32m~/opt/miniconda3/envs/ski_project/lib/python3.11/zipfile.py:1302\u001b[0m, in \u001b[0;36mZipFile.__init__\u001b[0;34m(self, file, mode, compression, allowZip64, compresslevel, strict_timestamps, metadata_encoding)\u001b[0m\n\u001b[1;32m   1300\u001b[0m \u001b[38;5;28;01mtry\u001b[39;00m:\n\u001b[1;32m   1301\u001b[0m     \u001b[38;5;28;01mif\u001b[39;00m mode \u001b[38;5;241m==\u001b[39m \u001b[38;5;124m'\u001b[39m\u001b[38;5;124mr\u001b[39m\u001b[38;5;124m'\u001b[39m:\n\u001b[0;32m-> 1302\u001b[0m         \u001b[38;5;28;43mself\u001b[39;49m\u001b[38;5;241;43m.\u001b[39;49m\u001b[43m_RealGetContents\u001b[49m\u001b[43m(\u001b[49m\u001b[43m)\u001b[49m\n\u001b[1;32m   1303\u001b[0m     \u001b[38;5;28;01melif\u001b[39;00m mode \u001b[38;5;129;01min\u001b[39;00m (\u001b[38;5;124m'\u001b[39m\u001b[38;5;124mw\u001b[39m\u001b[38;5;124m'\u001b[39m, \u001b[38;5;124m'\u001b[39m\u001b[38;5;124mx\u001b[39m\u001b[38;5;124m'\u001b[39m):\n\u001b[1;32m   1304\u001b[0m         \u001b[38;5;66;03m# set the modified flag so central directory gets written\u001b[39;00m\n\u001b[1;32m   1305\u001b[0m         \u001b[38;5;66;03m# even if no files are added to the archive\u001b[39;00m\n\u001b[1;32m   1306\u001b[0m         \u001b[38;5;28mself\u001b[39m\u001b[38;5;241m.\u001b[39m_didModify \u001b[38;5;241m=\u001b[39m \u001b[38;5;28;01mTrue\u001b[39;00m\n",
      "File \u001b[0;32m~/opt/miniconda3/envs/ski_project/lib/python3.11/zipfile.py:1369\u001b[0m, in \u001b[0;36mZipFile._RealGetContents\u001b[0;34m(self)\u001b[0m\n\u001b[1;32m   1367\u001b[0m     \u001b[38;5;28;01mraise\u001b[39;00m BadZipFile(\u001b[38;5;124m\"\u001b[39m\u001b[38;5;124mFile is not a zip file\u001b[39m\u001b[38;5;124m\"\u001b[39m)\n\u001b[1;32m   1368\u001b[0m \u001b[38;5;28;01mif\u001b[39;00m \u001b[38;5;129;01mnot\u001b[39;00m endrec:\n\u001b[0;32m-> 1369\u001b[0m     \u001b[38;5;28;01mraise\u001b[39;00m BadZipFile(\u001b[38;5;124m\"\u001b[39m\u001b[38;5;124mFile is not a zip file\u001b[39m\u001b[38;5;124m\"\u001b[39m)\n\u001b[1;32m   1370\u001b[0m \u001b[38;5;28;01mif\u001b[39;00m \u001b[38;5;28mself\u001b[39m\u001b[38;5;241m.\u001b[39mdebug \u001b[38;5;241m>\u001b[39m \u001b[38;5;241m1\u001b[39m:\n\u001b[1;32m   1371\u001b[0m     \u001b[38;5;28mprint\u001b[39m(endrec)\n",
      "\u001b[0;31mBadZipFile\u001b[0m: File is not a zip file"
     ]
    }
   ],
   "source": [
    "f = FileArranger(device_offset= DEVICE_TIME_OFFSET)"
   ]
  },
  {
   "cell_type": "code",
   "execution_count": 5,
   "metadata": {},
   "outputs": [
    {
     "data": {
      "text/plain": [
       "[PosixPath('input_data/2023-12-31')]"
      ]
     },
     "execution_count": 5,
     "metadata": {},
     "output_type": "execute_result"
    }
   ],
   "source": [
    "f.dates_dirs"
   ]
  },
  {
   "cell_type": "code",
   "execution_count": 6,
   "metadata": {},
   "outputs": [
    {
     "data": {
      "text/plain": [
       "'/Users/kuba/doktorskie/input_data/new_input/2023-12-12_23-50-12-4ea9b8e2f62a4cf7b5813f0c5f364589 copy.zip'"
      ]
     },
     "execution_count": 6,
     "metadata": {},
     "output_type": "execute_result"
    }
   ],
   "source": [
    "'2023-12-12_23-50-12-4ea9b8e2f62a4cf7b5813f0c5f364589'\n",
    "'/Users/kuba/doktorskie/input_data/new_input/2023-12-12_23-50-12-4ea9b8e2f62a4cf7b5813f0c5f364589 copy.zip'"
   ]
  },
  {
   "cell_type": "code",
   "execution_count": 7,
   "metadata": {},
   "outputs": [
    {
     "data": {
      "text/plain": [
       "'2023-12-12_23-50-12-4ea9b8e2f62a4cf7b5813f0c5f364589 copy'"
      ]
     },
     "execution_count": 7,
     "metadata": {},
     "output_type": "execute_result"
    }
   ],
   "source": [
    "zip_file_path = \"/Users/kuba/doktorskie/input_data/new_input/2023-12-12_23-50-12-4ea9b8e2f62a4cf7b5813f0c5f364589 copy.zip\"\n",
    "folder_name = os.path.splitext(os.path.basename(zip_file_path))[0]\n",
    "folder_name"
   ]
  }
 ],
 "metadata": {
  "kernelspec": {
   "display_name": "phd",
   "language": "python",
   "name": "python3"
  },
  "language_info": {
   "codemirror_mode": {
    "name": "ipython",
    "version": 3
   },
   "file_extension": ".py",
   "mimetype": "text/x-python",
   "name": "python",
   "nbconvert_exporter": "python",
   "pygments_lexer": "ipython3",
   "version": "3.11.5"
  }
 },
 "nbformat": 4,
 "nbformat_minor": 2
}
