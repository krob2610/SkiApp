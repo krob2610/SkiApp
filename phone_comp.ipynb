{
 "cells": [
  {
   "cell_type": "code",
   "execution_count": 21,
   "metadata": {},
   "outputs": [],
   "source": [
    "import pandas as pd\n",
    "import os\n"
   ]
  },
  {
   "cell_type": "code",
   "execution_count": 22,
   "metadata": {},
   "outputs": [],
   "source": [
    "df = pd.read_csv('/Users/kuba/SkiApp/data/2023-12-31/HUAWEI_Y7/final_df.csv')"
   ]
  },
  {
   "cell_type": "code",
   "execution_count": 23,
   "metadata": {},
   "outputs": [],
   "source": [
    "#read all final_df.csv from data/2023-12-31 folder to pd.dataframe and append them to list\n"
   ]
  },
  {
   "cell_type": "code",
   "execution_count": 24,
   "metadata": {},
   "outputs": [],
   "source": [
    "def read_csv_files(folder_path):\n",
    "    \"\"\"Read all final_df.csv files from the given folder into pandas DataFrames and append them to a list\"\"\"\n",
    "    # Get the directories in the folder\n",
    "    directories = [d for d in os.listdir(folder_path) if os.path.isdir(os.path.join(folder_path, d))]\n",
    "\n",
    "    # Construct the file paths\n",
    "    file_paths = [os.path.join(folder_path, d, 'final_df.csv') for d in directories]\n",
    "\n",
    "    # Read the files and append them to a list\n",
    "    df_list = [pd.read_csv(file_path) for file_path in file_paths if os.path.exists(file_path)]\n",
    "\n",
    "    return df_list"
   ]
  },
  {
   "cell_type": "code",
   "execution_count": 25,
   "metadata": {},
   "outputs": [],
   "source": [
    "def read_csv_files(folder_path):\n",
    "    \"\"\"Read all final_df.csv files from the given folder into pandas DataFrames and store them in a dictionary\"\"\"\n",
    "    # Get the directories in the folder\n",
    "    directories = [d for d in os.listdir(folder_path) if os.path.isdir(os.path.join(folder_path, d))]\n",
    "\n",
    "    # Construct the file paths and read the files\n",
    "    df_dict = {d: pd.read_csv(os.path.join(folder_path, d, 'final_df.csv')) for d in directories if os.path.exists(os.path.join(folder_path, d, 'final_df.csv'))}\n",
    "\n",
    "    return df_dict"
   ]
  },
  {
   "cell_type": "code",
   "execution_count": 13,
   "metadata": {},
   "outputs": [],
   "source": [
    "l = read_csv_files('/Users/kuba/SkiApp/data/2023-12-31')"
   ]
  },
  {
   "cell_type": "code",
   "execution_count": 27,
   "metadata": {},
   "outputs": [],
   "source": [
    "l2 = read_csv_files('/Users/kuba/SkiApp/data/2024-01-05')"
   ]
  },
  {
   "cell_type": "code",
   "execution_count": 29,
   "metadata": {},
   "outputs": [],
   "source": [
    "def print_sorted_records(l):\n",
    "    \"\"\"Print the number of records per device, sorted by value\"\"\"\n",
    "    # Sort the dictionary by value\n",
    "    sorted_l = sorted(l.items(), key=lambda item: item[1].shape[0])\n",
    "\n",
    "    print(\"Number of records per device:\")\n",
    "    for key, val in sorted_l:\n",
    "        print(f'{key} : {val.shape[0]}')"
   ]
  },
  {
   "cell_type": "code",
   "execution_count": 30,
   "metadata": {},
   "outputs": [
    {
     "name": "stdout",
     "output_type": "stream",
     "text": [
      "Number of records per device:\n",
      "HUAWEI_Y7 : 80563\n",
      "OPPO_AX7 : 158392\n",
      "Sony_Xperia_M5 : 182385\n",
      "HUAWEI_P9_LITE : 188923\n",
      "Sony_Xperia_XA : 248381\n",
      "LENOVO_K6_NOTE : 307404\n",
      "LG_K10 : 313800\n",
      "HUAWEI_MATE : 317544\n",
      "HONOR_8X : 318276\n"
     ]
    }
   ],
   "source": [
    "print_sorted_records(l)"
   ]
  },
  {
   "cell_type": "code",
   "execution_count": 31,
   "metadata": {},
   "outputs": [
    {
     "name": "stdout",
     "output_type": "stream",
     "text": [
      "Number of records per device:\n",
      "HUAWEI_Y7 : 78586\n",
      "HUAWEI_P9_LITE : 254884\n",
      "OPPO_AX7 : 269704\n",
      "Sony_Xperia_M5 : 284409\n",
      "LENOVO_K6_NOTE : 311753\n",
      "LG_K10 : 312646\n",
      "Sony_Xperia_XA : 314733\n",
      "HUAWEI_MATE : 315562\n",
      "HONOR_8X : 317057\n"
     ]
    }
   ],
   "source": [
    "print_sorted_records(l2)›››"
   ]
  },
  {
   "cell_type": "code",
   "execution_count": 20,
   "metadata": {},
   "outputs": [
    {
     "name": "stdout",
     "output_type": "stream",
     "text": [
      "Number of records per device:\n",
      "Sony_Xperia_M5 : 182385\n",
      "OPPO_AX7 : 158392\n",
      "LENOVO_K6_NOTE : 307404\n",
      "HONOR_8X : 318276\n",
      "HUAWEI_P9_LITE : 188923\n",
      "Sony_Xperia_XA : 248381\n",
      "HUAWEI_Y7 : 80563\n",
      "LG_K10 : 313800\n",
      "HUAWEI_MATE : 317544\n"
     ]
    }
   ],
   "source": [
    "print(\"Number of records per device:\")\n",
    "for key, val in l.items():\n",
    "    print(f'{key} : {val.shape[0]}')"
   ]
  },
  {
   "cell_type": "code",
   "execution_count": 28,
   "metadata": {},
   "outputs": [
    {
     "name": "stdout",
     "output_type": "stream",
     "text": [
      "Number of records per device:\n",
      "Sony_Xperia_M5 : 284409\n",
      "OPPO_AX7 : 269704\n",
      "LENOVO_K6_NOTE : 311753\n",
      "HONOR_8X : 317057\n",
      "HUAWEI_P9_LITE : 254884\n",
      "Sony_Xperia_XA : 314733\n",
      "HUAWEI_Y7 : 78586\n",
      "LG_K10 : 312646\n",
      "HUAWEI_MATE : 315562\n"
     ]
    }
   ],
   "source": [
    "print(\"Number of records per device:\")\n",
    "for key, val in l2.items():\n",
    "    print(f'{key} : {val.shape[0]}')"
   ]
  },
  {
   "cell_type": "code",
   "execution_count": 11,
   "metadata": {},
   "outputs": [
    {
     "data": {
      "text/html": [
       "<div>\n",
       "<style scoped>\n",
       "    .dataframe tbody tr th:only-of-type {\n",
       "        vertical-align: middle;\n",
       "    }\n",
       "\n",
       "    .dataframe tbody tr th {\n",
       "        vertical-align: top;\n",
       "    }\n",
       "\n",
       "    .dataframe thead th {\n",
       "        text-align: right;\n",
       "    }\n",
       "</style>\n",
       "<table border=\"1\" class=\"dataframe\">\n",
       "  <thead>\n",
       "    <tr style=\"text-align: right;\">\n",
       "      <th></th>\n",
       "      <th>time</th>\n",
       "      <th>TotalAcceleration</th>\n",
       "      <th>Magnetometer</th>\n",
       "      <th>Gyroscope</th>\n",
       "      <th>Gravity</th>\n",
       "      <th>MagnetometerUncalibrated</th>\n",
       "      <th>GyroscopeUncalibrated</th>\n",
       "      <th>Accelerometer</th>\n",
       "      <th>Orientation</th>\n",
       "    </tr>\n",
       "  </thead>\n",
       "  <tbody>\n",
       "    <tr>\n",
       "      <th>0</th>\n",
       "      <td>2023-12-31 05:56:14.000</td>\n",
       "      <td>[9.395000457763672, -1.1100000143051147, -0.07...</td>\n",
       "      <td>[-82.75, 25.0, 0.25]</td>\n",
       "      <td>NaN</td>\n",
       "      <td>NaN</td>\n",
       "      <td>NaN</td>\n",
       "      <td>NaN</td>\n",
       "      <td>NaN</td>\n",
       "      <td>NaN</td>\n",
       "    </tr>\n",
       "    <tr>\n",
       "      <th>1</th>\n",
       "      <td>2023-12-31 05:56:14.100</td>\n",
       "      <td>[9.633999824523926, -0.7269999980926514, -0.23...</td>\n",
       "      <td>[-82.5, 24.25, -1.0]</td>\n",
       "      <td>NaN</td>\n",
       "      <td>NaN</td>\n",
       "      <td>NaN</td>\n",
       "      <td>NaN</td>\n",
       "      <td>NaN</td>\n",
       "      <td>NaN</td>\n",
       "    </tr>\n",
       "    <tr>\n",
       "      <th>2</th>\n",
       "      <td>2023-12-31 05:56:14.200</td>\n",
       "      <td>[10.04599952697754, -0.3059999942779541, -0.29...</td>\n",
       "      <td>[-82.0, 23.5, -0.5]</td>\n",
       "      <td>NaN</td>\n",
       "      <td>NaN</td>\n",
       "      <td>NaN</td>\n",
       "      <td>NaN</td>\n",
       "      <td>NaN</td>\n",
       "      <td>NaN</td>\n",
       "    </tr>\n",
       "    <tr>\n",
       "      <th>3</th>\n",
       "      <td>2023-12-31 05:56:14.300</td>\n",
       "      <td>[9.031000137329102, -0.9380000233650208, -0.46...</td>\n",
       "      <td>[-81.75, 25.5, 0.25]</td>\n",
       "      <td>NaN</td>\n",
       "      <td>NaN</td>\n",
       "      <td>NaN</td>\n",
       "      <td>NaN</td>\n",
       "      <td>NaN</td>\n",
       "      <td>NaN</td>\n",
       "    </tr>\n",
       "    <tr>\n",
       "      <th>4</th>\n",
       "      <td>2023-12-31 05:56:14.400</td>\n",
       "      <td>[9.807000160217283, -1.2829999923706057, -0.69...</td>\n",
       "      <td>[-83.25, 24.75, 1.75]</td>\n",
       "      <td>NaN</td>\n",
       "      <td>NaN</td>\n",
       "      <td>NaN</td>\n",
       "      <td>NaN</td>\n",
       "      <td>NaN</td>\n",
       "      <td>NaN</td>\n",
       "    </tr>\n",
       "    <tr>\n",
       "      <th>...</th>\n",
       "      <td>...</td>\n",
       "      <td>...</td>\n",
       "      <td>...</td>\n",
       "      <td>...</td>\n",
       "      <td>...</td>\n",
       "      <td>...</td>\n",
       "      <td>...</td>\n",
       "      <td>...</td>\n",
       "      <td>...</td>\n",
       "    </tr>\n",
       "    <tr>\n",
       "      <th>182380</th>\n",
       "      <td>2023-12-31 14:43:00.200</td>\n",
       "      <td>[8.916000366210938, 3.0350000858306885, 1.7710...</td>\n",
       "      <td>[1.5, -6.0, -7.0]</td>\n",
       "      <td>NaN</td>\n",
       "      <td>NaN</td>\n",
       "      <td>NaN</td>\n",
       "      <td>NaN</td>\n",
       "      <td>NaN</td>\n",
       "      <td>NaN</td>\n",
       "    </tr>\n",
       "    <tr>\n",
       "      <th>182381</th>\n",
       "      <td>2023-12-31 14:43:00.400</td>\n",
       "      <td>[5.23799991607666, 4.13700008392334, 0.2870000...</td>\n",
       "      <td>[0.0, -5.0, -5.5]</td>\n",
       "      <td>NaN</td>\n",
       "      <td>NaN</td>\n",
       "      <td>NaN</td>\n",
       "      <td>NaN</td>\n",
       "      <td>NaN</td>\n",
       "      <td>NaN</td>\n",
       "    </tr>\n",
       "    <tr>\n",
       "      <th>182382</th>\n",
       "      <td>2023-12-31 14:43:00.500</td>\n",
       "      <td>[11.798999786376951, 5.888999938964844, 1.2640...</td>\n",
       "      <td>[1.5, -4.5, -1.0]</td>\n",
       "      <td>NaN</td>\n",
       "      <td>NaN</td>\n",
       "      <td>NaN</td>\n",
       "      <td>NaN</td>\n",
       "      <td>NaN</td>\n",
       "      <td>NaN</td>\n",
       "    </tr>\n",
       "    <tr>\n",
       "      <th>182383</th>\n",
       "      <td>2023-12-31 14:43:00.600</td>\n",
       "      <td>[9.25100040435791, 2.632999897003174, 0.833000...</td>\n",
       "      <td>[2.25, -3.5, 0.5]</td>\n",
       "      <td>NaN</td>\n",
       "      <td>NaN</td>\n",
       "      <td>NaN</td>\n",
       "      <td>NaN</td>\n",
       "      <td>NaN</td>\n",
       "      <td>NaN</td>\n",
       "    </tr>\n",
       "    <tr>\n",
       "      <th>182384</th>\n",
       "      <td>2023-12-31 14:43:00.800</td>\n",
       "      <td>[8.427000045776367, 2.700000047683716, 0.36300...</td>\n",
       "      <td>[1.25, -0.5, -2.0]</td>\n",
       "      <td>NaN</td>\n",
       "      <td>NaN</td>\n",
       "      <td>NaN</td>\n",
       "      <td>NaN</td>\n",
       "      <td>NaN</td>\n",
       "      <td>NaN</td>\n",
       "    </tr>\n",
       "  </tbody>\n",
       "</table>\n",
       "<p>182385 rows × 9 columns</p>\n",
       "</div>"
      ],
      "text/plain": [
       "                           time  \\\n",
       "0       2023-12-31 05:56:14.000   \n",
       "1       2023-12-31 05:56:14.100   \n",
       "2       2023-12-31 05:56:14.200   \n",
       "3       2023-12-31 05:56:14.300   \n",
       "4       2023-12-31 05:56:14.400   \n",
       "...                         ...   \n",
       "182380  2023-12-31 14:43:00.200   \n",
       "182381  2023-12-31 14:43:00.400   \n",
       "182382  2023-12-31 14:43:00.500   \n",
       "182383  2023-12-31 14:43:00.600   \n",
       "182384  2023-12-31 14:43:00.800   \n",
       "\n",
       "                                        TotalAcceleration  \\\n",
       "0       [9.395000457763672, -1.1100000143051147, -0.07...   \n",
       "1       [9.633999824523926, -0.7269999980926514, -0.23...   \n",
       "2       [10.04599952697754, -0.3059999942779541, -0.29...   \n",
       "3       [9.031000137329102, -0.9380000233650208, -0.46...   \n",
       "4       [9.807000160217283, -1.2829999923706057, -0.69...   \n",
       "...                                                   ...   \n",
       "182380  [8.916000366210938, 3.0350000858306885, 1.7710...   \n",
       "182381  [5.23799991607666, 4.13700008392334, 0.2870000...   \n",
       "182382  [11.798999786376951, 5.888999938964844, 1.2640...   \n",
       "182383  [9.25100040435791, 2.632999897003174, 0.833000...   \n",
       "182384  [8.427000045776367, 2.700000047683716, 0.36300...   \n",
       "\n",
       "                 Magnetometer  Gyroscope  Gravity  MagnetometerUncalibrated  \\\n",
       "0        [-82.75, 25.0, 0.25]        NaN      NaN                       NaN   \n",
       "1        [-82.5, 24.25, -1.0]        NaN      NaN                       NaN   \n",
       "2         [-82.0, 23.5, -0.5]        NaN      NaN                       NaN   \n",
       "3        [-81.75, 25.5, 0.25]        NaN      NaN                       NaN   \n",
       "4       [-83.25, 24.75, 1.75]        NaN      NaN                       NaN   \n",
       "...                       ...        ...      ...                       ...   \n",
       "182380      [1.5, -6.0, -7.0]        NaN      NaN                       NaN   \n",
       "182381      [0.0, -5.0, -5.5]        NaN      NaN                       NaN   \n",
       "182382      [1.5, -4.5, -1.0]        NaN      NaN                       NaN   \n",
       "182383      [2.25, -3.5, 0.5]        NaN      NaN                       NaN   \n",
       "182384     [1.25, -0.5, -2.0]        NaN      NaN                       NaN   \n",
       "\n",
       "        GyroscopeUncalibrated  Accelerometer  Orientation  \n",
       "0                         NaN            NaN          NaN  \n",
       "1                         NaN            NaN          NaN  \n",
       "2                         NaN            NaN          NaN  \n",
       "3                         NaN            NaN          NaN  \n",
       "4                         NaN            NaN          NaN  \n",
       "...                       ...            ...          ...  \n",
       "182380                    NaN            NaN          NaN  \n",
       "182381                    NaN            NaN          NaN  \n",
       "182382                    NaN            NaN          NaN  \n",
       "182383                    NaN            NaN          NaN  \n",
       "182384                    NaN            NaN          NaN  \n",
       "\n",
       "[182385 rows x 9 columns]"
      ]
     },
     "execution_count": 11,
     "metadata": {},
     "output_type": "execute_result"
    }
   ],
   "source": [
    "l[0] #first dataframe"
   ]
  },
  {
   "cell_type": "code",
   "execution_count": 7,
   "metadata": {},
   "outputs": [
    {
     "data": {
      "text/plain": [
       "(80563, 9)"
      ]
     },
     "execution_count": 7,
     "metadata": {},
     "output_type": "execute_result"
    }
   ],
   "source": [
    "df.shape"
   ]
  },
  {
   "cell_type": "code",
   "execution_count": null,
   "metadata": {},
   "outputs": [],
   "source": []
  }
 ],
 "metadata": {
  "kernelspec": {
   "display_name": "ski_project",
   "language": "python",
   "name": "python3"
  },
  "language_info": {
   "codemirror_mode": {
    "name": "ipython",
    "version": 3
   },
   "file_extension": ".py",
   "mimetype": "text/x-python",
   "name": "python",
   "nbconvert_exporter": "python",
   "pygments_lexer": "ipython3",
   "version": "3.11.5"
  }
 },
 "nbformat": 4,
 "nbformat_minor": 2
}
