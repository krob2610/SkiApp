{
 "cells": [
  {
   "cell_type": "code",
   "execution_count": 2,
   "metadata": {},
   "outputs": [],
   "source": [
    "#test camera offset from one day different times of day\n",
    "from app.utils import calculate_camera_time_offset\n",
    "from"
   ]
  },
  {
   "cell_type": "code",
   "execution_count": 17,
   "metadata": {},
   "outputs": [
    {
     "data": {
      "text/plain": [
       "-395.0"
      ]
     },
     "execution_count": 17,
     "metadata": {},
     "output_type": "execute_result"
    }
   ],
   "source": [
    "PHONE_TIME = {\n",
    "    'hour': 8,\n",
    "    'minute': 36,\n",
    "    'second': 59,\n",
    "    'decisecond': 3,\n",
    "}\n",
    "PHONE_TIME_OFFSET = 305\n",
    "CAMERA_TIME = {\n",
    "    'hour': 8,\n",
    "    'minute': 37,\n",
    "    'second': 0,\n",
    "}\n",
    "calculate_camera_time_offset(PHONE_TIME= list(PHONE_TIME.values()), PHONE_OFFSET=PHONE_TIME_OFFSET, CAMERA_TIME=list((CAMERA_TIME).values()))"
   ]
  },
  {
   "cell_type": "code",
   "execution_count": 18,
   "metadata": {},
   "outputs": [
    {
     "data": {
      "text/plain": [
       "-1275.0"
      ]
     },
     "execution_count": 18,
     "metadata": {},
     "output_type": "execute_result"
    }
   ],
   "source": [
    "PHONE_TIME = {\n",
    "    'hour': 8,\n",
    "    'minute': 57,\n",
    "    'second': 49,\n",
    "    'milisecond': 5,\n",
    "}\n",
    "PHONE_TIME_OFFSET = 225\n",
    "CAMERA_TIME = {\n",
    "    'hour': 8,\n",
    "    'minute': 57,\n",
    "    'second': 51,\n",
    "}\n",
    "calculate_camera_time_offset(PHONE_TIME= list(PHONE_TIME.values()), PHONE_OFFSET=PHONE_TIME_OFFSET, CAMERA_TIME=list((CAMERA_TIME).values()))"
   ]
  },
  {
   "cell_type": "code",
   "execution_count": 15,
   "metadata": {},
   "outputs": [
    {
     "data": {
      "text/plain": [
       "1130.0"
      ]
     },
     "execution_count": 15,
     "metadata": {},
     "output_type": "execute_result"
    }
   ],
   "source": [
    "PHONE_TIME = {\n",
    "    'hour': 14,\n",
    "    'minute': 46,\n",
    "    'second': 57,\n",
    "    'milisecond': 9,\n",
    "}\n",
    "PHONE_TIME_OFFSET = 230\n",
    "CAMERA_TIME = {\n",
    "    'hour': 14,\n",
    "    'minute': 46,\n",
    "    'second': 57,\n",
    "}\n",
    "calculate_camera_time_offset(PHONE_TIME= list(PHONE_TIME.values()), PHONE_OFFSET=PHONE_TIME_OFFSET, CAMERA_TIME=list((CAMERA_TIME).values()))"
   ]
  },
  {
   "cell_type": "code",
   "execution_count": 13,
   "metadata": {},
   "outputs": [
    {
     "data": {
      "text/plain": [
       "-65.0"
      ]
     },
     "execution_count": 13,
     "metadata": {},
     "output_type": "execute_result"
    }
   ],
   "source": [
    "PHONE_TIME = {\n",
    "    'hour': 15,\n",
    "    'minute': 30,\n",
    "    'second': 40,\n",
    "    'milisecond': 7,\n",
    "}\n",
    "PHONE_TIME_OFFSET = 235\n",
    "CAMERA_TIME = {\n",
    "    'hour': 15,\n",
    "    'minute': 30,\n",
    "    'second': 41,\n",
    "}\n",
    "calculate_camera_time_offset(PHONE_TIME= list(PHONE_TIME.values()), PHONE_OFFSET=PHONE_TIME_OFFSET, CAMERA_TIME=list((CAMERA_TIME).values()))"
   ]
  },
  {
   "cell_type": "code",
   "execution_count": null,
   "metadata": {},
   "outputs": [],
   "source": [
    "#so it need to be calculated every time"
   ]
  },
  {
   "cell_type": "code",
   "execution_count": null,
   "metadata": {},
   "outputs": [],
   "source": []
  }
 ],
 "metadata": {
  "kernelspec": {
   "display_name": "ski_project",
   "language": "python",
   "name": "python3"
  },
  "language_info": {
   "codemirror_mode": {
    "name": "ipython",
    "version": 3
   },
   "file_extension": ".py",
   "mimetype": "text/x-python",
   "name": "python",
   "nbconvert_exporter": "python",
   "pygments_lexer": "ipython3",
   "version": "3.11.5"
  }
 },
 "nbformat": 4,
 "nbformat_minor": 2
}
